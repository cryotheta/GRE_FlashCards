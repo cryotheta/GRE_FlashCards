{
  "nbformat": 4,
  "nbformat_minor": 0,
  "metadata": {
    "colab": {
      "provenance": [],
      "authorship_tag": "ABX9TyPBJp8DWCUN7lEn63otqJst",
      "include_colab_link": true
    },
    "kernelspec": {
      "name": "python3",
      "display_name": "Python 3"
    },
    "language_info": {
      "name": "python"
    }
  },
  "cells": [
    {
      "cell_type": "markdown",
      "metadata": {
        "id": "view-in-github",
        "colab_type": "text"
      },
      "source": [
        "<a href=\"https://colab.research.google.com/github/cryotheta/GRE_FlashCards/blob/main/ai_magoosh.ipynb\" target=\"_parent\"><img src=\"https://colab.research.google.com/assets/colab-badge.svg\" alt=\"Open In Colab\"/></a>"
      ]
    },
    {
      "cell_type": "code",
      "execution_count": 1,
      "metadata": {
        "id": "X5i6gTHE9Mqy"
      },
      "outputs": [],
      "source": [
        "!pip install -U -q google-generativeai # Install the Python SDK"
      ]
    },
    {
      "cell_type": "code",
      "source": [
        "import google.generativeai as genai"
      ],
      "metadata": {
        "id": "LDs0CNcP9QwG"
      },
      "execution_count": 2,
      "outputs": []
    },
    {
      "cell_type": "code",
      "source": [
        "import pandas as pd\n",
        "import numpy as np"
      ],
      "metadata": {
        "id": "ffJK6J4l9TZX"
      },
      "execution_count": 35,
      "outputs": []
    },
    {
      "cell_type": "code",
      "source": [
        "wordlist=pd.read_csv('magoosh_list.csv',on_bad_lines='skip')\n",
        "words=wordlist['Magoosh 1000']"
      ],
      "metadata": {
        "id": "0MrH55OIBuB2"
      },
      "execution_count": 98,
      "outputs": []
    },
    {
      "cell_type": "code",
      "source": [
        "words.head()"
      ],
      "metadata": {
        "colab": {
          "base_uri": "https://localhost:8080/"
        },
        "id": "QxMvT_INB1vm",
        "outputId": "0150a73a-fd90-4526-c610-ed70b3914548"
      },
      "execution_count": 99,
      "outputs": [
        {
          "output_type": "execute_result",
          "data": {
            "text/plain": [
              "0      aberrant\n",
              "1    aberration\n",
              "2        abjure\n",
              "3    aboveboard\n",
              "4      abrogate\n",
              "Name: Magoosh 1000, dtype: object"
            ]
          },
          "metadata": {},
          "execution_count": 99
        }
      ]
    },
    {
      "cell_type": "code",
      "source": [
        "\n",
        "words[0]"
      ],
      "metadata": {
        "colab": {
          "base_uri": "https://localhost:8080/",
          "height": 35
        },
        "id": "p4MV80ZYEYsB",
        "outputId": "8b176945-7783-49e9-9d56-82b6ed619faa"
      },
      "execution_count": 100,
      "outputs": [
        {
          "output_type": "execute_result",
          "data": {
            "text/plain": [
              "'aberrant'"
            ],
            "application/vnd.google.colaboratory.intrinsic+json": {
              "type": "string"
            }
          },
          "metadata": {},
          "execution_count": 100
        }
      ]
    },
    {
      "cell_type": "code",
      "source": [
        "from google.colab import userdata\n",
        "GOOGLE_API_KEY=userdata.get('GOOGLE_API_KEY')\n",
        "genai.configure(api_key=GOOGLE_API_KEY)"
      ],
      "metadata": {
        "id": "-RP-JzpZCLTI"
      },
      "execution_count": 21,
      "outputs": []
    },
    {
      "cell_type": "code",
      "source": [
        "interests=['sports','technology','modern politics', 'hollywood actors','anime','photography','bollywood','insta celebs','reality tv']\n",
        "interests_key_generator=len(interests)-1\n",
        "modes=['witty','ironic','thoughtful']\n"
      ],
      "metadata": {
        "id": "UlEAsRhzEbrC"
      },
      "execution_count": 109,
      "outputs": []
    },
    {
      "cell_type": "code",
      "source": [
        "#Prompt strings\n",
        "preface=f\"Write a sentence in {modes[np.random.randint(0,2)]} style, using one of the examples in the above passage that illustrates the meaning of the word\"\n",
        "backcover=\"The person is interested in \"\n",
        "ending=\"The generated sentence should incorporate of the topics the person is interested in and one news item from the passage.\""
      ],
      "metadata": {
        "id": "dr70HNpGE6MF"
      },
      "execution_count": 110,
      "outputs": []
    },
    {
      "cell_type": "code",
      "source": [
        "model = genai.GenerativeModel('gemini-pro',generation_config=genai.GenerationConfig(\n",
        "        max_output_tokens=1000,\n",
        "        temperature=0.9,\n",
        "        #stop_sequences=['\\n2']\n",
        "    ),\n",
        "                              safety_settings={\n",
        "        'HATE': 'BLOCK_NONE',\n",
        "        'HARASSMENT': 'BLOCK_NONE',\n",
        "        'DANGEROUS' : 'BLOCK_NONE'\n",
        "    })\n"
      ],
      "metadata": {
        "id": "N3iSnkuNCOCa"
      },
      "execution_count": 139,
      "outputs": []
    },
    {
      "cell_type": "code",
      "source": [
        "prompt=preface+' '+words[np.random.randint(1,20)]+' '+backcover+' '+interests[np.random.randint(0,interests_key_generator)]+' '+ending\n",
        "response = model.generate_content(prompt)\n",
        "print(prompt)\n",
        "print(response.text)"
      ],
      "metadata": {
        "colab": {
          "base_uri": "https://localhost:8080/",
          "height": 72
        },
        "id": "IUvBOCDuF6MP",
        "outputId": "160e492d-23a2-4355-897a-952cc07457d4"
      },
      "execution_count": 140,
      "outputs": [
        {
          "output_type": "stream",
          "name": "stdout",
          "text": [
            "Write a sentence in ironic style, using one of the examples in the above passage that illustrates the meaning of the word aboveboard The person is interested in  bollywood The generated sentence should incorporate of the topics the person is interested in and one news item from the passage.\n",
            "I'm eagerly awaiting the next Bollywood blockbuster, which will undoubtedly be a model of aboveboard filmmaking and integrity, just like the recent financial dealings in the industry.\n"
          ]
        }
      ]
    },
    {
      "cell_type": "code",
      "source": [
        "generated=[]\n",
        "for i in range(1000):\n",
        "  chat = model.start_chat(history=[])\n",
        "  try:\n",
        "    response = chat.send_message(f\"Give me a famous piece of trivia from {interests[np.random.randint(0,interests_key_generator)]}?\")\n",
        "    print(response.text)\n",
        "    #response=chat.send_message(response.text+' .Select a single news item and format the above text to clean readable english.')\n",
        "    output=chat.send_message(response.text+' '+f'rephrase the news item using the word {words[i]}, make your response {modes[np.random.randint(0,2)]}. The output should be a single gramatically correct sentence.')\n",
        "    #print(prompt)\n",
        "    print(output.text)\n",
        "    generated.append((words[i],output.text))\n",
        "  except:\n",
        "    continue\n",
        "\n"
      ],
      "metadata": {
        "colab": {
          "base_uri": "https://localhost:8080/",
          "height": 1000
        },
        "id": "h1yv-qSyIcKf",
        "outputId": "555a2f59-db5a-4ec2-81c1-e7c47ce0a383"
      },
      "execution_count": 144,
      "outputs": [
        {
          "output_type": "stream",
          "name": "stdout",
          "text": [
            "The first computer virus was created in 1986 by two Pakistani brothers, Basit and Amjad Farooq Alvi. Named the \"Brain\" virus, it was distributed through floppy disks and infected the boot sector of MS-DOS.\n",
            "Ironically, the aptly named \"Brain\" virus, the first aberrant digital entity, emerged from the minds of two Pakistani brothers in 1986, infecting the nascent world of computing through the humble floppy disk.\n",
            "* **Tom Cruise's real name is Thomas Cruise Mapother IV.**\n",
            "* **Brad Pitt's middle name is Pitt.**\n",
            "* **Natalie Portman's birth name is Natalie Hershlag.**\n",
            "* **Angelina Jolie's middle name is Jolie.**\n",
            "* **Leonardo DiCaprio's middle name is Wilhelm.**\n",
            "**Hollywood's A-listers are full of surprises, with Tom Cruise's real name being the most Mapother-ish aberration of all.**\n",
            "Tom Hanks lost 50 pounds to play Chuck Noland in Cast Away (2000), then gained it all back plus another 30 pounds to play Carl Hanratty in Catch Me If You Can (2002).\n",
            "Tom Hanks abjured 50 pounds for Cast Away, only to gain 80 more for Catch Me If You Can, proving that Hollywood actors will do anything for a role... except, apparently, exercise self-control.\n",
            "In 2008, Barack Obama became the first African-American president of the United States.\n",
            "Aboveboard Barack Obama became the first African-American president of the United States in 2008, despite the fact that he was born in Kenya and is a Muslim.\n",
            "Khloé Kardashian has a secret talent for ventriloquism.\n",
            "Khloé Kardashian's ventriloquism talent is so abrogated that her dummy has its own Instagram account.\n",
            "In the anime series \"Naruto\", the ninja village of Konohagakure is actually based on a real village in Japan called Takayama.\n",
            "Despite the fact that Konohagakure is based on a real Japanese village, the ninja inhabitants of the anime series \"Naruto\" ironically abstain from sake, the traditional alcoholic beverage of Japan.\n",
            "The character Naruto Uzumaki from the popular anime series \"Naruto\" is named after a type of fish cake called \"Narutomaki\" that is often used as a topping for ramen noodles.\n",
            "Ichiraku Ramen's secret ingredient is so abstruse that only the most discerning palates can detect the subtle notes of Narutomaki fish cake in their bowls of noodles.\n",
            "During the 2016 U.S. presidential election, Donald Trump won the Electoral College but lost the popular vote by nearly 3 million votes. This marked only the fifth time in American history that a candidate won the presidency without winning the popular vote.\n",
            "In 2016, Donald Trump's abysmal popular vote loss of nearly 3 million votes was only the fifth time in American history that a presidential candidate won the Electoral College without winning the popular vote.\n",
            "The first computer bug was a moth that got stuck in the Mark II Aiken Relay Calculator at Harvard University in 1947.\n",
            "The Mark II Aiken Relay Calculator, in a rare accolade for machinery, ate a moth in 1947, pioneering the field of computer entomology.\n",
            "In 1985, Michael Jordan was cut from his high school basketball team.\n",
            "Acerbically, Michael Jordan was deemed insufficient for his high school basketball team in 1985, a decision that would later be considered one of the most ironic in sports history.\n",
            "Babe Ruth called his famous bat \"Black Betsy.\"\n",
            "Babe Ruth's legendary bat, \"Black Betsy,\" was the acme of his hitting prowess, a mighty lumberjack that felled many a baseball.\n",
            "In 2016, Donald Trump was elected President of the United States despite losing the popular vote to Hillary Clinton by nearly 3 million votes.\n",
            "In a stunning display of acrimony, the American people elected Donald Trump president in 2016, despite the fact that he lost the popular vote by nearly 3 million votes.\n",
            "* In the anime series \"Naruto,\" the main character, Naruto Uzumaki, has a demon fox named Kurama sealed inside of him. This demon fox is actually based on a real-life creature from Japanese folklore called a kitsune.\n",
            "Despite being adamant that the demon fox sealed inside him is a figment of his imagination, Naruto Uzumaki is constantly reminded of its existence by the whisker-like birthmarks on his face.\n",
            "In 2015, Donald Trump misspelled the word \"loser\" as \"looser\" in a tweet criticizing Hillary Clinton. The typo became a meme and was frequently used by Trump's opponents to mock his intelligence and attention to detail.\n",
            "In a stunning display of irony, the self-proclaimed \"very stable genius\" Donald Trump was adjudicated a \"looser\" by the court of public opinion after misspelling the word \"loser\" in a tweet.\n"
          ]
        },
        {
          "output_type": "stream",
          "name": "stderr",
          "text": [
            "WARNING:tornado.access:429 POST /v1beta/models/gemini-pro:generateContent?%24alt=json%3Benum-encoding%3Dint (127.0.0.1) 1014.27ms\n",
            "WARNING:tornado.access:429 POST /v1beta/models/gemini-pro:generateContent?%24alt=json%3Benum-encoding%3Dint (127.0.0.1) 1017.42ms\n",
            "WARNING:tornado.access:429 POST /v1beta/models/gemini-pro:generateContent?%24alt=json%3Benum-encoding%3Dint (127.0.0.1) 1444.33ms\n",
            "WARNING:tornado.access:429 POST /v1beta/models/gemini-pro:generateContent?%24alt=json%3Benum-encoding%3Dint (127.0.0.1) 1220.62ms\n",
            "WARNING:tornado.access:429 POST /v1beta/models/gemini-pro:generateContent?%24alt=json%3Benum-encoding%3Dint (127.0.0.1) 1371.91ms\n",
            "WARNING:tornado.access:429 POST /v1beta/models/gemini-pro:generateContent?%24alt=json%3Benum-encoding%3Dint (127.0.0.1) 1546.32ms\n"
          ]
        },
        {
          "output_type": "stream",
          "name": "stdout",
          "text": [
            "In 1998, Michael Jordan famously hit the game-winning shot in Game 6 of the NBA Finals against the Utah Jazz, securing the Chicago Bulls' sixth championship. He then uttered the iconic line, \"And I took that personally,\" in reference to the Jazz's trash-talking before the game.\n"
          ]
        },
        {
          "output_type": "stream",
          "name": "stderr",
          "text": [
            "WARNING:tornado.access:429 POST /v1beta/models/gemini-pro:generateContent?%24alt=json%3Benum-encoding%3Dint (127.0.0.1) 965.06ms\n",
            "WARNING:tornado.access:429 POST /v1beta/models/gemini-pro:generateContent?%24alt=json%3Benum-encoding%3Dint (127.0.0.1) 1421.80ms\n",
            "WARNING:tornado.access:429 POST /v1beta/models/gemini-pro:generateContent?%24alt=json%3Benum-encoding%3Dint (127.0.0.1) 1893.40ms\n",
            "WARNING:tornado.access:429 POST /v1beta/models/gemini-pro:generateContent?%24alt=json%3Benum-encoding%3Dint (127.0.0.1) 1368.64ms\n",
            "WARNING:tornado.access:429 POST /v1beta/models/gemini-pro:generateContent?%24alt=json%3Benum-encoding%3Dint (127.0.0.1) 1421.76ms\n",
            "WARNING:tornado.access:429 POST /v1beta/models/gemini-pro:generateContent?%24alt=json%3Benum-encoding%3Dint (127.0.0.1) 1392.81ms\n"
          ]
        },
        {
          "output_type": "stream",
          "name": "stdout",
          "text": [
            "The first home run in Major League Baseball history was hit by Cincinnati Red Stockings' shortstop George Wright on May 4, 1876, at the Chicago White Stockings' home field.\n",
            "George Wright's ambivalent swing at a meatball resulted in the first home run in Major League Baseball on May 4, 1876.\n",
            "In 2000, during the US presidential election, the outcome of the election came down to a recount in the state of Florida. The recount was so close that the results had to be manually recounted by hand. In the end, George W. Bush won the election by just 537 votes. This was the closest presidential election in US history.\n",
            "Despite the razor-thin margin and the need for a manual recount, the 2000 presidential election was **ameliorated** by the fact that George W. Bush ultimately prevailed by a decisive 537 votes.\n",
            "The first computer mouse was made of wood.\n",
            "Despite its humble wooden beginnings, the computer mouse has proven to be an amenable tool for controlling our digital lives.\n",
            "Harrison Ford was a carpenter before becoming an actor.\n",
            "Despite his amiable demeanor, Harrison Ford's true calling wasn't hammering nails but captivating audiences on the silver screen.\n",
            "Michael Jordan wore the No. 45 jersey during the 1995-96 NBA season because his No. 23 jersey had been stolen.\n",
            "Ironically, Michael Jordan's amorphous No. 23 jersey theft forced him to wear the No. 45 jersey during the 1995-96 NBA season.\n",
            "The name of Amitabh Bachchan's iconic character in the movie \"Sholay\" was originally \"Vijay\" but was later changed to \"Jai\" at the insistence of his father, Harivansh Rai Bachchan.\n",
            "Amply influenced by his father's wise counsel, Amitabh Bachchan's character in \"Sholay\" evolved from \"Vijay\" to the legendary \"Jai.\"\n",
            "Dilip Kumar and Raj Kapoor, two legendary Bollywood actors, were born on the same day - December 11, 1922.\n",
            "**Ironic Rephrase:**\n",
            "\n",
            "On December 11, 1922, Bollywood went amuck with joy as two legendary actors, Dilip Kumar and Raj Kapoor, were born on the same day.\n",
            "Sarah Palin's daughter, Bristol, gave birth to a son named Tripp in 2008, just seven months after Sarah Palin was elected governor of Alaska. This made Sarah Palin the first governor in U.S. history to have a pregnant teenage daughter while in office.\n",
            "Sarah Palin's pregnant teenage daughter was an anachronism in the 21st century, a throwback to the days when unwed mothers were considered social outcasts.\n",
            "Alfred Hitchcock had a fear of eggs and would often refuse to work with actors who had egg-shaped heads.\n",
            "Ironically, Alfred Hitchcock's fear of eggs was analogous to his aversion to actors with egg-shaped heads.\n"
          ]
        },
        {
          "output_type": "stream",
          "name": "stderr",
          "text": [
            "WARNING:tornado.access:429 POST /v1beta/models/gemini-pro:generateContent?%24alt=json%3Benum-encoding%3Dint (127.0.0.1) 1014.79ms\n",
            "WARNING:tornado.access:429 POST /v1beta/models/gemini-pro:generateContent?%24alt=json%3Benum-encoding%3Dint (127.0.0.1) 1014.76ms\n",
            "WARNING:tornado.access:429 POST /v1beta/models/gemini-pro:generateContent?%24alt=json%3Benum-encoding%3Dint (127.0.0.1) 1422.42ms\n",
            "WARNING:tornado.access:429 POST /v1beta/models/gemini-pro:generateContent?%24alt=json%3Benum-encoding%3Dint (127.0.0.1) 1344.11ms\n",
            "WARNING:tornado.access:429 POST /v1beta/models/gemini-pro:generateContent?%24alt=json%3Benum-encoding%3Dint (127.0.0.1) 1371.84ms\n",
            "WARNING:tornado.access:429 POST /v1beta/models/gemini-pro:generateContent?%24alt=json%3Benum-encoding%3Dint (127.0.0.1) 1317.68ms\n",
            "WARNING:tornado.access:429 POST /v1beta/models/gemini-pro:generateContent?%24alt=json%3Benum-encoding%3Dint (127.0.0.1) 1318.49ms\n",
            "WARNING:tornado.access:429 POST /v1beta/models/gemini-pro:generateContent?%24alt=json%3Benum-encoding%3Dint (127.0.0.1) 1267.41ms\n",
            "WARNING:tornado.access:429 POST /v1beta/models/gemini-pro:generateContent?%24alt=json%3Benum-encoding%3Dint (127.0.0.1) 1368.86ms\n",
            "WARNING:tornado.access:429 POST /v1beta/models/gemini-pro:generateContent?%24alt=json%3Benum-encoding%3Dint (127.0.0.1) 1318.08ms\n",
            "WARNING:tornado.access:429 POST /v1beta/models/gemini-pro:generateContent?%24alt=json%3Benum-encoding%3Dint (127.0.0.1) 1296.15ms\n",
            "WARNING:tornado.access:429 POST /v1beta/models/gemini-pro:generateContent?%24alt=json%3Benum-encoding%3Dint (127.0.0.1) 1394.53ms\n",
            "WARNING:tornado.access:429 POST /v1beta/models/gemini-pro:generateContent?%24alt=json%3Benum-encoding%3Dint (127.0.0.1) 1677.22ms\n",
            "WARNING:tornado.access:429 POST /v1beta/models/gemini-pro:generateContent?%24alt=json%3Benum-encoding%3Dint (127.0.0.1) 1346.42ms\n",
            "WARNING:tornado.access:429 POST /v1beta/models/gemini-pro:generateContent?%24alt=json%3Benum-encoding%3Dint (127.0.0.1) 1394.91ms\n",
            "WARNING:tornado.access:429 POST /v1beta/models/gemini-pro:generateContent?%24alt=json%3Benum-encoding%3Dint (127.0.0.1) 1317.92ms\n",
            "WARNING:tornado.access:429 POST /v1beta/models/gemini-pro:generateContent?%24alt=json%3Benum-encoding%3Dint (127.0.0.1) 2252.65ms\n"
          ]
        },
        {
          "output_type": "stream",
          "name": "stdout",
          "text": [
            "Nobody has ever officially won back-to-back Super Bowls as a quarterback and head coach.\n",
            "Ironically, the apocryphal feat of winning back-to-back Super Bowls as both quarterback and head coach remains unaccomplished.\n",
            "The first computer mouse was made of wood.\n",
            "Wooden mice heralded the apogee of computer engineering.\n",
            "Kylie Jenner's lips became a social media phenomenon, inspiring countless memes and cosmetic procedures.\n",
            "In the original Japanese version of \"Dragon Ball Z,\" Goku's signature attack, the \"Kamehameha,\" is named after \"Kame Sen'nin,\" his martial arts mentor.\n",
            "Apothegm: \"The student surpasses the master,\" as ironically demonstrated by Goku's \"Kamehameha,\" named after his mentor \"Kame Sen'nin\" in the original Japanese \"Dragon Ball Z.\"\n",
            "Michael Jordan has a fear of water.\n",
            "Michael Jordan, despite his aquatic phobia, reached the apotheosis of basketball like a fish to water.\n",
            "Christopher Walken has his own branded line of catnip for cats called \"Walken's Catnip Nibblers.\"\n",
            "In 2008, Sarah Palin was the first female vice-presidential nominee for a major political party in the United States.\n",
            "Despite her appreciable lack of qualifications, Sarah Palin became the first female vice-presidential nominee for a major political party in the United States in 2008.\n",
            "In 2016, Donald Trump became the oldest person to be elected President of the United States at the age of 70.\n",
            "With apprehension, the American people elected Donald Trump as their oldest president ever at the ripe old age of 70.\n",
            "The first photograph of a human being was taken in 1838 by Louis Daguerre and captured two men getting their shoes shined in a busy Paris street.\n"
          ]
        },
        {
          "output_type": "stream",
          "name": "stderr",
          "text": [
            "WARNING:tornado.access:429 POST /v1beta/models/gemini-pro:generateContent?%24alt=json%3Benum-encoding%3Dint (127.0.0.1) 938.55ms\n"
          ]
        },
        {
          "output_type": "stream",
          "name": "stdout",
          "text": [
            "In the movie \"Sholay\" (1975), the famous line \"Kitne aadmi the?\" (\"How many men were there?\") was actually not in the original script. It was actor Amjad Khan's improvisation on set, and director Ramesh Sippy decided to keep it in the film.\n",
            "In a moment of on-set brilliance, Amjad Khan's improvised line \"Kitne aadmi the?\" became an iconic piece of Bollywood trivia, proving that even the most legendary scripts can benefit from a touch of improvisation.\n"
          ]
        },
        {
          "output_type": "stream",
          "name": "stderr",
          "text": [
            "WARNING:tornado.access:429 POST /v1beta/models/gemini-pro:generateContent?%24alt=json%3Benum-encoding%3Dint (127.0.0.1) 836.81ms\n",
            "WARNING:tornado.access:429 POST /v1beta/models/gemini-pro:generateContent?%24alt=json%3Benum-encoding%3Dint (127.0.0.1) 1089.89ms\n",
            "WARNING:tornado.access:429 POST /v1beta/models/gemini-pro:generateContent?%24alt=json%3Benum-encoding%3Dint (127.0.0.1) 1496.44ms\n",
            "WARNING:tornado.access:429 POST /v1beta/models/gemini-pro:generateContent?%24alt=json%3Benum-encoding%3Dint (127.0.0.1) 1621.86ms\n",
            "WARNING:tornado.access:429 POST /v1beta/models/gemini-pro:generateContent?%24alt=json%3Benum-encoding%3Dint (127.0.0.1) 1422.99ms\n",
            "WARNING:tornado.access:429 POST /v1beta/models/gemini-pro:generateContent?%24alt=json%3Benum-encoding%3Dint (127.0.0.1) 1524.46ms\n",
            "WARNING:tornado.access:429 POST /v1beta/models/gemini-pro:generateContent?%24alt=json%3Benum-encoding%3Dint (127.0.0.1) 1444.74ms\n",
            "WARNING:tornado.access:429 POST /v1beta/models/gemini-pro:generateContent?%24alt=json%3Benum-encoding%3Dint (127.0.0.1) 1551.35ms\n",
            "WARNING:tornado.access:429 POST /v1beta/models/gemini-pro:generateContent?%24alt=json%3Benum-encoding%3Dint (127.0.0.1) 1471.35ms\n",
            "WARNING:tornado.access:429 POST /v1beta/models/gemini-pro:generateContent?%24alt=json%3Benum-encoding%3Dint (127.0.0.1) 1575.59ms\n",
            "WARNING:tornado.access:429 POST /v1beta/models/gemini-pro:generateContent?%24alt=json%3Benum-encoding%3Dint (127.0.0.1) 1095.57ms\n",
            "WARNING:tornado.access:429 POST /v1beta/models/gemini-pro:generateContent?%24alt=json%3Benum-encoding%3Dint (127.0.0.1) 1444.70ms\n",
            "WARNING:tornado.access:429 POST /v1beta/models/gemini-pro:generateContent?%24alt=json%3Benum-encoding%3Dint (127.0.0.1) 1318.00ms\n",
            "WARNING:tornado.access:429 POST /v1beta/models/gemini-pro:generateContent?%24alt=json%3Benum-encoding%3Dint (127.0.0.1) 1394.57ms\n"
          ]
        },
        {
          "output_type": "stream",
          "name": "stdout",
          "text": [
            "Ariana Grande has a fear of spoons.\n",
            "Ariana Grande's fear of spoons is so ascetic, she'd rather slurp soup with a straw.\n",
            "The first permanent photograph was created by Nicéphore Niépce in 1826. The photograph, titled \"View from the Window at Le Gras,\" was taken from an upstairs window of Niépce's house in Saint-Loup-de-Varennes, France. The exposure time was eight hours, and the image was created on a pewter plate coated with bitumen.\n",
            "We can ascribe the invention of permanent photography to Nicéphore Niépce, who, in 1826, managed to capture a stunning view from his upstairs window after an arduous eight-hour exposure.\n",
            "The first photograph of a human was taken in 1838 by Robert Cornelius, an American amateur chemist and photography enthusiast.\n",
            "Did you know that the first photograph of a human was taken in 1838 by Robert Cornelius, an American amateur chemist and photography enthusiast who likely looked askance at the newfangled daguerreotype process?\n",
            "Selena Gomez's Instagram post revealing her new kidney transplant in 2017 became the most-liked Instagram post of all time.\n",
            "Selena Gomez's Instagram post about her kidney transplant was so well-received, it smoothed out the asperity of the internet's rocky terrain, becoming the most-liked post of all time.\n",
            "The first computer virus was created in 1986 by two brothers in Pakistan, Basit and Amjad Farooq Alvi. It was called the \"Brain\" virus and it infected the boot sector of floppy disks.\n",
            "The Brain virus, ironically named for its deleterious effects, assailed the boot sector of floppy disks in 1986, courtesy of the Alvi brothers' digital mischief.\n",
            "Humphrey Bogart only had 12 lines in his role as Captain Queeg in the movie \"The Caine Mutiny\", and his character was killed off early in the plot. However, his performance was so powerful that he received an Academy Award nomination for \"Best Supporting Actor.\"\n",
            "Despite his character's untimely demise and scant dialogue (a mere 12 lines!), Humphrey Bogart's assiduous performance in \"The Caine Mutiny\" earned him an Oscar nod for Best Supporting Actor, proving that even in brevity, brilliance can shine.\n",
            "The main character in the anime \"Naruto\" is named after a type of fish cake, Narutomaki.\n",
            "Naruto's parents must have been huge fish cake enthusiasts, given that they named their son after a type of Narutomaki, a fish cake with a pink渦巻きdesign that ironically assuages the pain of childbirth!\n",
            "In the 1888 photograph \"The Kiss\" by Gustav Klimt, the woman's left hand is actually the artist's own.\n",
            "Gustav Klimt's \"The Kiss\" is a surprisingly atavistic work, featuring the artist's own hand as the woman's left hand.\n",
            "The iconic song \"Ek Ladki Ko Dekha Toh Aisa Laga\" from the movie \"1942: A Love Story\" (1994) was originally not intended for the film. It was composed by R.D. Burman for a different project, but when director Vidhu Vinod Chopra heard it, he was so impressed that he persuaded Burman to use it in his movie.\n"
          ]
        },
        {
          "output_type": "stream",
          "name": "stderr",
          "text": [
            "WARNING:tornado.access:429 POST /v1beta/models/gemini-pro:generateContent?%24alt=json%3Benum-encoding%3Dint (127.0.0.1) 914.83ms\n"
          ]
        },
        {
          "output_type": "stream",
          "name": "stdout",
          "text": [
            "The first photograph of a human was taken in 1838 by Louis Daguerre and is known as \"Boulevard du Temple\". It accidentally captured a man having his shoes shined in the bottom left corner of the image.\n"
          ]
        },
        {
          "output_type": "stream",
          "name": "stderr",
          "text": [
            "WARNING:tornado.access:429 POST /v1beta/models/gemini-pro:generateContent?%24alt=json%3Benum-encoding%3Dint (127.0.0.1) 941.35ms\n",
            "WARNING:tornado.access:429 POST /v1beta/models/gemini-pro:generateContent?%24alt=json%3Benum-encoding%3Dint (127.0.0.1) 1040.87ms\n",
            "WARNING:tornado.access:429 POST /v1beta/models/gemini-pro:generateContent?%24alt=json%3Benum-encoding%3Dint (127.0.0.1) 1318.71ms\n",
            "WARNING:tornado.access:429 POST /v1beta/models/gemini-pro:generateContent?%24alt=json%3Benum-encoding%3Dint (127.0.0.1) 1343.65ms\n",
            "WARNING:tornado.access:429 POST /v1beta/models/gemini-pro:generateContent?%24alt=json%3Benum-encoding%3Dint (127.0.0.1) 1597.62ms\n"
          ]
        },
        {
          "output_type": "stream",
          "name": "stdout",
          "text": [
            "In 2008, Sarah Palin was the first person to use the term \"death panel\" during a presidential campaign debate. The term was used to describe a provision in the Affordable Care Act that would have allowed for end-of-life counseling for seniors. The term was widely criticized as being misleading and inaccurate, and it has since been used by opponents of the Affordable Care Act to describe the law's provisions for end-of-life care.\n"
          ]
        },
        {
          "output_type": "stream",
          "name": "stderr",
          "text": [
            "WARNING:tornado.access:429 POST /v1beta/models/gemini-pro:generateContent?%24alt=json%3Benum-encoding%3Dint (127.0.0.1) 864.62ms\n",
            "WARNING:tornado.access:429 POST /v1beta/models/gemini-pro:generateContent?%24alt=json%3Benum-encoding%3Dint (127.0.0.1) 966.84ms\n",
            "WARNING:tornado.access:429 POST /v1beta/models/gemini-pro:generateContent?%24alt=json%3Benum-encoding%3Dint (127.0.0.1) 1400.93ms\n",
            "WARNING:tornado.access:429 POST /v1beta/models/gemini-pro:generateContent?%24alt=json%3Benum-encoding%3Dint (127.0.0.1) 1401.12ms\n",
            "WARNING:tornado.access:429 POST /v1beta/models/gemini-pro:generateContent?%24alt=json%3Benum-encoding%3Dint (127.0.0.1) 1495.51ms\n",
            "WARNING:tornado.access:429 POST /v1beta/models/gemini-pro:generateContent?%24alt=json%3Benum-encoding%3Dint (127.0.0.1) 1555.48ms\n",
            "WARNING:tornado.access:429 POST /v1beta/models/gemini-pro:generateContent?%24alt=json%3Benum-encoding%3Dint (127.0.0.1) 1499.21ms\n",
            "WARNING:tornado.access:429 POST /v1beta/models/gemini-pro:generateContent?%24alt=json%3Benum-encoding%3Dint (127.0.0.1) 1402.04ms\n"
          ]
        },
        {
          "output_type": "stream",
          "name": "stdout",
          "text": [
            "The first photograph of a person was taken in 1838 by Robert Cornelius, who used a daguerreotype process to capture his own image.\n",
            "Despite photography's humble beginnings with Cornelius balking at the idea of capturing his own image in 1838, it has since become an indispensable tool for preserving memories and moments.\n",
            "**Studio Ghibli's Totoro is based on a real-life creature.**\n",
            "\n",
            "In Japanese folklore, Totoro is a yokai (supernatural creature) known as a kodama, a tree spirit that inhabits the camphor tree. The inspiration for Studio Ghibli's beloved character, Totoro, came from one of the co-founders, Hayao Miyazaki, who saw a kodama statue while visiting a shrine.\n",
            "**Totoro, that iconic Ghibli character, is just a run-of-the-mill tree spirit in Japanese folklore.**\n",
            "Barack Obama is the only U.S. president to have won a Grammy Award.\n",
            "Barack Obama is the only U.S. president to have won a Grammy, a fact so banal it could make C-SPAN blush.\n",
            "The character Goku from the anime series Dragon Ball is based on the Monkey King, a legendary figure from the Chinese novel Journey to the West.\n",
            "In a cruel twist of fate, Goku, the beloved protagonist of Dragon Ball, was banished from his Chinese literary roots, leaving behind the Monkey King's legacy in the dust.\n",
            "Bill Gates dropped out of Harvard University to start Microsoft.\n",
            "Microsoft was founded on the unshakeable base of Bill Gates' dropped Harvard classes.\n",
            "In the anime series \"Dragon Ball Z,\" the character Piccolo's name is a play on words. \"Piccolo\" is Italian for \"small,\" which is fitting considering he is a diminutive Namekian. However, his name is also a pun on the Japanese word \"piano,\" which is what he plays during the filler episodes in the anime.\n",
            "Piccolo's name is a hilarious bastardization of the Italian word for \"small\" and the Japanese word for \"piano,\" perfectly capturing his diminutive stature and unexpected musical talents.\n",
            "The first computer mouse was made of wood.\n",
            "Ironically, the first computer mouse, a device that has become synonymous with modern technology, was made of wood, a material typically associated with the past.\n"
          ]
        },
        {
          "output_type": "stream",
          "name": "stderr",
          "text": [
            "WARNING:tornado.access:429 POST /v1beta/models/gemini-pro:generateContent?%24alt=json%3Benum-encoding%3Dint (127.0.0.1) 812.72ms\n",
            "WARNING:tornado.access:429 POST /v1beta/models/gemini-pro:generateContent?%24alt=json%3Benum-encoding%3Dint (127.0.0.1) 992.63ms\n"
          ]
        },
        {
          "output_type": "stream",
          "name": "stdout",
          "text": [
            "Former US President Donald Trump is the only US president to be impeached twice.\n",
            "It behooves us to remember that Donald Trump is the only US president to be impeached twice, a distinction that should fill us with pride and not a twinge of irony.\n"
          ]
        },
        {
          "output_type": "stream",
          "name": "stderr",
          "text": [
            "WARNING:tornado.access:429 POST /v1beta/models/gemini-pro:generateContent?%24alt=json%3Benum-encoding%3Dint (127.0.0.1) 963.31ms\n",
            "WARNING:tornado.access:429 POST /v1beta/models/gemini-pro:generateContent?%24alt=json%3Benum-encoding%3Dint (127.0.0.1) 1015.47ms\n",
            "WARNING:tornado.access:429 POST /v1beta/models/gemini-pro:generateContent?%24alt=json%3Benum-encoding%3Dint (127.0.0.1) 1833.81ms\n",
            "WARNING:tornado.access:429 POST /v1beta/models/gemini-pro:generateContent?%24alt=json%3Benum-encoding%3Dint (127.0.0.1) 1398.95ms\n",
            "WARNING:tornado.access:429 POST /v1beta/models/gemini-pro:generateContent?%24alt=json%3Benum-encoding%3Dint (127.0.0.1) 1371.81ms\n",
            "WARNING:tornado.access:429 POST /v1beta/models/gemini-pro:generateContent?%24alt=json%3Benum-encoding%3Dint (127.0.0.1) 1423.62ms\n",
            "WARNING:tornado.access:429 POST /v1beta/models/gemini-pro:generateContent?%24alt=json%3Benum-encoding%3Dint (127.0.0.1) 1369.76ms\n"
          ]
        },
        {
          "output_type": "stream",
          "name": "stdout",
          "text": [
            "The first photograph of a human being was taken in 1838, and it was a self-portrait by Robert Cornelius.\n"
          ]
        },
        {
          "output_type": "stream",
          "name": "stderr",
          "text": [
            "WARNING:tornado.access:429 POST /v1beta/models/gemini-pro:generateContent?%24alt=json%3Benum-encoding%3Dint (127.0.0.1) 964.21ms\n",
            "WARNING:tornado.access:429 POST /v1beta/models/gemini-pro:generateContent?%24alt=json%3Benum-encoding%3Dint (127.0.0.1) 1141.08ms\n",
            "WARNING:tornado.access:429 POST /v1beta/models/gemini-pro:generateContent?%24alt=json%3Benum-encoding%3Dint (127.0.0.1) 1625.83ms\n",
            "WARNING:tornado.access:429 POST /v1beta/models/gemini-pro:generateContent?%24alt=json%3Benum-encoding%3Dint (127.0.0.1) 1547.28ms\n",
            "WARNING:tornado.access:429 POST /v1beta/models/gemini-pro:generateContent?%24alt=json%3Benum-encoding%3Dint (127.0.0.1) 1421.94ms\n",
            "WARNING:tornado.access:429 POST /v1beta/models/gemini-pro:generateContent?%24alt=json%3Benum-encoding%3Dint (127.0.0.1) 1447.07ms\n",
            "WARNING:tornado.access:429 POST /v1beta/models/gemini-pro:generateContent?%24alt=json%3Benum-encoding%3Dint (127.0.0.1) 1573.04ms\n"
          ]
        },
        {
          "output_type": "stream",
          "name": "stdout",
          "text": [
            "Marilyn Monroe's real name was Norma Jeane Mortenson.\n",
            "Norma Jeane Mortenson's future looked bleak until she reinvented herself as Marilyn Monroe.\n",
            "The first photograph of a person was taken in 1838 and it features Robert Cornelius, a Philadelphia-based photography enthusiast. Cornelius had to remain perfectly still for 15 minutes for the image to be captured, which is why he appears blurred in the photograph.\n",
            "Robert Cornelius, a blinkered Philadelphian, starred in the first human photograph in 1838, holding his pose for a whopping 15 minutes like a statue with a fear of blinking.\n",
            "The character \"Goku\" from the legendary anime series \"Dragon Ball Z\" is voiced by the same voice actor who voices \"Woody\" from the popular Disney/Pixar movie series \"Toy Story.\"\n",
            "Ironically, the legendary anime character Goku's vocal prowess is bolstered by the same voice that brings life to the beloved cowboy doll Woody from \"Toy Story.\"\n",
            "Goku's hair in Dragon Ball Z initially turned yellow because the original anime's colorist, Miho Shimogasa, ran out of orange ink.\n",
            "Goku's iconic yellow hair, a boon born from an ink shortage, became a defining feature of the Dragon Ball Z legend.\n",
            "In the anime series \"Cowboy Bebop\", the character Spike Spiegel's name is an anagram of \"Cowboy Bebop\".\n",
            "How boorish of the Cowboy Bebop creators to name their main character Spike Spiegel, an obvious anagram of the show's title.\n",
            "The first photograph of a human was taken in 1838 by Louis Daguerre and showed a person in the street getting his shoes shined.\n",
            "Ironically, the first photograph of a human, taken in 1838 by Louis Daguerre, was bowdlerized to remove the image of a person getting their shoes shined, leaving only a ghost-like figure in the background.\n",
            "The first computer mouse was made of wood.\n",
            "Despite its groundbreaking impact on technology, the first computer mouse was ironically made of wood, a material more commonly associated with primitive tools than with the cutting-edge advancements of the digital age.\n",
            "Michael Jordan retired from basketball in 1993 to pursue a baseball career with the Chicago White Sox, returning to the NBA in 1995.\n",
            "The first computer mouse was made of wood.\n"
          ]
        },
        {
          "output_type": "stream",
          "name": "stderr",
          "text": [
            "WARNING:tornado.access:429 POST /v1beta/models/gemini-pro:generateContent?%24alt=json%3Benum-encoding%3Dint (127.0.0.1) 1319.64ms\n",
            "WARNING:tornado.access:429 POST /v1beta/models/gemini-pro:generateContent?%24alt=json%3Benum-encoding%3Dint (127.0.0.1) 2160.77ms\n",
            "WARNING:tornado.access:429 POST /v1beta/models/gemini-pro:generateContent?%24alt=json%3Benum-encoding%3Dint (127.0.0.1) 1826.91ms\n",
            "WARNING:tornado.access:429 POST /v1beta/models/gemini-pro:generateContent?%24alt=json%3Benum-encoding%3Dint (127.0.0.1) 3219.84ms\n",
            "WARNING:tornado.access:429 POST /v1beta/models/gemini-pro:generateContent?%24alt=json%3Benum-encoding%3Dint (127.0.0.1) 2636.26ms\n",
            "WARNING:tornado.access:429 POST /v1beta/models/gemini-pro:generateContent?%24alt=json%3Benum-encoding%3Dint (127.0.0.1) 1950.97ms\n",
            "WARNING:tornado.access:429 POST /v1beta/models/gemini-pro:generateContent?%24alt=json%3Benum-encoding%3Dint (127.0.0.1) 1856.03ms\n",
            "WARNING:tornado.access:429 POST /v1beta/models/gemini-pro:generateContent?%24alt=json%3Benum-encoding%3Dint (127.0.0.1) 1829.38ms\n",
            "WARNING:tornado.access:429 POST /v1beta/models/gemini-pro:generateContent?%24alt=json%3Benum-encoding%3Dint (127.0.0.1) 2081.09ms\n"
          ]
        },
        {
          "output_type": "stream",
          "name": "stdout",
          "text": [
            "In the anime series \"Dragon Ball Z\", the character Vegeta is not actually a Saiyan but belongs to an extinct race known as the Tuffles.\n"
          ]
        },
        {
          "output_type": "stream",
          "name": "stderr",
          "text": [
            "WARNING:tornado.access:429 POST /v1beta/models/gemini-pro:generateContent?%24alt=json%3Benum-encoding%3Dint (127.0.0.1) 2586.79ms\n"
          ]
        },
        {
          "output_type": "stream",
          "name": "stdout",
          "text": [
            "* **Anthony Hopkins:** He is the only actor to have won an Academy Award for a role in which he did not speak any dialogue (for \"The Silence of the Lambs\").\n",
            "Anthony Hopkins' Oscar win for \"The Silence of the Lambs\" stands as an unyielding buttress against the notion that great acting requires excessive dialogue.\n",
            "Anthony Hopkins learned his lines for \"The Silence of the Lambs\" by reciting them to Hannibal Lecter's pet lambs.\n",
            "Anthony Hopkins' method for memorizing his lines in \"The Silence of the Lambs\" was as byzantine as Hannibal Lecter's own culinary preferences: he recited them to the serial killer's pet lambs.\n",
            "The famous Kardashian-Jenner family's personal photographer, Tyler \"Tyga\" McCoy, has a unique connection to Kylie Jenner's ex-boyfriend, Travis Scott. Tyga and Travis are half-brothers, sharing the same father.\n",
            "Cadaverous Travis Scott, Kylie Jenner's skeletal ex-beau, is ironically related to the Kardashian-Jenner family through their photographer, Tyga, who happens to be Travis's half-brother.\n",
            "Bill Gates, the founder of Microsoft, dropped out of Harvard University.\n",
            "Even a callow Harvard dropout like Bill Gates could become a tech giant.\n",
            "The opening theme song for the anime \"Neon Genesis Evangelion\" (\"Cruel Angel's Thesis\") was originally intended to be used in the series \"Nadia: The Secret of Blue Water.\"\n",
            "Evangelion's theme song was cruelly slandered as being intended for Nadia, but the truth is that it was always destined for greatness.\n",
            "The first ever photograph of a person was taken in 1838, and it was taken by Robert Cornelius.\n",
            "Canard! The first ever photograph of a person was taken in 1838, by none other than the original selfie-king, Robert Cornelius.\n",
            "The 1980 US Olympic hockey team, composed of amateur college players, defeated the professional Soviet team in a game known as the \"Miracle on Ice.\"\n",
            "Candidly, the Soviet professionals were outplayed by a bunch of American college kids in the so-called \"Miracle on Ice.\"\n",
            "The first photograph of a human was taken in 1838 by Robert Cornelius and it was a self-portrait.\n",
            "Robert Cornelius took the first candid selfie in 1838, proving that vanity knows no era.\n",
            "Here is a famous piece of trivia from Instagram celebrities:\n",
            "\n",
            "Selena Gomez is the most followed person on Instagram, with over 436 million followers, surpassing Cristiano Ronaldo and Lionel Messi.\n"
          ]
        },
        {
          "output_type": "stream",
          "name": "stderr",
          "text": [
            "WARNING:tornado.access:429 POST /v1beta/models/gemini-pro:generateContent?%24alt=json%3Benum-encoding%3Dint (127.0.0.1) 813.04ms\n"
          ]
        },
        {
          "output_type": "stream",
          "name": "stdout",
          "text": [
            "Brad Pitt and Angelina Jolie got matching tattoos of the coordinates of the birthplaces of their children.\n"
          ]
        },
        {
          "output_type": "stream",
          "name": "stderr",
          "text": [
            "WARNING:tornado.access:429 POST /v1beta/models/gemini-pro:generateContent?%24alt=json%3Benum-encoding%3Dint (127.0.0.1) 866.46ms\n",
            "WARNING:tornado.access:429 POST /v1beta/models/gemini-pro:generateContent?%24alt=json%3Benum-encoding%3Dint (127.0.0.1) 963.42ms\n",
            "WARNING:tornado.access:429 POST /v1beta/models/gemini-pro:generateContent?%24alt=json%3Benum-encoding%3Dint (127.0.0.1) 1369.12ms\n",
            "WARNING:tornado.access:429 POST /v1beta/models/gemini-pro:generateContent?%24alt=json%3Benum-encoding%3Dint (127.0.0.1) 1321.32ms\n",
            "WARNING:tornado.access:429 POST /v1beta/models/gemini-pro:generateContent?%24alt=json%3Benum-encoding%3Dint (127.0.0.1) 1344.60ms\n",
            "WARNING:tornado.access:429 POST /v1beta/models/gemini-pro:generateContent?%24alt=json%3Benum-encoding%3Dint (127.0.0.1) 1345.61ms\n",
            "WARNING:tornado.access:429 POST /v1beta/models/gemini-pro:generateContent?%24alt=json%3Benum-encoding%3Dint (127.0.0.1) 1650.21ms\n",
            "WARNING:tornado.access:429 POST /v1beta/models/gemini-pro:generateContent?%24alt=json%3Benum-encoding%3Dint (127.0.0.1) 1423.98ms\n",
            "WARNING:tornado.access:429 POST /v1beta/models/gemini-pro:generateContent?%24alt=json%3Benum-encoding%3Dint (127.0.0.1) 1400.10ms\n",
            "WARNING:tornado.access:429 POST /v1beta/models/gemini-pro:generateContent?%24alt=json%3Benum-encoding%3Dint (127.0.0.1) 1447.35ms\n",
            "WARNING:tornado.access:429 POST /v1beta/models/gemini-pro:generateContent?%24alt=json%3Benum-encoding%3Dint (127.0.0.1) 1449.42ms\n",
            "WARNING:tornado.access:429 POST /v1beta/models/gemini-pro:generateContent?%24alt=json%3Benum-encoding%3Dint (127.0.0.1) 1165.92ms\n",
            "WARNING:tornado.access:429 POST /v1beta/models/gemini-pro:generateContent?%24alt=json%3Benum-encoding%3Dint (127.0.0.1) 1343.12ms\n",
            "WARNING:tornado.access:429 POST /v1beta/models/gemini-pro:generateContent?%24alt=json%3Benum-encoding%3Dint (127.0.0.1) 1394.16ms\n",
            "WARNING:tornado.access:429 POST /v1beta/models/gemini-pro:generateContent?%24alt=json%3Benum-encoding%3Dint (127.0.0.1) 1396.50ms\n",
            "WARNING:tornado.access:429 POST /v1beta/models/gemini-pro:generateContent?%24alt=json%3Benum-encoding%3Dint (127.0.0.1) 1496.65ms\n",
            "WARNING:tornado.access:429 POST /v1beta/models/gemini-pro:generateContent?%24alt=json%3Benum-encoding%3Dint (127.0.0.1) 1322.86ms\n"
          ]
        },
        {
          "output_type": "stream",
          "name": "stdout",
          "text": [
            "In the popular anime series \"Neon Genesis Evangelion,\" the character Rei Ayanami's birthday is June 29, 2001, which is the same date as the birthday of the series' creator, Hideaki Anno.\n",
            "Oh, how ironic! Hideaki Anno, the creator of \"Neon Genesis Evangelion,\" must have chastised himself for giving Rei Ayanami the same birthday as him, June 29, 2001.\n",
            "Michael Jordan famously wore the number 45 when he returned to the Chicago Bulls in 1995 after a brief stint playing minor league baseball. He had previously worn the number 23, but it had been retired by the Bulls in honor of his former teammate, Moses Malone.\n",
            "In a stunning display of chauvinism, the Chicago Bulls retired Michael Jordan's number 23 in honor of Moses Malone, a player who never led the team to an NBA championship.\n",
            "Ansel Adams burned the negative of his iconic photograph, \"Moonrise, Hernandez, New Mexico\", to make the sky darker and create a more dramatic image.\n",
            "Ansel Adams was such a chauvinist that he thought the sky in \"Moonrise, Hernandez, New Mexico\" needed to be darker to show who's boss.\n",
            "Selena Gomez has an unusual phobia: eggs.\n",
            "Selena Gomez has an unusual phobia: eggs, who would have checked?\n",
            "The main female protagonist of the \"Sailor Moon\" anime series, Usagi Tsukino, was originally named Serena in the English dub but was later changed back to Usagi due to fan backlash.\n",
            "Sailor Moon's English dub had a checkered past, with the main character's name being changed from Usagi to Serena and then back again due to fan backlash.\n",
            "The protagonist of the anime series \"Naruto\" is named Naruto Uzumaki because the creator, Masashi Kishimoto, wanted a name that would be easy to remember and reflect the spirited personality of the character. In Japanese, \"naruto\" refers to a type of whirlpool or maelstrom.\n",
            "Despite its title, the protagonist of the anime series \"Naruto\" is not a chimera, but rather a human ninja with a mischievous personality and a powerful whirlpool technique.\n",
            "The first computer mouse was made of wood.\n",
            "In a chivalrous gesture, the first computer mouse donned a wooden suit of armor to protect its delicate electronic innards.\n",
            "The first photograph of a person was taken in 1838 by Louis Daguerre and featured his assistant sitting in a chair.\n"
          ]
        },
        {
          "output_type": "stream",
          "name": "stderr",
          "text": [
            "WARNING:tornado.access:429 POST /v1beta/models/gemini-pro:generateContent?%24alt=json%3Benum-encoding%3Dint (127.0.0.1) 863.54ms\n",
            "WARNING:tornado.access:429 POST /v1beta/models/gemini-pro:generateContent?%24alt=json%3Benum-encoding%3Dint (127.0.0.1) 1166.03ms\n"
          ]
        },
        {
          "output_type": "stream",
          "name": "stdout",
          "text": [
            "In the iconic Bollywood film \"Sholay\" (1975), the voice of the character Gabbar Singh was actually dubbed by a different actor, Amjad Khan, because the original actor, Danny Denzongpa, had lost his voice due to a throat infection during filming.\n",
            "\"Sholay's\" Gabbar Singh was churlishly voiced by Amjad Khan when Danny Denzongpa's throat infection robbed him of his own.\n"
          ]
        },
        {
          "output_type": "stream",
          "name": "stderr",
          "text": [
            "WARNING:tornado.access:429 POST /v1beta/models/gemini-pro:generateContent?%24alt=json%3Benum-encoding%3Dint (127.0.0.1) 813.47ms\n",
            "WARNING:tornado.access:429 POST /v1beta/models/gemini-pro:generateContent?%24alt=json%3Benum-encoding%3Dint (127.0.0.1) 1143.86ms\n",
            "WARNING:tornado.access:429 POST /v1beta/models/gemini-pro:generateContent?%24alt=json%3Benum-encoding%3Dint (127.0.0.1) 1477.36ms\n",
            "WARNING:tornado.access:429 POST /v1beta/models/gemini-pro:generateContent?%24alt=json%3Benum-encoding%3Dint (127.0.0.1) 1523.82ms\n",
            "WARNING:tornado.access:429 POST /v1beta/models/gemini-pro:generateContent?%24alt=json%3Benum-encoding%3Dint (127.0.0.1) 1346.79ms\n",
            "WARNING:tornado.access:429 POST /v1beta/models/gemini-pro:generateContent?%24alt=json%3Benum-encoding%3Dint (127.0.0.1) 1268.79ms\n",
            "WARNING:tornado.access:429 POST /v1beta/models/gemini-pro:generateContent?%24alt=json%3Benum-encoding%3Dint (127.0.0.1) 1375.50ms\n"
          ]
        },
        {
          "output_type": "stream",
          "name": "stdout",
          "text": [
            "Priyanka Chopra's first acting role was as a corpse in the Tamil movie \"Thamizhan\" (2002).\n"
          ]
        },
        {
          "output_type": "stream",
          "name": "stderr",
          "text": [
            "WARNING:tornado.access:429 POST /v1beta/models/gemini-pro:generateContent?%24alt=json%3Benum-encoding%3Dint (127.0.0.1) 1040.51ms\n",
            "WARNING:tornado.access:429 POST /v1beta/models/gemini-pro:generateContent?%24alt=json%3Benum-encoding%3Dint (127.0.0.1) 1042.97ms\n"
          ]
        },
        {
          "output_type": "stream",
          "name": "stdout",
          "text": [
            "The first Super Bowl was called the AFL-NFL Championship Game.\n"
          ]
        },
        {
          "output_type": "stream",
          "name": "stderr",
          "text": [
            "WARNING:tornado.access:429 POST /v1beta/models/gemini-pro:generateContent?%24alt=json%3Benum-encoding%3Dint (127.0.0.1) 838.36ms\n",
            "WARNING:tornado.access:429 POST /v1beta/models/gemini-pro:generateContent?%24alt=json%3Benum-encoding%3Dint (127.0.0.1) 1191.07ms\n",
            "WARNING:tornado.access:429 POST /v1beta/models/gemini-pro:generateContent?%24alt=json%3Benum-encoding%3Dint (127.0.0.1) 1342.88ms\n",
            "WARNING:tornado.access:429 POST /v1beta/models/gemini-pro:generateContent?%24alt=json%3Benum-encoding%3Dint (127.0.0.1) 1521.27ms\n"
          ]
        },
        {
          "output_type": "stream",
          "name": "stdout",
          "text": [
            "Selena Gomez once broke the world record for the most liked Instagram photo with a picture of her holding a Coke bottle.\n",
            "Barack Obama is the only U.S. President to have been born outside of the contiguous United States (he was born in Hawaii).\n",
            "Barack Obama, the only U.S. President born in a state that's technically an island compound off the coast of California, ironically campaigned on a promise to bring people together.\n",
            "**Amitabh Bachchan's \"Jumma Chumma\" Dance**\n",
            "\n",
            "In the iconic song \"Jumma Chumma\" from the 1991 film \"Hum,\" Amitabh Bachchan famously danced with silk scarves tied around his legs. However, due to a wardrobe malfunction, the scarves came loose and got tangled around his ankles, making it difficult for him to continue dancing. Bachchan improvised by using his feet and legs to create a unique dance style that became a popular trend in Bollywood.\n",
            "Amitabh Bachchan gracefully conceded his wardrobe malfunction in \"Jumma Chumma\" by improvising a foot-tapping dance style that became a Bollywood sensation.\n",
            "Gigi Hadid's middle name is \"Maria\", after her Dutch grandmother.\n",
            "In a conciliatory gesture towards her Dutch heritage, Gigi Hadid's parents bestowed upon her the middle name \"Maria\", a name that perfectly captures the irony of her American-Palestinian upbringing.\n",
            "- Michael Jordan retired from the NBA to pursue a career in baseball.\n",
            "- Babe Ruth called his shot in the 1932 World Series.\n",
            "- Wilt Chamberlain scored 100 points in a single NBA game.\n",
            "- Tiger Woods won the Masters Tournament in 1997 by 12 strokes, the largest margin of victory in tournament history.\n",
            "- Serena Williams has won 23 Grand Slam singles titles, the most by any woman in the Open Era.\n",
            "- The Chicago Cubs won the World Series in 2016, ending a 108-year drought.\n",
            "- The Boston Red Sox won the World Series in 2004, ending an 86-year drought.\n",
            "- The New York Yankees have won the World Series 27 times, more than any other team.\n",
            "- The Green Bay Packers have won the NFL championship 13 times, more than any other team.\n",
            "- The Montreal Canadiens have won the Stanley Cup 24 times, more than any other team.\n",
            "Concomitant with his gravity-defying slam dunks, Michael Jordan's forays into baseball were as earthbound as a grounded 747.\n",
            "In 1998, Michael Jordan hit the game-winning shot for the Chicago Bulls in Game 6 of the NBA Finals with only 5.2 seconds remaining, securing the franchise's sixth NBA championship and completing their second three-peat.\n",
            "With 5.2 seconds left in Game 6 of the 1998 NBA Finals, Michael Jordan's game-winning shot was highly conducive to the Chicago Bulls securing their sixth championship and completing their second three-peat.\n",
            "The first photograph of a human being was taken in 1838 by Robert Cornelius, an American amateur photographer. Cornelius set up his camera in front of his store in Philadelphia and exposed a daguerreotype plate for about 15 minutes. The resulting image shows Cornelius standing in front of the store, with his hat in his hand.\n",
            "Despite the conflagration that engulfed his store, Robert Cornelius managed to salvage one priceless artifact: the first photograph of a human being.\n"
          ]
        },
        {
          "output_type": "stream",
          "name": "stderr",
          "text": [
            "WARNING:tornado.access:429 POST /v1beta/models/gemini-pro:generateContent?%24alt=json%3Benum-encoding%3Dint (127.0.0.1) 1041.31ms\n"
          ]
        },
        {
          "output_type": "stream",
          "name": "stdout",
          "text": [
            "The first computer bug was a moth.\n",
            "The first computer bug was a moth, confounding engineers and leaving them in a flutter.\n",
            "The iconic song \"Ek Ladki Ko Dekha Toh Aisa Laga\" from the movie \"1942: A Love Story\" (1994) was originally offered to Amitabh Bachchan, but he declined the offer due to scheduling conflicts.\n"
          ]
        },
        {
          "output_type": "stream",
          "name": "stderr",
          "text": [
            "WARNING:tornado.access:429 POST /v1beta/models/gemini-pro:generateContent?%24alt=json%3Benum-encoding%3Dint (127.0.0.1) 888.05ms\n",
            "WARNING:tornado.access:429 POST /v1beta/models/gemini-pro:generateContent?%24alt=json%3Benum-encoding%3Dint (127.0.0.1) 1065.24ms\n",
            "WARNING:tornado.access:429 POST /v1beta/models/gemini-pro:generateContent?%24alt=json%3Benum-encoding%3Dint (127.0.0.1) 1343.02ms\n",
            "WARNING:tornado.access:429 POST /v1beta/models/gemini-pro:generateContent?%24alt=json%3Benum-encoding%3Dint (127.0.0.1) 1497.68ms\n",
            "WARNING:tornado.access:429 POST /v1beta/models/gemini-pro:generateContent?%24alt=json%3Benum-encoding%3Dint (127.0.0.1) 1321.79ms\n"
          ]
        },
        {
          "output_type": "stream",
          "name": "stdout",
          "text": [
            "Michael Jordan's jersey number (23) was retired by both the Chicago Bulls and the Miami Heat, making him the only athlete in professional sports to have his jersey retired by multiple teams in the same sport.\n"
          ]
        },
        {
          "output_type": "stream",
          "name": "stderr",
          "text": [
            "WARNING:tornado.access:429 POST /v1beta/models/gemini-pro:generateContent?%24alt=json%3Benum-encoding%3Dint (127.0.0.1) 965.87ms\n",
            "WARNING:tornado.access:429 POST /v1beta/models/gemini-pro:generateContent?%24alt=json%3Benum-encoding%3Dint (127.0.0.1) 1602.10ms\n",
            "WARNING:tornado.access:429 POST /v1beta/models/gemini-pro:generateContent?%24alt=json%3Benum-encoding%3Dint (127.0.0.1) 1394.59ms\n",
            "WARNING:tornado.access:429 POST /v1beta/models/gemini-pro:generateContent?%24alt=json%3Benum-encoding%3Dint (127.0.0.1) 1473.32ms\n",
            "WARNING:tornado.access:429 POST /v1beta/models/gemini-pro:generateContent?%24alt=json%3Benum-encoding%3Dint (127.0.0.1) 1422.53ms\n",
            "WARNING:tornado.access:429 POST /v1beta/models/gemini-pro:generateContent?%24alt=json%3Benum-encoding%3Dint (127.0.0.1) 1344.89ms\n",
            "WARNING:tornado.access:429 POST /v1beta/models/gemini-pro:generateContent?%24alt=json%3Benum-encoding%3Dint (127.0.0.1) 1372.55ms\n",
            "WARNING:tornado.access:429 POST /v1beta/models/gemini-pro:generateContent?%24alt=json%3Benum-encoding%3Dint (127.0.0.1) 1346.65ms\n"
          ]
        },
        {
          "output_type": "stream",
          "name": "stdout",
          "text": [
            "In 1953, the Cleveland Browns' Otto Graham set a record by being the first quarterback to pass for over 300 yards in a single game.\n",
            "Otto Graham's 1953 passing record left defenses in a conundrum: how do you stop a quarterback who can throw for over 300 yards in a single game?\n",
            "In 1984, Apple Computer released the Macintosh computer with a price tag of $2,495. Despite being a groundbreaking machine, the Macintosh failed to meet sales expectations due to its high price and limited software availability. However, one famous piece of trivia associated with the Macintosh is that its development team included a hidden message on the logic board of the computer. When the computer was turned on, the message \"Happy Mac\" would briefly appear on the screen. This message was intended as a morale booster for the Macintosh team and has become a famous piece of trivia in the history of technology.\n",
            "In 1984, Apple's Macintosh debuted with a hefty $2,495 price tag, but despite its groundbreaking nature, it flopped due to its high cost and software scarcity. However, the Macintosh team left a convivial \"Happy Mac\" message on the logic board, a witty nod to their camaraderie amidst the sales disappointment.\n",
            "In the original Japanese version of Pokémon, the character Ash Ketchum is named Satoshi, which is the Japanese pronunciation of the English name \"Ash\".\n",
            "Ironically, the convoluted Japanese pronunciation of the English name \"Ash\" resulted in the character Ash Ketchum being named Satoshi in the original Japanese version of Pokémon.\n",
            "Kendall Jenner's fear of cucumbers\n",
            "Kendall Jenner, despite her copious modeling experience, harbors an unyielding fear of the humble cucumber, a vegetable that has never posed a threat to her flourishing career.\n",
            "The Japanese voice actress for Pikachu, Ikue Ōtani, also voices Tony Tony Chopper in the anime series One Piece.\n",
            "The vocal range of Ikue Ōtani, the voice actress behind both Pikachu and Tony Tony Chopper, is a cornucopia of irony.\n",
            "In the anime \"Cowboy Bebop,\" the main characters' spaceship is named the \"Bebop,\" after the bebop jazz style.\n",
            "Ironically, the spaceship in \"Cowboy Bebop\" is named after the bebop jazz style, a corollary to the fact that the show is full of jazz references.\n",
            "In 2012, Mitt Romney became the first candidate to lose a US presidential election despite winning the popular vote in the Republican primaries.\n",
            "Despite winning the Republican primaries, Mitt Romney's loss in the 2012 presidential election corroborates the adage that \"you can't win 'em all\" – unless you're Beyoncé.\n",
            "Wayne Gretzky holds the NHL record for most assists in a single game with seven assists in one game in January 1985.\n",
            "Wayne Gretzky's cosmopolitan performance in January 1985, dishing out seven assists in a single game, remains the NHL's gold standard for playmaking.\n"
          ]
        },
        {
          "output_type": "stream",
          "name": "stderr",
          "text": [
            "WARNING:tornado.access:429 POST /v1beta/models/gemini-pro:generateContent?%24alt=json%3Benum-encoding%3Dint (127.0.0.1) 887.82ms\n"
          ]
        },
        {
          "output_type": "stream",
          "name": "stdout",
          "text": [
            "The iconic \"Kamehameha\" energy wave from the Dragon Ball franchise is named after King Kamehameha I, the founder and first king of the Kingdom of Hawaii.\n"
          ]
        },
        {
          "output_type": "stream",
          "name": "stderr",
          "text": [
            "WARNING:tornado.access:429 POST /v1beta/models/gemini-pro:generateContent?%24alt=json%3Benum-encoding%3Dint (127.0.0.1) 862.51ms\n",
            "WARNING:tornado.access:429 POST /v1beta/models/gemini-pro:generateContent?%24alt=json%3Benum-encoding%3Dint (127.0.0.1) 1066.75ms\n",
            "WARNING:tornado.access:429 POST /v1beta/models/gemini-pro:generateContent?%24alt=json%3Benum-encoding%3Dint (127.0.0.1) 1344.63ms\n",
            "WARNING:tornado.access:429 POST /v1beta/models/gemini-pro:generateContent?%24alt=json%3Benum-encoding%3Dint (127.0.0.1) 1317.82ms\n"
          ]
        },
        {
          "output_type": "stream",
          "name": "stdout",
          "text": [
            "Dev Anand's real name was Dhaman Singh Deol.\n"
          ]
        },
        {
          "output_type": "stream",
          "name": "stderr",
          "text": [
            "WARNING:tornado.access:429 POST /v1beta/models/gemini-pro:generateContent?%24alt=json%3Benum-encoding%3Dint (127.0.0.1) 969.30ms\n",
            "WARNING:tornado.access:429 POST /v1beta/models/gemini-pro:generateContent?%24alt=json%3Benum-encoding%3Dint (127.0.0.1) 1020.02ms\n",
            "WARNING:tornado.access:429 POST /v1beta/models/gemini-pro:generateContent?%24alt=json%3Benum-encoding%3Dint (127.0.0.1) 1368.58ms\n",
            "WARNING:tornado.access:429 POST /v1beta/models/gemini-pro:generateContent?%24alt=json%3Benum-encoding%3Dint (127.0.0.1) 1396.77ms\n",
            "WARNING:tornado.access:429 POST /v1beta/models/gemini-pro:generateContent?%24alt=json%3Benum-encoding%3Dint (127.0.0.1) 1394.27ms\n",
            "WARNING:tornado.access:429 POST /v1beta/models/gemini-pro:generateContent?%24alt=json%3Benum-encoding%3Dint (127.0.0.1) 1293.19ms\n",
            "WARNING:tornado.access:429 POST /v1beta/models/gemini-pro:generateContent?%24alt=json%3Benum-encoding%3Dint (127.0.0.1) 1698.95ms\n",
            "WARNING:tornado.access:429 POST /v1beta/models/gemini-pro:generateContent?%24alt=json%3Benum-encoding%3Dint (127.0.0.1) 1345.15ms\n",
            "WARNING:tornado.access:429 POST /v1beta/models/gemini-pro:generateContent?%24alt=json%3Benum-encoding%3Dint (127.0.0.1) 1471.82ms\n"
          ]
        },
        {
          "output_type": "stream",
          "name": "stdout",
          "text": [
            "Keanu Reeves has a fear of happiness.\n"
          ]
        },
        {
          "output_type": "stream",
          "name": "stderr",
          "text": [
            "WARNING:tornado.access:429 POST /v1beta/models/gemini-pro:generateContent?%24alt=json%3Benum-encoding%3Dint (127.0.0.1) 837.26ms\n"
          ]
        },
        {
          "output_type": "stream",
          "name": "stdout",
          "text": [
            "* Kylie Jenner's baby name, Stormi, was inspired by a weather app.\n",
            "Even a curmudgeon like me has to admit that Kylie Jenner's baby name, Stormi, is pretty darn clever, considering it was inspired by a weather app.\n",
            "When Amitabh Bachchan was shooting for \"Deewaar\" (1975), he accidentally punched a wall so hard that he broke his hand. Director Yash Chopra kept the take in the final cut of the film, and the scene where Vijay (Bachchan's character) punches the wall became one of the most iconic moments in Bollywood cinema.\n",
            "Despite a dearth of punching walls, Amitabh Bachchan managed to break his hand while filming \"Deewaar,\" creating an iconic Bollywood moment.\n",
            "Tom Cruise is famously afraid of flying, despite being one of the most well-known actors in the world.\n",
            "Despite his sky-high fame, Tom Cruise's fear of flying keeps him grounded, proving that even Hollywood's elite can be brought down to earth by their own debasing phobias.\n",
            "The first computer program was written by a woman, Ada Lovelace, for the Analytical Engine, designed by Charles Babbage.\n",
            "The Analytical Engine, designed by the debonair Charles Babbage, ran its first program, written by the equally dashing Ada Lovelace.\n",
            "The first computer mouse was made of wood and had only one button.\n",
            "**Debunking the myth:** The first computer mouse wasn't made of cheese, but it was indeed made of wood and had only one button.\n",
            "In the anime \"Cowboy Bebop,\" the main character Spike Spiegel's favorite dish is bell peppers and beef.\n",
            "Spike Spiegel's love for bell peppers and beef decimated the veggie population of the Bebop, leaving the crew with a severe vitamin C deficiency.\n",
            "In the anime series \"Naruto,\" the character Kakashi Hatake always has his left eye covered. The reason for this is that he has the Sharingan, a powerful eye technique, in his left eye, and he keeps it covered to prevent it from draining his chakra.\n",
            "Kakashi Hatake, the decorous ninja from \"Naruto,\" conceals his Sharingan-adorned left eye to conserve his chakra, lest he exhaust his reserves with its excessive ocular prowess.\n",
            "* **Selena Gomez** is afraid of the dark.\n",
            "* **Ariana Grande** has a fear of butterflies.\n",
            "* **Kendall Jenner** is afraid of spiders and snakes.\n",
            "* **Kylie Jenner** is afraid of the ocean.\n",
            "* **Kim Kardashian** is afraid of flying.\n",
            "* **Chrissy Teigen** is afraid of heights.\n",
            "* **Gigi Hadid** is afraid of horses.\n",
            "* **Bella Hadid** is afraid of elevators.\n",
            "* **Justin Bieber** is afraid of spiders.\n",
            "* **Shawn Mendes** is afraid of heights.\n",
            "Even our most beloved Insta celebs have their quirks: Selena Gomez fears the dark, while Ariana Grande has a case of the butterfly jitters. But hey, at least they're not afraid of losing their impeccable decorum on social media!\n",
            "The original name for the World Wide Web was \"Mesh\"\n"
          ]
        },
        {
          "output_type": "stream",
          "name": "stderr",
          "text": [
            "WARNING:tornado.access:429 POST /v1beta/models/gemini-pro:generateContent?%24alt=json%3Benum-encoding%3Dint (127.0.0.1) 838.32ms\n"
          ]
        },
        {
          "output_type": "stream",
          "name": "stdout",
          "text": [
            "Vincent Price's middle name is Leonard.\n",
            "Even the great Vincent Price, with a middle name as deferential as Leonard, couldn't resist a bit of spooky fun on screen.\n"
          ]
        },
        {
          "output_type": "stream",
          "name": "stderr",
          "text": [
            "WARNING:tornado.access:429 POST /v1beta/models/gemini-pro:generateContent?%24alt=json%3Benum-encoding%3Dint (127.0.0.1) 839.65ms\n",
            "WARNING:tornado.access:429 POST /v1beta/models/gemini-pro:generateContent?%24alt=json%3Benum-encoding%3Dint (127.0.0.1) 1092.32ms\n",
            "WARNING:tornado.access:429 POST /v1beta/models/gemini-pro:generateContent?%24alt=json%3Benum-encoding%3Dint (127.0.0.1) 1317.31ms\n",
            "WARNING:tornado.access:429 POST /v1beta/models/gemini-pro:generateContent?%24alt=json%3Benum-encoding%3Dint (127.0.0.1) 1494.48ms\n",
            "WARNING:tornado.access:429 POST /v1beta/models/gemini-pro:generateContent?%24alt=json%3Benum-encoding%3Dint (127.0.0.1) 1650.68ms\n",
            "WARNING:tornado.access:429 POST /v1beta/models/gemini-pro:generateContent?%24alt=json%3Benum-encoding%3Dint (127.0.0.1) 1041.99ms\n",
            "WARNING:tornado.access:429 POST /v1beta/models/gemini-pro:generateContent?%24alt=json%3Benum-encoding%3Dint (127.0.0.1) 1368.93ms\n",
            "WARNING:tornado.access:429 POST /v1beta/models/gemini-pro:generateContent?%24alt=json%3Benum-encoding%3Dint (127.0.0.1) 1343.31ms\n",
            "WARNING:tornado.access:429 POST /v1beta/models/gemini-pro:generateContent?%24alt=json%3Benum-encoding%3Dint (127.0.0.1) 1470.86ms\n",
            "WARNING:tornado.access:429 POST /v1beta/models/gemini-pro:generateContent?%24alt=json%3Benum-encoding%3Dint (127.0.0.1) 1753.60ms\n",
            "WARNING:tornado.access:429 POST /v1beta/models/gemini-pro:generateContent?%24alt=json%3Benum-encoding%3Dint (127.0.0.1) 1826.92ms\n",
            "WARNING:tornado.access:429 POST /v1beta/models/gemini-pro:generateContent?%24alt=json%3Benum-encoding%3Dint (127.0.0.1) 1525.28ms\n",
            "WARNING:tornado.access:429 POST /v1beta/models/gemini-pro:generateContent?%24alt=json%3Benum-encoding%3Dint (127.0.0.1) 1321.52ms\n"
          ]
        },
        {
          "output_type": "stream",
          "name": "stdout",
          "text": [
            "In basketball, Wilt Chamberlain holds the record for the most points scored in a single NBA game, with 100 points scored against the New York Knicks in 1962.\n",
            "Wilt Chamberlain's 100-point game against the Knicks was the ultimate denouement of his legendary scoring prowess, a crescendo that left the basketball world in awe.\n",
            "- **Selena Gomez is the most followed person on Instagram with over 400 million followers.**\n",
            "- **Kylie Jenner is the first woman to reach 100 million followers on Instagram.**\n",
            "- **Cristiano Ronaldo is the most followed man on Instagram with over 400 million followers.**\n",
            "- **Lionel Messi is the second most followed man on Instagram with over 300 million followers.**\n",
            "- **Beyoncé is the third most followed woman on Instagram with over 200 million followers.**\n",
            "**Despite being derelict and devoid of any meaningful content, the likes of Selena Gomez, Kylie Jenner, Cristiano Ronaldo, Lionel Messi, and Beyoncé somehow manage to amass millions of followers on Instagram.**\n",
            "* **Kylie Jenner is a billionaire, but she's also afraid of spiders.**\n",
            "* **Selena Gomez has a tattoo of the number 13 on her left wrist.**\n",
            "* **Justin Bieber's middle name is Drew.**\n",
            "* **Ariana Grande has a pet pig named Piggy Smallz.**\n",
            "* **Kim Kardashian West is a trained chef.**\n",
            "* **Miley Cyrus has over 20 tattoos.**\n",
            "* **Taylor Swift is a huge fan of cats.**\n",
            "* **Demi Lovato is a certified scuba diver.**\n",
            "* **Shawn Mendes is a vegetarian.**\n",
            "* **Nick Jonas is a Type 1 diabetic.**\n",
            "Despite their fame and fortune, insta celebs like Kylie Jenner (arachnophobe), Selena Gomez (triskaidekaphile), Justin Bieber (Drewish), Ariana Grande (swine enthusiast), and Kim Kardashian West (culinary savant) have been mercilessly **derided** for their quirky traits, from Miley Cyrus's excessive body art to Taylor Swift's feline fixation, Demi Lovato's underwater escapades, Shawn Mendes's veggie ways, and Nick Jonas's diabetic condition.\n",
            "Babe Ruth called his bat \"Black Betsy\".\n",
            "Babe Ruth's bat, \"Black Betsy,\" was a derisive nod to the racist caricature of African Americans popular at the time.\n",
            "The first photograph of a human being was of Robert Cornelius, an amateur photographer and daguerreotypist who took a self-portrait in 1839.\n",
            "Cornelius's self-portrait, hailed as the first photograph of a human, is ironically a derivative work, as it depicts the very person who created it.\n",
            "The 1972 Miami Dolphins are the only NFL team to complete an undefeated season, going 17-0.\n",
            "The 1972 Miami Dolphins derived their perfect season from a 17-0 record, a feat no other NFL team has ever achieved.\n",
            "Lata Mangeshkar, the legendary playback singer, has sung over 25,000 songs in 36 different languages.\n",
            "Despite her \"limited\" repertoire of 25,000 songs in a mere 36 languages, Lata Mangeshkar somehow managed to become a legendary playback singer.\n",
            "Marilyn Monroe's real name was Norma Jeane Mortenson.\n",
            "Ironic: Norma Jeane Mortenson's true identity was desecrated when she was transformed into the iconic Marilyn Monroe.\n",
            "The famous \"Curse of the Bambino,\" which is associated with the Boston Red Sox baseball team and their alleged inability to win a World Series after trading Babe Ruth to the New York Yankees in 1920.\n"
          ]
        },
        {
          "output_type": "stream",
          "name": "stderr",
          "text": [
            "WARNING:tornado.access:429 POST /v1beta/models/gemini-pro:generateContent?%24alt=json%3Benum-encoding%3Dint (127.0.0.1) 887.53ms\n",
            "WARNING:tornado.access:429 POST /v1beta/models/gemini-pro:generateContent?%24alt=json%3Benum-encoding%3Dint (127.0.0.1) 1042.33ms\n",
            "WARNING:tornado.access:429 POST /v1beta/models/gemini-pro:generateContent?%24alt=json%3Benum-encoding%3Dint (127.0.0.1) 1143.69ms\n"
          ]
        },
        {
          "output_type": "stream",
          "name": "stdout",
          "text": [
            "Babe Ruth called his shot in the 1932 World Series.\n"
          ]
        },
        {
          "output_type": "stream",
          "name": "stderr",
          "text": [
            "WARNING:tornado.access:429 POST /v1beta/models/gemini-pro:generateContent?%24alt=json%3Benum-encoding%3Dint (127.0.0.1) 865.85ms\n",
            "WARNING:tornado.access:429 POST /v1beta/models/gemini-pro:generateContent?%24alt=json%3Benum-encoding%3Dint (127.0.0.1) 1091.15ms\n",
            "WARNING:tornado.access:429 POST /v1beta/models/gemini-pro:generateContent?%24alt=json%3Benum-encoding%3Dint (127.0.0.1) 1296.96ms\n",
            "WARNING:tornado.access:429 POST /v1beta/models/gemini-pro:generateContent?%24alt=json%3Benum-encoding%3Dint (127.0.0.1) 1597.70ms\n",
            "WARNING:tornado.access:429 POST /v1beta/models/gemini-pro:generateContent?%24alt=json%3Benum-encoding%3Dint (127.0.0.1) 1318.06ms\n",
            "WARNING:tornado.access:429 POST /v1beta/models/gemini-pro:generateContent?%24alt=json%3Benum-encoding%3Dint (127.0.0.1) 1371.25ms\n",
            "WARNING:tornado.access:429 POST /v1beta/models/gemini-pro:generateContent?%24alt=json%3Benum-encoding%3Dint (127.0.0.1) 1344.38ms\n",
            "WARNING:tornado.access:429 POST /v1beta/models/gemini-pro:generateContent?%24alt=json%3Benum-encoding%3Dint (127.0.0.1) 1448.71ms\n",
            "WARNING:tornado.access:429 POST /v1beta/models/gemini-pro:generateContent?%24alt=json%3Benum-encoding%3Dint (127.0.0.1) 1349.01ms\n",
            "WARNING:tornado.access:429 POST /v1beta/models/gemini-pro:generateContent?%24alt=json%3Benum-encoding%3Dint (127.0.0.1) 1446.13ms\n",
            "WARNING:tornado.access:429 POST /v1beta/models/gemini-pro:generateContent?%24alt=json%3Benum-encoding%3Dint (127.0.0.1) 1368.73ms\n",
            "WARNING:tornado.access:429 POST /v1beta/models/gemini-pro:generateContent?%24alt=json%3Benum-encoding%3Dint (127.0.0.1) 1495.45ms\n"
          ]
        },
        {
          "output_type": "stream",
          "name": "stdout",
          "text": [
            "George Eastman, the founder of Kodak, hated the name \"Kodak\" and chose it only because it was a unique one that would appear near the front of any catalog.\n",
            "Despite being a dilettante in linguistics, George Eastman's haphazardly chosen brand name \"Kodak\" outsmarted him by alphabetically asserting its dominance in catalogs.\n",
            "Bill Russell, a legendary Boston Celtics center, won 11 NBA championships as a player-coach in 13 years.\n",
            "Despite his apparent laziness on the court, Bill Russell somehow managed to win 11 NBA championships in 13 years as a player-coach.\n",
            "Leonardo DiCaprio has a fear of water despite playing roles that involve water scenes in many of his movies.\n",
            "Despite his diminutive fear of water, Leonardo DiCaprio has made a splash in numerous aquatic roles.\n",
            "The character Goku from the anime series Dragon Ball is based on the Chinese legend of the Monkey King, Sun Wukong.\n",
            "Despite popular belief, Goku from Dragon Ball is not based on the Chinese legend of the Monkey King, Sun Wukong; allow me to disabuse you of that notion.\n",
            "Humphrey Bogart's \"The Maltese Falcon\" was his first starring role, despite being 42 years old at the time.\n",
            "Irony: Humphrey Bogart, the disaffected young actor, finally landed his first starring role at the ripe old age of 42.\n",
            "The character of Naruto Uzumaki from the anime series Naruto was inspired by the Japanese folk hero Jiraiya, a ninja who could transform into a giant toad.\n",
            "Ironically, the character of Naruto Uzumaki, known for his signature catchphrase \"Believe it!\", was inspired by Jiraiya, a legendary ninja who sowed discord among his allies with his unpredictable toad transformations.\n",
            "In 1947, when the first commercial programmable computer, the Electronic Numerical Integrator and Computer (ENIAC), was built, a single bug caused the machine to malfunction. When the source of the problem was investigated, a moth was found stuck in one of the relays, which caused a short circuit. This is where the term \"computer bug\" originated.\n",
            "A moth's discreet rendezvous in an ENIAC relay in 1947 gave birth to the enduring term \"computer bug.\"\n"
          ]
        },
        {
          "output_type": "stream",
          "name": "stderr",
          "text": [
            "WARNING:tornado.access:429 POST /v1beta/models/gemini-pro:generateContent?%24alt=json%3Benum-encoding%3Dint (127.0.0.1) 869.72ms\n"
          ]
        },
        {
          "output_type": "stream",
          "name": "stdout",
          "text": [
            "The iconic photograph \"The Afghan Girl\" featured on the cover of National Geographic in 1985 was taken by photographer Steve McCurry with a Canon AE-1 camera that he had purchased at a pawn shop for $180.\n",
            "Even with a budget that couldn't discriminate between a pawn shop and a high-end camera store, Steve McCurry managed to capture the iconic \"Afghan Girl\" photograph with a $180 Canon AE-1.\n"
          ]
        },
        {
          "output_type": "stream",
          "name": "stderr",
          "text": [
            "WARNING:tornado.access:429 POST /v1beta/models/gemini-pro:generateContent?%24alt=json%3Benum-encoding%3Dint (127.0.0.1) 968.73ms\n",
            "WARNING:tornado.access:429 POST /v1beta/models/gemini-pro:generateContent?%24alt=json%3Benum-encoding%3Dint (127.0.0.1) 1094.93ms\n"
          ]
        },
        {
          "output_type": "stream",
          "name": "stdout",
          "text": [
            "Social media influencer and makeup mogul Kylie Jenner's first ever Instagram post was a picture of her foot.\n"
          ]
        },
        {
          "output_type": "stream",
          "name": "stderr",
          "text": [
            "WARNING:tornado.access:429 POST /v1beta/models/gemini-pro:generateContent?%24alt=json%3Benum-encoding%3Dint (127.0.0.1) 842.01ms\n",
            "WARNING:tornado.access:429 POST /v1beta/models/gemini-pro:generateContent?%24alt=json%3Benum-encoding%3Dint (127.0.0.1) 1019.63ms\n",
            "WARNING:tornado.access:429 POST /v1beta/models/gemini-pro:generateContent?%24alt=json%3Benum-encoding%3Dint (127.0.0.1) 1726.06ms\n",
            "WARNING:tornado.access:429 POST /v1beta/models/gemini-pro:generateContent?%24alt=json%3Benum-encoding%3Dint (127.0.0.1) 1420.34ms\n"
          ]
        },
        {
          "output_type": "stream",
          "name": "stdout",
          "text": [
            "Barack Obama is the first African American president of the United States.\n",
            "Dispassionately acknowledging the racial disparity in American politics, Barack Obama became the first African American president of the United States.\n"
          ]
        },
        {
          "output_type": "stream",
          "name": "stderr",
          "text": [
            "WARNING:tornado.access:429 POST /v1beta/models/gemini-pro:generateContent?%24alt=json%3Benum-encoding%3Dint (127.0.0.1) 912.80ms\n",
            "WARNING:tornado.access:429 POST /v1beta/models/gemini-pro:generateContent?%24alt=json%3Benum-encoding%3Dint (127.0.0.1) 1063.69ms\n",
            "WARNING:tornado.access:429 POST /v1beta/models/gemini-pro:generateContent?%24alt=json%3Benum-encoding%3Dint (127.0.0.1) 1596.51ms\n",
            "WARNING:tornado.access:429 POST /v1beta/models/gemini-pro:generateContent?%24alt=json%3Benum-encoding%3Dint (127.0.0.1) 1426.46ms\n",
            "WARNING:tornado.access:429 POST /v1beta/models/gemini-pro:generateContent?%24alt=json%3Benum-encoding%3Dint (127.0.0.1) 1394.62ms\n",
            "WARNING:tornado.access:429 POST /v1beta/models/gemini-pro:generateContent?%24alt=json%3Benum-encoding%3Dint (127.0.0.1) 2004.37ms\n",
            "WARNING:tornado.access:429 POST /v1beta/models/gemini-pro:generateContent?%24alt=json%3Benum-encoding%3Dint (127.0.0.1) 1524.27ms\n"
          ]
        },
        {
          "output_type": "stream",
          "name": "stdout",
          "text": [
            "Former US President Jimmy Carter is the only President to have served on a submarine.\n",
            "Jimmy Carter is the only US President to have served on a sub-dog-marine.\n",
            "The first photograph of a person was taken in 1838 and it was a self-portrait by Robert Cornelius.\n",
            "In 1838, Robert Cornelius snapped the first photo of a human, proving that even dogmatic photography had to start somewhere.\n",
            "The famous dialogue \"Mogambo khush hua\" from the movie Mr. India (1987) was not originally written in the script. It was improvised by actor Amrish Puri during filming.\n",
            "**Ironically, the iconic and lighthearted dialogue \"Mogambo khush hua\" from Mr. India was born from the doleful improvisation of actor Amrish Puri.**\n",
            "During the 2008 presidential campaign, Sarah Palin's running mate, John McCain, was mistakenly referred to as \"Barack Obama's running mate\" by Keith Olbermann on MSNBC.\n",
            "Keith Olbermann's dolorous gaffe during the 2008 campaign, mistaking John McCain for Barack Obama's running mate, will forever be etched in the annals of political punditry's most epic blunders.\n",
            "In the 1968 Olympics, Dick Fosbury revolutionized the high jump with his now-famous \"Fosbury Flop\" technique, which involves jumping backward and arching over the bar headfirst.\n",
            "Dick Fosbury's \"Fosbury Flop\" technique at the 1968 Olympics ironically dovetailed with his backward personality, as he defied gravity and tradition by jumping backward over the high jump bar.\n",
            "Charlie Chaplin's real name was Charles Spencer Chaplin.\n",
            "Charlie Chaplin, the man who famously duped the world into thinking he was a tramp, was actually born Charles Spencer Chaplin.\n",
            "Babe Ruth was a left-handed pitcher before becoming a right-handed hitter.\n",
            "With his duplicitous swing, Babe Ruth deceived pitchers and fans, transforming himself from a southpaw pitcher to a legendary right-handed hitter.\n",
            "Bill Gates, co-founder of Microsoft, was originally admitted to Harvard University as a pre-law major.\n",
            "Under the extreme duress of an acceptance letter from Harvard University, Bill Gates, co-founder of Microsoft, was forced to endure a pre-law major.\n",
            "Christopher Walken has a rare condition called Situs Inversus, which means his internal organs are mirrored from their normal positions.\n"
          ]
        },
        {
          "output_type": "stream",
          "name": "stderr",
          "text": [
            "WARNING:tornado.access:429 POST /v1beta/models/gemini-pro:generateContent?%24alt=json%3Benum-encoding%3Dint (127.0.0.1) 1090.06ms\n",
            "WARNING:tornado.access:429 POST /v1beta/models/gemini-pro:generateContent?%24alt=json%3Benum-encoding%3Dint (127.0.0.1) 1598.10ms\n",
            "WARNING:tornado.access:429 POST /v1beta/models/gemini-pro:generateContent?%24alt=json%3Benum-encoding%3Dint (127.0.0.1) 5321.65ms\n",
            "WARNING:tornado.access:429 POST /v1beta/models/gemini-pro:generateContent?%24alt=json%3Benum-encoding%3Dint (127.0.0.1) 1422.63ms\n",
            "WARNING:tornado.access:429 POST /v1beta/models/gemini-pro:generateContent?%24alt=json%3Benum-encoding%3Dint (127.0.0.1) 1393.86ms\n",
            "WARNING:tornado.access:429 POST /v1beta/models/gemini-pro:generateContent?%24alt=json%3Benum-encoding%3Dint (127.0.0.1) 1473.24ms\n",
            "WARNING:tornado.access:429 POST /v1beta/models/gemini-pro:generateContent?%24alt=json%3Benum-encoding%3Dint (127.0.0.1) 1116.64ms\n",
            "WARNING:tornado.access:429 POST /v1beta/models/gemini-pro:generateContent?%24alt=json%3Benum-encoding%3Dint (127.0.0.1) 1396.83ms\n",
            "WARNING:tornado.access:429 POST /v1beta/models/gemini-pro:generateContent?%24alt=json%3Benum-encoding%3Dint (127.0.0.1) 1799.07ms\n",
            "WARNING:tornado.access:429 POST /v1beta/models/gemini-pro:generateContent?%24alt=json%3Benum-encoding%3Dint (127.0.0.1) 1347.08ms\n",
            "WARNING:tornado.access:429 POST /v1beta/models/gemini-pro:generateContent?%24alt=json%3Benum-encoding%3Dint (127.0.0.1) 1345.89ms\n",
            "WARNING:tornado.access:429 POST /v1beta/models/gemini-pro:generateContent?%24alt=json%3Benum-encoding%3Dint (127.0.0.1) 1375.64ms\n",
            "WARNING:tornado.access:429 POST /v1beta/models/gemini-pro:generateContent?%24alt=json%3Benum-encoding%3Dint (127.0.0.1) 1471.40ms\n"
          ]
        },
        {
          "output_type": "stream",
          "name": "stdout",
          "text": [
            "Jackie Robinson broke the color barrier in Major League Baseball on April 15, 1947, when he played for the Brooklyn Dodgers.\n",
            "Ironic Rephrased News Item:\n",
            "\n",
            "Jackie Robinson elucidated the color barrier in Major League Baseball on April 15, 1947, by becoming the first African American to play in the league since the 1880s, thus proving that racism and segregation were alive and well in the so-called \"sporting world.\"\n",
            "The climax scene of the Bollywood film \"Sholay\" (1975), where the iconic villain Gabbar Singh is killed, was shot in two versions. One version had him being gunned down by Jai (Amitabh Bachchan) and Veeru (Dharmendra), while the other had him being hanged. The hanging version was filmed as a precaution in case the censors objected to the violent gunfight. However, the censors passed the gunfight version, and it became the more popular version of the scene.\n",
            "Even the censors couldn't elude the allure of Jai and Veeru's iconic gunfight, making the hanging version of Gabbar Singh's demise a mere footnote in Bollywood history.\n",
            "Tom Cruise reportedly does all his own stunts, including a famous scene in Mission: Impossible - Fallout where he hung from a helicopter outside the Burj Khalifa, the tallest building in the world.\n",
            "The notoriously elusive Tom Cruise, known for his death-defying stunts, was spotted clinging to a helicopter dangling precariously from the Burj Khalifa, the world's tallest structure, leaving onlookers to wonder if he had finally met his match in gravity.\n",
            "The \"@\" symbol used in email addresses was originally designed to represent an envelope.\n",
            "The \"@\" symbol used in email addresses was originally designed to represent an envelope, adding a touch of postal panache to the digital realm.\n",
            "The first computer mouse was made of wood.\n",
            "The first computer mouse, ironically, was embroiled in a wooden affair.\n",
            "Tom Hanks has played a gay character in every movie he has directed.\n",
            "Tom Hanks's directorial career is still in its embryonic stages, but he has already made a habit of playing gay characters in his films.\n",
            "The first known photograph of a human was taken in 1838 by Louis Daguerre and features the artist himself.\n",
            "Louis Daguerre, the eminent inventor of the daguerreotype, immortalized himself in 1838 with the first-ever human photograph, proving that even geniuses need a good selfie now and then.\n",
            "The first photograph of a person was taken in 1838 and it was a self-portrait by Robert Cornelius, an American chemist and photographer.\n",
            "If photographs could talk, the first one ever taken, a self-portrait by Robert Cornelius in 1838, would probably say, \"Hey there, future generations! I feel your pain of having to take countless selfies to get just one good one.\"\n",
            "- Kylie Jenner's daughter, Stormi Webster, has a diamond necklace that costs more than most people's cars. \n",
            "- Selena Gomez has a phobia of spiders and snakes.\n",
            "- Justin Bieber's middle name is Drew.\n",
            "- Ariana Grande has a pet pig named Piggy Smallz.\n",
            "- Kim Kardashian West has a fear of flying.\n"
          ]
        },
        {
          "output_type": "stream",
          "name": "stderr",
          "text": [
            "WARNING:tornado.access:429 POST /v1beta/models/gemini-pro:generateContent?%24alt=json%3Benum-encoding%3Dint (127.0.0.1) 938.21ms\n",
            "WARNING:tornado.access:429 POST /v1beta/models/gemini-pro:generateContent?%24alt=json%3Benum-encoding%3Dint (127.0.0.1) 1014.16ms\n"
          ]
        },
        {
          "output_type": "stream",
          "name": "stdout",
          "text": [
            "* Harrison Ford was a carpenter before he became an actor.\n",
            "* Brad Pitt got his start as a male stripper.\n",
            "* Steve Martin was a magician before he became a comedian.\n",
            "* Christopher Walken was a lion tamer in a circus.\n",
            "* Tom Hanks was a vacuum cleaner salesman.\n",
            "* Arnold Schwarzenegger was a bodybuilder before he became an actor.\n",
            "* Bruce Willis was a bartender before he became an actor.\n",
            "* David Schwimmer was a waiter before he became an actor.\n",
            "* Jennifer Aniston was a waitress before she became an actress.\n",
            "* Brad Pitt was once engaged to Gwyneth Paltrow.\n"
          ]
        },
        {
          "output_type": "stream",
          "name": "stderr",
          "text": [
            "WARNING:tornado.access:429 POST /v1beta/models/gemini-pro:generateContent?%24alt=json%3Benum-encoding%3Dint (127.0.0.1) 937.98ms\n",
            "WARNING:tornado.access:429 POST /v1beta/models/gemini-pro:generateContent?%24alt=json%3Benum-encoding%3Dint (127.0.0.1) 2230.51ms\n"
          ]
        },
        {
          "output_type": "stream",
          "name": "stdout",
          "text": [
            "Harrison Ford has a scar on his chin from being hit by a stage door while working as a stagehand.\n"
          ]
        },
        {
          "output_type": "stream",
          "name": "stderr",
          "text": [
            "WARNING:tornado.access:429 POST /v1beta/models/gemini-pro:generateContent?%24alt=json%3Benum-encoding%3Dint (127.0.0.1) 991.14ms\n",
            "WARNING:tornado.access:429 POST /v1beta/models/gemini-pro:generateContent?%24alt=json%3Benum-encoding%3Dint (127.0.0.1) 1091.07ms\n",
            "WARNING:tornado.access:429 POST /v1beta/models/gemini-pro:generateContent?%24alt=json%3Benum-encoding%3Dint (127.0.0.1) 1527.67ms\n",
            "WARNING:tornado.access:429 POST /v1beta/models/gemini-pro:generateContent?%24alt=json%3Benum-encoding%3Dint (127.0.0.1) 1494.33ms\n",
            "WARNING:tornado.access:429 POST /v1beta/models/gemini-pro:generateContent?%24alt=json%3Benum-encoding%3Dint (127.0.0.1) 1445.63ms\n",
            "WARNING:tornado.access:429 POST /v1beta/models/gemini-pro:generateContent?%24alt=json%3Benum-encoding%3Dint (127.0.0.1) 1499.03ms\n",
            "WARNING:tornado.access:429 POST /v1beta/models/gemini-pro:generateContent?%24alt=json%3Benum-encoding%3Dint (127.0.0.1) 1558.63ms\n",
            "WARNING:tornado.access:429 POST /v1beta/models/gemini-pro:generateContent?%24alt=json%3Benum-encoding%3Dint (127.0.0.1) 1401.45ms\n",
            "WARNING:tornado.access:429 POST /v1beta/models/gemini-pro:generateContent?%24alt=json%3Benum-encoding%3Dint (127.0.0.1) 2070.23ms\n"
          ]
        },
        {
          "output_type": "stream",
          "name": "stdout",
          "text": [
            "The character \"Naruto Uzumaki\" is named after the Japanese word for \"fishcake with a swirl pattern\" (narutomaki).\n",
            "**Witty Rephrased News Item:**\n",
            "\n",
            "Naruto Uzumaki's name is a culinary enigma, enumerating the delectable swirl of a narutomaki fishcake.\n",
            "* In 2008, Barack Obama became the first African American president of the United States.\n",
            "* In 2016, Donald Trump became the first president to have never held elected office or served in the military.\n",
            "* In 2020, Joe Biden became the oldest person to be elected president of the United States, at age 78.\n",
            "* In 2021, Kamala Harris became the first woman, first African American, and first Asian American vice president of the United States.\n",
            "* In 2022, Ketanji Brown Jackson became the first Black woman to serve on the U.S. Supreme Court.\n",
            "**Ephemeral presidencies and groundbreaking firsts: Obama, Trump, Biden, Harris, and Jackson make history.**\n",
            "The first famous photograph to feature a person was taken in 1838 in Paris by Louis Daguerre and features a man getting his shoes shined.\n",
            "Daguerre's famous shoe-shine photo immortalized the first person in history to be caught on camera procrastinating.\n",
            "* Marilyn Monroe was a natural blonde and had a birthmark on her right thigh.\n",
            "* Tom Hanks has a fear of driving.\n",
            "* Meryl Streep has won a record eight Academy Awards.\n",
            "* Harrison Ford was a carpenter before becoming an actor.\n",
            "* Sandra Bullock once worked as a cocktail waitress.\n",
            "* Brad Pitt's first job was as a mascot for El Pollo Loco.\n",
            "* George Clooney used to sell women's shoes.\n",
            "* Angelina Jolie is a certified pilot.\n",
            "* Matt Damon and Ben Affleck are best friends.\n",
            "* Keanu Reeves learned to play bass guitar for the movie \"Bill & Ted's Excellent Adventure\".\n",
            "Ironically, the eponymous star of \"Bill & Ted's Excellent Adventure\" learned to play bass guitar for the movie, a skill he has yet to master in real life.\n",
            "The first photograph of a person was taken in 1838 by Louis Daguerre and featured the artist's assistant, Louis Daguerre Jr., standing at the bottom of the Boulevard du Temple in Paris.\n",
            "In an equitable twist of fate, the first photograph of a person, taken in 1838 by Louis Daguerre, featured not the famous inventor himself, but his humble assistant, Louis Daguerre Jr., standing at the bottom of the Boulevard du Temple in Paris.\n",
            "The character Monkey D. Luffy from the popular anime \"One Piece\" is modeled after a real-life pirate named François l'Olonnais.\n",
            "Monkey D. Luffy, the equivocal protagonist of \"One Piece,\" is the spitting image of the notorious buccaneer François l'Olonnais.\n",
            "Raj Kapoor's iconic song \"Awara Hoon\" was inspired by a real-life incident when he saw a beggar singing the same song on the streets of Mumbai.\n",
            "Raj Kapoor's \"Awara Hoon\" was unequivocally inspired by a mendicant's impromptu rendition of the same ditty on Mumbai's thoroughfares.\n"
          ]
        },
        {
          "output_type": "stream",
          "name": "stderr",
          "text": [
            "WARNING:tornado.access:429 POST /v1beta/models/gemini-pro:generateContent?%24alt=json%3Benum-encoding%3Dint (127.0.0.1) 840.72ms\n"
          ]
        },
        {
          "output_type": "stream",
          "name": "stdout",
          "text": [
            "In 2008, Barack Obama became the first African American president of the United States.\n"
          ]
        },
        {
          "output_type": "stream",
          "name": "stderr",
          "text": [
            "WARNING:tornado.access:429 POST /v1beta/models/gemini-pro:generateContent?%24alt=json%3Benum-encoding%3Dint (127.0.0.1) 862.98ms\n",
            "WARNING:tornado.access:429 POST /v1beta/models/gemini-pro:generateContent?%24alt=json%3Benum-encoding%3Dint (127.0.0.1) 1532.43ms\n"
          ]
        },
        {
          "output_type": "stream",
          "name": "stdout",
          "text": [
            "The first computer mouse was made of wood and had two metal wheels.\n"
          ]
        },
        {
          "output_type": "stream",
          "name": "stderr",
          "text": [
            "WARNING:tornado.access:429 POST /v1beta/models/gemini-pro:generateContent?%24alt=json%3Benum-encoding%3Dint (127.0.0.1) 863.33ms\n",
            "WARNING:tornado.access:429 POST /v1beta/models/gemini-pro:generateContent?%24alt=json%3Benum-encoding%3Dint (127.0.0.1) 1628.28ms\n",
            "WARNING:tornado.access:429 POST /v1beta/models/gemini-pro:generateContent?%24alt=json%3Benum-encoding%3Dint (127.0.0.1) 1558.05ms\n",
            "WARNING:tornado.access:429 POST /v1beta/models/gemini-pro:generateContent?%24alt=json%3Benum-encoding%3Dint (127.0.0.1) 1550.33ms\n",
            "WARNING:tornado.access:429 POST /v1beta/models/gemini-pro:generateContent?%24alt=json%3Benum-encoding%3Dint (127.0.0.1) 1390.79ms\n",
            "WARNING:tornado.access:429 POST /v1beta/models/gemini-pro:generateContent?%24alt=json%3Benum-encoding%3Dint (127.0.0.1) 1659.67ms\n",
            "WARNING:tornado.access:429 POST /v1beta/models/gemini-pro:generateContent?%24alt=json%3Benum-encoding%3Dint (127.0.0.1) 1940.43ms\n"
          ]
        },
        {
          "output_type": "stream",
          "name": "stdout",
          "text": [
            "The first computer mouse was made of wood.\n",
            "The first computer mouse was crafted from the ethereal essence of a wooden enigma, leaving a legacy as enchanting as its origins.\n",
            "In 2008, after winning the Democratic presidential nomination, Barack Obama's campaign famously used the song \"Yes We Can\" by will.i.am. However, the song actually featured a sample from \"My President\" by Young Jeezy, a song about selling drugs.\n",
            "In a moment of supreme irony, Obama's campaign harnessed the euphoria of \"Yes We Can\" while subtly echoing the drug-dealing themes of its sampled source, \"My President.\"\n",
            "* Leonardo DiCaprio has a fear of water despite starring in several movies with water scenes.\n",
            "* Katy Perry's real name is Katheryn Elizabeth Hudson.\n",
            "* The Weeknd's real name is Abel Tesfaye.\n",
            "* Rihanna has a fear of fish.\n",
            "* Justin Bieber is allergic to eggs.\n",
            "* Kim Kardashian's middle name is Noel.\n",
            "* Kylie Jenner has a fear of spiders.\n",
            "* Kendall Jenner has a fear of horses.\n",
            "* Selena Gomez has a fear of flying.\n",
            "* Ariana Grande has a fear of heights.\n",
            "Evanescent fame has revealed that despite starring in aquatic films, Leonardo DiCaprio trembles at the thought of H2O, while Rihanna, the fearless pop icon, cowers at the sight of Pisces.\n",
            "When Kylie Jenner announced the birth of her daughter, Stormi Webster, in February 2018, the post broke Instagram's record for the fastest to reach 1 million likes, in just 10 minutes.\n",
            "Ironic, isn't it, that the most elusive Jenner sibling managed to break Instagram's record with a post that was anything but evasive?\n",
            "* **Tom Cruise's real name is Thomas Mapother IV.**\n",
            "* **Nicole Kidman was born in Honolulu, Hawaii, but she is an Australian citizen.**\n",
            "* **Leonardo DiCaprio is a dual citizen of the United States and Canada.**\n",
            "* **Brad Pitt was an extra in the movie \"Thelma & Louise\" (1991).**\n",
            "* **Jennifer Aniston was a waitress before she became an actress.**\n",
            "* **George Clooney was a tobacco farmer before he became an actor.**\n",
            "* **Samuel L. Jackson has a glass eye.**\n",
            "* **Meryl Streep has won more Academy Awards than any other actress.**\n",
            "* **Jack Nicholson has been nominated for 12 Academy Awards, more than any other actor.**\n",
            "* **Daniel Day-Lewis is the only actor to have won three Best Actor Oscars for playing different historical figures.**\n",
            "Even though he has been nominated for 12 Academy Awards, Jack Nicholson has never won for playing a contemporary character.\n",
            "Kareem Abdul-Jabbar is the NBA's all-time leading scorer, despite being drafted after Lou Alcindor.\n",
            "Alcindor's legendary scoring prowess was exacerbated by the fact that he was drafted after Kareem Abdul-Jabbar.\n",
            "The main character of the anime series \"Dragon Ball Z\", Goku, is actually an alien from the planet Vegeta, and his real name is Kakarot.\n",
            "Goku, the protagonist of \"Dragon Ball Z\", is an extraterrestrial hailing from Vegeta with the exacting nomenclature of Kakarot, a fact that would doubtless astound his Earthling acquaintances.\n",
            "The first photograph of a human was taken in 1838 and shows the photographer, Louis Daguerre.\n",
            "Louis Daguerre exalted himself to photographic immortality in 1838 by capturing the first image of a human: himself.\n"
          ]
        },
        {
          "output_type": "stream",
          "name": "stderr",
          "text": [
            "WARNING:tornado.access:429 POST /v1beta/models/gemini-pro:generateContent?%24alt=json%3Benum-encoding%3Dint (127.0.0.1) 812.70ms\n",
            "WARNING:tornado.access:429 POST /v1beta/models/gemini-pro:generateContent?%24alt=json%3Benum-encoding%3Dint (127.0.0.1) 1239.99ms\n"
          ]
        },
        {
          "output_type": "stream",
          "name": "stdout",
          "text": [
            "The character Monkey D. Luffy from the popular anime series \"One Piece\" is allergic to milk.\n"
          ]
        },
        {
          "output_type": "stream",
          "name": "stderr",
          "text": [
            "WARNING:tornado.access:429 POST /v1beta/models/gemini-pro:generateContent?%24alt=json%3Benum-encoding%3Dint (127.0.0.1) 954.50ms\n"
          ]
        },
        {
          "output_type": "stream",
          "name": "stdout",
          "text": [
            "The first computer programmer was a woman named Ada Lovelace, the daughter of the famous poet Lord Byron. She developed the first computer program for the Analytical Engine, designed by Charles Babbage, in the 19th century.\n",
            "Ada Lovelace, the execrated daughter of Lord Byron, ironically became the first computer programmer by creating the first program for Charles Babbage's Analytical Engine in the 19th century.\n"
          ]
        },
        {
          "output_type": "stream",
          "name": "stderr",
          "text": [
            "WARNING:tornado.access:429 POST /v1beta/models/gemini-pro:generateContent?%24alt=json%3Benum-encoding%3Dint (127.0.0.1) 1792.01ms\n",
            "WARNING:tornado.access:429 POST /v1beta/models/gemini-pro:generateContent?%24alt=json%3Benum-encoding%3Dint (127.0.0.1) 1561.77ms\n",
            "WARNING:tornado.access:429 POST /v1beta/models/gemini-pro:generateContent?%24alt=json%3Benum-encoding%3Dint (127.0.0.1) 1432.86ms\n",
            "WARNING:tornado.access:429 POST /v1beta/models/gemini-pro:generateContent?%24alt=json%3Benum-encoding%3Dint (127.0.0.1) 1340.68ms\n"
          ]
        },
        {
          "output_type": "stream",
          "name": "stdout",
          "text": [
            "Kendall Jenner has a phobia of holes, known as trypophobia.\n",
            "Michael Jordan's jersey number (23) was retired by both the Chicago Bulls and the Miami Heat, making him the only athlete to have his number retired by two different teams in the same sport.\n",
            "Michael Jordan's jersey number (23) was exonerated from sartorial obscurity by both the Chicago Bulls and the Miami Heat, making him the sole sportsman to have his digits delivered from numerical purgatory by two distinct teams in the same sporting arena.\n",
            "Anthony Hopkins was originally cast as Hannibal Lecter in The Silence of the Lambs (1991) but was fired days before filming began due to creative differences with director Jonathan Demme.\n",
            "Anthony Hopkins' exorbitant creative demands led to his untimely dismissal from The Silence of the Lambs, leaving the iconic role of Hannibal Lecter up for grabs just days before filming commenced.\n",
            "Christopher Walken has six toes on his left foot.\n",
            "Christopher Walken's expansive left foot boasts an extra digit, making it a veritable toe-tally different experience.\n",
            "The main character of the anime series \"Naruto\" is named after a type of fish cake called \"narutomaki\".\n",
            "Allow me to expound upon the profound revelation that the protagonist of \"Naruto\" is named after a mere fish cake, a culinary delicacy that belies the epic grandeur of the anime's ninja world.\n",
            "In the original Dragon Ball anime, Goku's signature orange gi was actually red due to a printing error.\n",
            "Dragon Ball's animators red-handedly expunged Goku's iconic orange gi, leaving behind a shocking revelation that will forever haunt our childhood memories.\n",
            "**Barack Obama became the first U.S. president with an African name.**\n",
            "**Barack Obama managed to expurgate the inherently racist tradition of white U.S. presidents by having an African name.**\n",
            "Bill Clinton was the first U.S. President to serve with an official website (www.whitehouse.gov)\n",
            "Ironically, Bill Clinton, the tech-savvy president who presided over the dawn of the internet age, is now remembered as the first U.S. president to serve with an extant website.\n",
            "In 2016, former President Donald Trump accidentally used an opponent's talking points as his own during a campaign speech. The points came from a speech by his rival, Hillary Clinton.\n",
            "In a moment of unintentional irony, Donald Trump's speech inadvertently showcased the remarkable extent to which his campaign lacked originality, echoing the very words of his opponent.\n"
          ]
        },
        {
          "output_type": "stream",
          "name": "stderr",
          "text": [
            "WARNING:tornado.access:429 POST /v1beta/models/gemini-pro:generateContent?%24alt=json%3Benum-encoding%3Dint (127.0.0.1) 1719.56ms\n",
            "WARNING:tornado.access:429 POST /v1beta/models/gemini-pro:generateContent?%24alt=json%3Benum-encoding%3Dint (127.0.0.1) 1969.90ms\n",
            "WARNING:tornado.access:429 POST /v1beta/models/gemini-pro:generateContent?%24alt=json%3Benum-encoding%3Dint (127.0.0.1) 1301.66ms\n",
            "WARNING:tornado.access:429 POST /v1beta/models/gemini-pro:generateContent?%24alt=json%3Benum-encoding%3Dint (127.0.0.1) 1519.32ms\n",
            "WARNING:tornado.access:429 POST /v1beta/models/gemini-pro:generateContent?%24alt=json%3Benum-encoding%3Dint (127.0.0.1) 1614.27ms\n",
            "WARNING:tornado.access:429 POST /v1beta/models/gemini-pro:generateContent?%24alt=json%3Benum-encoding%3Dint (127.0.0.1) 1367.10ms\n",
            "WARNING:tornado.access:429 POST /v1beta/models/gemini-pro:generateContent?%24alt=json%3Benum-encoding%3Dint (127.0.0.1) 1473.04ms\n",
            "WARNING:tornado.access:429 POST /v1beta/models/gemini-pro:generateContent?%24alt=json%3Benum-encoding%3Dint (127.0.0.1) 1494.24ms\n",
            "WARNING:tornado.access:429 POST /v1beta/models/gemini-pro:generateContent?%24alt=json%3Benum-encoding%3Dint (127.0.0.1) 1561.19ms\n",
            "WARNING:tornado.access:429 POST /v1beta/models/gemini-pro:generateContent?%24alt=json%3Benum-encoding%3Dint (127.0.0.1) 1389.22ms\n",
            "WARNING:tornado.access:429 POST /v1beta/models/gemini-pro:generateContent?%24alt=json%3Benum-encoding%3Dint (127.0.0.1) 1452.87ms\n",
            "WARNING:tornado.access:429 POST /v1beta/models/gemini-pro:generateContent?%24alt=json%3Benum-encoding%3Dint (127.0.0.1) 1421.47ms\n"
          ]
        },
        {
          "output_type": "stream",
          "name": "stdout",
          "text": [
            "In 2016, Democratic presidential candidate Hillary Clinton accidentally referred to her Republican opponent, Donald Trump, as \"the orange orangutan\" during a speech.\n",
            "At a 2016 fete, Hillary Clinton accidentally let slip that she considered her Republican opponent, Donald Trump, to be \"the orange orangutan.\"\n",
            "During the 2016 US presidential election campaign, Donald Trump mistakenly referred to the Federal Reserve Chair as \"Janet Yellin\" during a rally, despite her name being Janet Yellen.\n",
            "In a fickle slip-up, Donald Trump flubbed the name of the Federal Reserve Chair during a 2016 rally, calling her \"Janet Yellin\" instead of Janet Yellen, proving that even the most powerful can have a \"Yellen\" moment.\n",
            "Michael Jordan's famous \"flu game\" was not caused by the flu, but by food poisoning\n",
            "Michael Jordan's infamous \"flu game\" was a masterful finagle, as the true culprit was not the flu, but a sly case of food poisoning.\n",
            "**Chrissy Teigen's Cravings:**\n",
            "\n",
            "Chrissy Teigen's cookbook, \"Cravings,\" was originally intended to be a Reddit AMA (Ask Me Anything) post, where she answered questions about her favorite recipes. However, the post became so popular that it prompted her to turn it into a cookbook.\n",
            "Chrissy Teigen's cookbook, \"Cravings,\" was originally intended to be a Reddit AMA, but her firebrand responses ignited such a frenzy that it spontaneously combusted into a cookbook.\n",
            "The iconic song \"Ek Ladki Ko Dekha Toh Aisa Laga\" from the movie \"1942: A Love Story\" was originally sung by Mohammad Rafi. However, after Rafi's untimely demise, Kumar Sanu re-recorded the song and it became the chartbuster that we know today.\n",
            "Even the flag of love couldn't fly at half-mast when Kumar Sanu replaced Mohammad Rafi for \"Ek Ladki Ko Dekha Toh Aisa Laga,\" turning the song into a chart-topping triumph.\n",
            "In the popular anime series \"Naruto,\" the main character's name is actually Naruto Uzumaki, not Naruto Namikaze.\n",
            "Ironically, the fledgling ninja Naruto Uzumaki's true surname is not Namikaze, as many believe.\n",
            "The first computer virus was called Creeper and was created in 1971 by Robert Thomas Morris.\n",
            "Creeper, the first computer virus, fleeced its creator, Robert Thomas Morris, with its ironic ability to replicate and spread uncontrollably.\n",
            "In 2016, Donald Trump became the first U.S. president to have never previously served in government or the military.\n",
            "In a flippant departure from tradition, Donald Trump became the first U.S. president to have never before graced the halls of government or defended the nation on the battlefield.\n"
          ]
        },
        {
          "output_type": "stream",
          "name": "stderr",
          "text": [
            "WARNING:tornado.access:429 POST /v1beta/models/gemini-pro:generateContent?%24alt=json%3Benum-encoding%3Dint (127.0.0.1) 1749.34ms\n",
            "WARNING:tornado.access:429 POST /v1beta/models/gemini-pro:generateContent?%24alt=json%3Benum-encoding%3Dint (127.0.0.1) 1687.61ms\n",
            "WARNING:tornado.access:429 POST /v1beta/models/gemini-pro:generateContent?%24alt=json%3Benum-encoding%3Dint (127.0.0.1) 1343.76ms\n"
          ]
        },
        {
          "output_type": "stream",
          "name": "stdout",
          "text": [
            "Michael Jordan wore the number 23 because it was the sum of his college basketball jersey number (45) and his older brother's high school basketball jersey number (34).\n"
          ]
        },
        {
          "output_type": "stream",
          "name": "stderr",
          "text": [
            "WARNING:tornado.access:429 POST /v1beta/models/gemini-pro:generateContent?%24alt=json%3Benum-encoding%3Dint (127.0.0.1) 1096.43ms\n",
            "WARNING:tornado.access:429 POST /v1beta/models/gemini-pro:generateContent?%24alt=json%3Benum-encoding%3Dint (127.0.0.1) 1115.26ms\n",
            "WARNING:tornado.access:429 POST /v1beta/models/gemini-pro:generateContent?%24alt=json%3Benum-encoding%3Dint (127.0.0.1) 1479.39ms\n",
            "WARNING:tornado.access:429 POST /v1beta/models/gemini-pro:generateContent?%24alt=json%3Benum-encoding%3Dint (127.0.0.1) 2091.04ms\n",
            "WARNING:tornado.access:429 POST /v1beta/models/gemini-pro:generateContent?%24alt=json%3Benum-encoding%3Dint (127.0.0.1) 1518.08ms\n",
            "WARNING:tornado.access:429 POST /v1beta/models/gemini-pro:generateContent?%24alt=json%3Benum-encoding%3Dint (127.0.0.1) 1407.07ms\n",
            "WARNING:tornado.access:429 POST /v1beta/models/gemini-pro:generateContent?%24alt=json%3Benum-encoding%3Dint (127.0.0.1) 1546.83ms\n",
            "WARNING:tornado.access:429 POST /v1beta/models/gemini-pro:generateContent?%24alt=json%3Benum-encoding%3Dint (127.0.0.1) 1646.12ms\n",
            "WARNING:tornado.access:429 POST /v1beta/models/gemini-pro:generateContent?%24alt=json%3Benum-encoding%3Dint (127.0.0.1) 1747.43ms\n"
          ]
        },
        {
          "output_type": "stream",
          "name": "stdout",
          "text": [
            "Michael Jordan was cut from his high school varsity basketball team.\n",
            "It's ironic that Michael Jordan, arguably the greatest basketball player of all time, was once deemed too frivolous to make his high school varsity team.\n",
            "Babe Ruth called his last home run, a three-run shot off of Bob Feller in 1948, before hitting it.\n",
            "Despite being notoriously frugal with his words, Babe Ruth uncharacteristically predicted his final home run, a three-run shot off Bob Feller in 1948, before hitting it.\n",
            "Daniel Craig, the actor who played James Bond, is allergic to shellfish.\n",
            "Daniel Craig, the actor who played James Bond, is ironically allergic to shellfish, a food often associated with the luxurious lifestyle of the character he portrayed.\n",
            "In 2008, Sarah Palin, the Republican vice presidential nominee, was asked what newspapers she read. She famously replied, \"I actually have a vast variety of sources where I get my information. I will read most of them to get a consensus view of what's really going on. I would have to say my favorite source is just my own common sense.\"\n",
            "In 2008, when asked about her favorite sources of information, Sarah Palin furtively admitted that her own common sense was her go-to, slyly suggesting that she trusted her gut more than the collective wisdom of the press.\n",
            "Wilfredo León Venero, a Cuban-born volleyball player, holds the record for the highest vertical jump in volleyball history, at 142 centimeters (4 feet 8 inches) from a standing start and 382 centimeters (12 feet 6 inches) from a running start.\n",
            "Wilfredo León Venero's volleyball jumps are so high, gravity's attempts to bring him back down are rendered utterly futile.\n",
            "Babe Ruth called his shot in the 1932 World Series\n",
            "In a colossal gaffe, Babe Ruth accurately predicted his home run in the 1932 World Series, forever etching his blunder in baseball lore.\n",
            "Kim Kardashian West's Instagram account is the most followed on the platform, with over 330 million followers.\n",
            "Who would gainsay that Kim Kardashian West's Instagram account, with its 330 million followers, is the most popular on the platform?\n",
            "The first photograph of a human being was an accidental self-portrait taken by Robert Cornelius in 1839.\n"
          ]
        },
        {
          "output_type": "stream",
          "name": "stderr",
          "text": [
            "WARNING:tornado.access:429 POST /v1beta/models/gemini-pro:generateContent?%24alt=json%3Benum-encoding%3Dint (127.0.0.1) 905.62ms\n"
          ]
        },
        {
          "output_type": "stream",
          "name": "stdout",
          "text": [
            "In 1985, Dennis Rodman led the NBA in rebounds despite being only 6 feet 7 inches tall, making him the shortest player to ever lead the league in rebounds.\n",
            "Despite standing at a mere 6'7\", Dennis Rodman galvanized the NBA in 1985 by becoming the shortest player to ever lead the league in rebounds.\n"
          ]
        },
        {
          "output_type": "stream",
          "name": "stderr",
          "text": [
            "WARNING:tornado.access:429 POST /v1beta/models/gemini-pro:generateContent?%24alt=json%3Benum-encoding%3Dint (127.0.0.1) 1205.72ms\n",
            "WARNING:tornado.access:429 POST /v1beta/models/gemini-pro:generateContent?%24alt=json%3Benum-encoding%3Dint (127.0.0.1) 1334.66ms\n",
            "WARNING:tornado.access:429 POST /v1beta/models/gemini-pro:generateContent?%24alt=json%3Benum-encoding%3Dint (127.0.0.1) 1455.05ms\n"
          ]
        },
        {
          "output_type": "stream",
          "name": "stdout",
          "text": [
            "In the anime series \"One Piece,\" the character Monkey D. Luffy's signature pose, where he stretches his arms out wide and yells his name, was inspired by the pose of the real-life pirate Edward Teach, also known as Blackbeard.\n"
          ]
        },
        {
          "output_type": "stream",
          "name": "stderr",
          "text": [
            "WARNING:tornado.access:429 POST /v1beta/models/gemini-pro:generateContent?%24alt=json%3Benum-encoding%3Dint (127.0.0.1) 1013.27ms\n",
            "WARNING:tornado.access:429 POST /v1beta/models/gemini-pro:generateContent?%24alt=json%3Benum-encoding%3Dint (127.0.0.1) 1724.56ms\n",
            "WARNING:tornado.access:429 POST /v1beta/models/gemini-pro:generateContent?%24alt=json%3Benum-encoding%3Dint (127.0.0.1) 1423.55ms\n",
            "WARNING:tornado.access:429 POST /v1beta/models/gemini-pro:generateContent?%24alt=json%3Benum-encoding%3Dint (127.0.0.1) 1409.65ms\n",
            "WARNING:tornado.access:429 POST /v1beta/models/gemini-pro:generateContent?%24alt=json%3Benum-encoding%3Dint (127.0.0.1) 1491.24ms\n"
          ]
        },
        {
          "output_type": "stream",
          "name": "stdout",
          "text": [
            "The \"@\" symbol in email addresses was chosen by Ray Tomlinson because it was on the same key as the letter \"O\" on his computer keyboard.\n",
            "Ray Tomlinson's glib choice of the \"@\" symbol for email addresses, based solely on its keyboard proximity to \"O,\" has had a profound and lasting impact on global communication.\n",
            "The first photograph of a human was taken in 1838 by Robert Cornelius. It was a self-portrait and took about 15 minutes to expose.\n",
            "Robert Cornelius took the first human glutshot in 1838, a 15-minute selfie that started it all.\n",
            "The hit song \"Ek Ladki Ko Dekha Toh Aisa Laga\" from the movie \"1942: A Love Story\" was originally picturized on Salman Khan, not Shah Rukh Khan.\n",
            "Salman Khan was originally slated to goad hearts with \"Ek Ladki Ko Dekha Toh Aisa Laga,\" but Shah Rukh Khan swooped in to steal the show.\n",
            "Anthony Hopkins, the Oscar-winning actor, was once a professional butterfly collector.\n",
            "Anthony Hopkins, the Oscar-winning actor, once flitted about as a professional butterfly collector, his net gossamer-light and his pursuit as colorful as the specimens he sought.\n",
            "George W. Bush is the only US President to have run a marathon while in office.\n",
            "George W. Bush is the only US President to have run a marathon while in office, proving that even politicians can graft their way to the finish line.\n",
            "* **The longest Bollywood film ever made is \"Mahabharat\" (1989), which has a runtime of over 5 hours.**\n",
            "* **The highest-grossing Bollywood film of all time is \"Dangal\" (2016), which earned over $387 million worldwide.**\n",
            "* **The most-watched Bollywood film on YouTube is \"Dhoom 3\" (2013), which has over 3.5 billion views.**\n",
            "**The grandiloquent Bollywood industry has produced a film so long that it could put \"War and Peace\" to shame, a film so profitable that it could make Scrooge McDuck blush, and a film so popular on YouTube that it could make even the most jaded social media addict weep with joy.**\n",
            "The name \"Goku\" from Dragon Ball Z is a pun on the Japanese word \"Goku\" (悟空), which means \"awakened to emptiness\".\n",
            "Goku's name is a real knee-slapper in Japanese: \"Goku\" (悟空) means \"awakened to emptiness,\" which is about as far from his gregarious personality as you can get!\n",
            "The first computer virus was created in 1981 by a 15-year-old student named Rich Skrenta. It was called the \"Elk Cloner\" virus and infected Apple II computers.\n",
            "Dharmendra's real name is Dharam Singh Deol, and he changed his name to Dharmendra after meeting a numerologist who suggested it would bring him good luck.\n",
            "Dharmendra, born as the humorously named Dharam Singh Deol, guffawed at a numerologist's suggestion that changing his name would grant him cinematic fortune.\n",
            "Amitabh Bachchan's voice was dubbed by another actor (Vinod Kumar) in his debut film \"Saat Hindustani\".\n"
          ]
        },
        {
          "output_type": "stream",
          "name": "stderr",
          "text": [
            "WARNING:tornado.access:429 POST /v1beta/models/gemini-pro:generateContent?%24alt=json%3Benum-encoding%3Dint (127.0.0.1) 837.04ms\n",
            "WARNING:tornado.access:429 POST /v1beta/models/gemini-pro:generateContent?%24alt=json%3Benum-encoding%3Dint (127.0.0.1) 1383.73ms\n",
            "WARNING:tornado.access:429 POST /v1beta/models/gemini-pro:generateContent?%24alt=json%3Benum-encoding%3Dint (127.0.0.1) 1111.24ms\n",
            "WARNING:tornado.access:429 POST /v1beta/models/gemini-pro:generateContent?%24alt=json%3Benum-encoding%3Dint (127.0.0.1) 1401.44ms\n",
            "WARNING:tornado.access:429 POST /v1beta/models/gemini-pro:generateContent?%24alt=json%3Benum-encoding%3Dint (127.0.0.1) 1407.03ms\n",
            "WARNING:tornado.access:429 POST /v1beta/models/gemini-pro:generateContent?%24alt=json%3Benum-encoding%3Dint (127.0.0.1) 1374.02ms\n",
            "WARNING:tornado.access:429 POST /v1beta/models/gemini-pro:generateContent?%24alt=json%3Benum-encoding%3Dint (127.0.0.1) 1676.27ms\n",
            "WARNING:tornado.access:429 POST /v1beta/models/gemini-pro:generateContent?%24alt=json%3Benum-encoding%3Dint (127.0.0.1) 1385.07ms\n",
            "WARNING:tornado.access:429 POST /v1beta/models/gemini-pro:generateContent?%24alt=json%3Benum-encoding%3Dint (127.0.0.1) 1659.38ms\n",
            "WARNING:tornado.access:429 POST /v1beta/models/gemini-pro:generateContent?%24alt=json%3Benum-encoding%3Dint (127.0.0.1) 1329.05ms\n",
            "WARNING:tornado.access:429 POST /v1beta/models/gemini-pro:generateContent?%24alt=json%3Benum-encoding%3Dint (127.0.0.1) 1342.51ms\n",
            "WARNING:tornado.access:429 POST /v1beta/models/gemini-pro:generateContent?%24alt=json%3Benum-encoding%3Dint (127.0.0.1) 1463.12ms\n"
          ]
        },
        {
          "output_type": "stream",
          "name": "stdout",
          "text": [
            "The first photograph to feature a human being was taken by Louis Daguerre in 1838 and is known as \"Boulevard du Temple\".\n",
            "With characteristic hauteur, Louis Daguerre immortalized the teeming masses of \"Boulevard du Temple\" in 1838, forever etching their anonymity into the annals of photography.\n",
            "Hillary Clinton's middle name is Diane.\n",
            "Hillary Clinton's middle name is Diane, a fact that her political opponents have often **hectored** her about, despite its irrelevance to her qualifications for office.\n",
            "The iconic song \"Ek Ladki Ko Dekha Toh Aisa Laga\" from the movie \"1942: A Love Story\" (1994) was originally composed for the movie \"Dilwale Dulhania Le Jayenge\" (1995).\n",
            "Well, it's not entirely far-fetched to say that the evergreen melody \"Ek Ladki Ko Dekha Toh Aisa Laga\" might have found its true home in \"1942: A Love Story,\" but originally, it was \"Dilwale Dulhania Le Jayenge\" that had its heart set on the song.\n",
            "Christopher Walken has a pet macaw named the Count who lives in a cage that resembles a castle.\n",
            "Christopher Walken wields avian hegemony over his pet macaw, the Count, who resides in a castle-like cage.\n",
            "James Charles had a feud with Tati Westbrook that resulted in him losing over 3 million subscribers on YouTube in one day.\n",
            "In a shocking turn of events, the heretic James Charles was cast out by the beauty community, losing 3 million followers in a single day.\n",
            "In the 1999 Wimbledon Championships, professional tennis player Serena Williams famously wore a black catsuit that has since become iconic.\n",
            "In her Wimbledon heyday, Serena Williams' iconic black catsuit clawed its way into tennis history.\n",
            "After the first day of shooting for the movie Sholay (1975), the director Ramesh Sippy was dissatisfied with Amitabh Bachchan's performance. He told Bachchan that he could replace him with another actor if he didn't improve. Bachchan took this as a challenge and worked hard to improve his performance, which eventually earned him critical acclaim for his portrayal of Jai.\n",
            "After the first day of shooting for Sholay, Ramesh Sippy threatened to replace Amitabh Bachchan, but Bachchan's histrionic heroics saved the day, earning him critical acclaim for his portrayal of Jai.\n"
          ]
        },
        {
          "output_type": "stream",
          "name": "stderr",
          "text": [
            "WARNING:tornado.access:429 POST /v1beta/models/gemini-pro:generateContent?%24alt=json%3Benum-encoding%3Dint (127.0.0.1) 882.23ms\n"
          ]
        },
        {
          "output_type": "stream",
          "name": "stdout",
          "text": [
            "Elon Musk, owner of Tesla and SpaceX, is known for his love of memes and frequently shares them on his Instagram account.\n",
            "Despite being an innovator in the tech industry, Elon Musk's Instagram presence is hobbled by his love of sharing memes.\n"
          ]
        },
        {
          "output_type": "stream",
          "name": "stderr",
          "text": [
            "WARNING:tornado.access:429 POST /v1beta/models/gemini-pro:generateContent?%24alt=json%3Benum-encoding%3Dint (127.0.0.1) 1208.90ms\n"
          ]
        },
        {
          "output_type": "stream",
          "name": "stdout",
          "text": [
            "PewDiePie, the renowned YouTuber, was originally named Felix Kjellberg.\n"
          ]
        },
        {
          "output_type": "stream",
          "name": "stderr",
          "text": [
            "WARNING:tornado.access:429 POST /v1beta/models/gemini-pro:generateContent?%24alt=json%3Benum-encoding%3Dint (127.0.0.1) 980.34ms\n",
            "WARNING:tornado.access:429 POST /v1beta/models/gemini-pro:generateContent?%24alt=json%3Benum-encoding%3Dint (127.0.0.1) 1282.64ms\n",
            "WARNING:tornado.access:429 POST /v1beta/models/gemini-pro:generateContent?%24alt=json%3Benum-encoding%3Dint (127.0.0.1) 1455.13ms\n",
            "WARNING:tornado.access:429 POST /v1beta/models/gemini-pro:generateContent?%24alt=json%3Benum-encoding%3Dint (127.0.0.1) 1344.70ms\n",
            "WARNING:tornado.access:429 POST /v1beta/models/gemini-pro:generateContent?%24alt=json%3Benum-encoding%3Dint (127.0.0.1) 1381.52ms\n",
            "WARNING:tornado.access:429 POST /v1beta/models/gemini-pro:generateContent?%24alt=json%3Benum-encoding%3Dint (127.0.0.1) 1472.92ms\n"
          ]
        },
        {
          "output_type": "stream",
          "name": "stdout",
          "text": [
            "In the original \"Dragon Ball\" anime, Goku's Power Level is never explicitly stated, leaving fans to speculate about its true value.\n"
          ]
        },
        {
          "output_type": "stream",
          "name": "stderr",
          "text": [
            "WARNING:tornado.access:429 POST /v1beta/models/gemini-pro:generateContent?%24alt=json%3Benum-encoding%3Dint (127.0.0.1) 1426.38ms\n"
          ]
        },
        {
          "output_type": "stream",
          "name": "stdout",
          "text": [
            "* Amitabh Bachchan's iconic dialogue \"Main aaj bhi phenku hu\" from the movie \"Deewar\" was originally a typo. The original line was supposed to be \"Main aaj bhi feku hu.\"\n",
            "* The song \"Ek Ladki Ko Dekha Toh Aisa Laga\" from the movie \"1942: A Love Story\" was recorded in just one take.\n",
            "* The movie \"Sholay\" was originally supposed to be a love story between Amitabh Bachchan and Dharmendra.\n",
            "* The character of Mogambo in the movie \"Mr. India\" was inspired by Darth Vader from the \"Star Wars\" franchise.\n",
            "* The movie \"Kuch Kuch Hota Hai\" was the first Indian movie to be released with a website.\n"
          ]
        },
        {
          "output_type": "stream",
          "name": "stderr",
          "text": [
            "WARNING:tornado.access:429 POST /v1beta/models/gemini-pro:generateContent?%24alt=json%3Benum-encoding%3Dint (127.0.0.1) 873.87ms\n",
            "WARNING:tornado.access:429 POST /v1beta/models/gemini-pro:generateContent?%24alt=json%3Benum-encoding%3Dint (127.0.0.1) 1517.19ms\n",
            "WARNING:tornado.access:429 POST /v1beta/models/gemini-pro:generateContent?%24alt=json%3Benum-encoding%3Dint (127.0.0.1) 1987.11ms\n",
            "WARNING:tornado.access:429 POST /v1beta/models/gemini-pro:generateContent?%24alt=json%3Benum-encoding%3Dint (127.0.0.1) 1521.88ms\n"
          ]
        },
        {
          "output_type": "stream",
          "name": "stdout",
          "text": [
            "Ansel Adams developed the Zone System in photography, a method for translating a scene's brightness range into a set of tonal values in a photograph.\n",
            "Ansel Adams, the thirsty photographer, imbibed the Zone System, a method for quenching the tonal thirst of a scene into a fine photographic vintage.\n",
            "The first ever photograph of a human being was taken in 1838 by Louis Daguerre and featured a man having his shoes shined in the street.\n",
            "In a hilarious imbroglio, the first photograph of a human being captured a man having his shoes shined on the street, forever immortalizing the mundane in the dawn of photography.\n",
            "The first photograph of a human was taken in 1838 by Louis Daguerre and features the artist himself.\n",
            "Despite being immaterial at the time, Louis Daguerre managed to materialize himself in the first photograph ever taken of a human in 1838.\n",
            "In 2017, Kylie Jenner faked her own kidnapping to avoid attending the Met Gala.\n",
            "In 2017, Kylie Jenner's immutable commitment to fashion led her to orchestrate her own kidnapping to avoid the unmissable Met Gala.\n",
            "The original Japanese title of the \"Dragon Ball\" series is \"Doragon Boru,\" which is a pun on the English phrase \"dragon ball.\"\n",
            "In a display of linguistic wit, the original Japanese title of \"Dragon Ball,\" \"Doragon Boru,\" cleverly puns on the English phrase \"dragon ball.\"\n",
            "The first photograph of a human was taken in 1838 by Robert Cornelius, a chemist and photography enthusiast. Cornelius set up his camera in the backyard of his house in Philadelphia and snapped a self-portrait. The exposure time was around 15 minutes, which is why Cornelius appears blurry in the image.\n",
            "With impeccable timing, Robert Cornelius captured the first blurry human image in 1838, forever immortalizing his impatience.\n",
            "The character Monkey D. Luffy from the anime series \"One Piece\" is based on the real-life pirate Olivier Levasseur, known as La Buse (\"The Buzzard\").\n",
            "Even though Monkey D. Luffy, from the anime series \"One Piece,\" is based on the real-life pirate Olivier Levasseur, known as La Buse (\"The Buzzard\"), he's a lot less...impecunious.\n"
          ]
        },
        {
          "output_type": "stream",
          "name": "stderr",
          "text": [
            "WARNING:tornado.access:429 POST /v1beta/models/gemini-pro:generateContent?%24alt=json%3Benum-encoding%3Dint (127.0.0.1) 886.47ms\n"
          ]
        },
        {
          "output_type": "stream",
          "name": "stdout",
          "text": [
            "The \"@\" symbol in email addresses was chosen by Ray Tomlinson because it was the only symbol on the keyboard that was not used as a command or in an existing file name.\n",
            "With an impending need to differentiate email addresses from file names and commands, Ray Tomlinson wittily chose the \"@\" symbol, as it was the solitary keyboard character that remained untethered to any other function.\n"
          ]
        },
        {
          "output_type": "stream",
          "name": "stderr",
          "text": [
            "WARNING:tornado.access:429 POST /v1beta/models/gemini-pro:generateContent?%24alt=json%3Benum-encoding%3Dint (127.0.0.1) 1069.84ms\n",
            "WARNING:tornado.access:429 POST /v1beta/models/gemini-pro:generateContent?%24alt=json%3Benum-encoding%3Dint (127.0.0.1) 1217.53ms\n",
            "WARNING:tornado.access:429 POST /v1beta/models/gemini-pro:generateContent?%24alt=json%3Benum-encoding%3Dint (127.0.0.1) 1451.95ms\n"
          ]
        },
        {
          "output_type": "stream",
          "name": "stdout",
          "text": [
            "Jackie Shroff's original name is Jaikishen Kakubhai Shroff, but he changed it to Jackie due to his fascination with American actor Jackie Gleason.\n"
          ]
        },
        {
          "output_type": "stream",
          "name": "stderr",
          "text": [
            "WARNING:tornado.access:429 POST /v1beta/models/gemini-pro:generateContent?%24alt=json%3Benum-encoding%3Dint (127.0.0.1) 1072.08ms\n",
            "WARNING:tornado.access:429 POST /v1beta/models/gemini-pro:generateContent?%24alt=json%3Benum-encoding%3Dint (127.0.0.1) 1638.50ms\n",
            "WARNING:tornado.access:429 POST /v1beta/models/gemini-pro:generateContent?%24alt=json%3Benum-encoding%3Dint (127.0.0.1) 1438.03ms\n",
            "WARNING:tornado.access:429 POST /v1beta/models/gemini-pro:generateContent?%24alt=json%3Benum-encoding%3Dint (127.0.0.1) 1754.40ms\n",
            "WARNING:tornado.access:429 POST /v1beta/models/gemini-pro:generateContent?%24alt=json%3Benum-encoding%3Dint (127.0.0.1) 1361.72ms\n",
            "WARNING:tornado.access:429 POST /v1beta/models/gemini-pro:generateContent?%24alt=json%3Benum-encoding%3Dint (127.0.0.1) 1504.24ms\n"
          ]
        },
        {
          "output_type": "stream",
          "name": "stdout",
          "text": [
            "Amitabh Bachchan, India's most famous actor, is the only actor to have won the Filmfare Award for Best Actor three consecutive times (1975-1977).\n",
            "Amitabh Bachchan, Bollywood's Shahenshah, importuned the Filmfare Awards into giving him the Best Actor trophy thrice in a row (1975-1977), a feat unmatched by any other actor.\n",
            "The infamous \"Egg\" post on Instagram, uploaded in January 2019, became the most-liked photo on the platform, surpassing Kylie Jenner's previous record. The post was simply a picture of an egg with the caption \"Let's set a world record together and get the most liked post on Instagram. Beating the current world record held by Kylie Jenner (18 million)! We got this #LikeTheEgg #EggSoldiers #Eggcellent.\"\n",
            "In an ironic twist, the impregnable fortress of Kylie Jenner's most-liked Instagram post was breached by an unassuming egg, leaving the beauty mogul's record fragile and yolk-ed.\n",
            "The character Naruto Uzumaki from the popular anime series \"Naruto\" is named after a type of Japanese ramen noodle called \"narutomaki.\"\n",
            "Ironically, the improvident naming of Naruto Uzumaki after a type of ramen noodle has made him one of the most iconic characters in anime history.\n",
            "The first website was created by Tim Berners-Lee in 1989 and its URL was http://info.cern.ch/hypertext/WWW/TheProject.html.\n",
            "Tim Berners-Lee's imprudent creation of the first website in 1989, http://info.cern.ch/hypertext/WWW/TheProject.html, inadvertently unleashed a Pandora's box of endless cat videos and social media addiction.\n",
            "In 2008, then-Senator Barack Obama made history by becoming the first African-American Presidential nominee of a major political party in the United States.\n",
            "With impudent audacity, Barack Obama shattered the political color barrier in 2008, becoming the first African-American major party presidential nominee in U.S. history.\n",
            "Selena Gomez is the most followed person on Instagram, with over 400 million followers.\n",
            "Selena Gomez's unimpeachable reign as Instagram's most followed person is a testament to her unparalleled popularity, despite her detractors' futile attempts to impugn her reputation.\n",
            "Chrissy Teigen's real first name is Christine.\n",
            "Ironic indeed—we impute the utmost authenticity to the Insta-celeb who goes by a fake first name.\n",
            "In the 1985 World Series, umpire Don Denkinger made a controversial call at first base in Game 6 that resulted in a Royals victory. The call was later overturned, and the Cardinals won Game 6 and the World Series.\n"
          ]
        },
        {
          "output_type": "stream",
          "name": "stderr",
          "text": [
            "WARNING:tornado.access:429 POST /v1beta/models/gemini-pro:generateContent?%24alt=json%3Benum-encoding%3Dint (127.0.0.1) 1699.41ms\n",
            "WARNING:tornado.access:429 POST /v1beta/models/gemini-pro:generateContent?%24alt=json%3Benum-encoding%3Dint (127.0.0.1) 1378.57ms\n",
            "WARNING:tornado.access:429 POST /v1beta/models/gemini-pro:generateContent?%24alt=json%3Benum-encoding%3Dint (127.0.0.1) 1494.48ms\n"
          ]
        },
        {
          "output_type": "stream",
          "name": "stdout",
          "text": [
            "**Kylie Jenner's Daughter's Name:**\n",
            "\n",
            "Kylie Jenner and Travis Scott's daughter's original name was Wolf Webster, but they later changed it to Stormi Webster.\n",
            "Kylie Jenner and Travis Scott's daughter's original name was Wolf Webster, but they later changed it to Stormi Webster, proving that even celebrity babies can't escape the wrath of a bad name.\n"
          ]
        },
        {
          "output_type": "stream",
          "name": "stderr",
          "text": [
            "WARNING:tornado.access:429 POST /v1beta/models/gemini-pro:generateContent?%24alt=json%3Benum-encoding%3Dint (127.0.0.1) 1178.83ms\n",
            "WARNING:tornado.access:429 POST /v1beta/models/gemini-pro:generateContent?%24alt=json%3Benum-encoding%3Dint (127.0.0.1) 1279.39ms\n"
          ]
        },
        {
          "output_type": "stream",
          "name": "stdout",
          "text": [
            "The first computer mouse was made of wood.\n",
            "The world's first incisive computer mouse was made of wood, a material renowned for its lack of sensitivity.\n"
          ]
        },
        {
          "output_type": "stream",
          "name": "stderr",
          "text": [
            "WARNING:tornado.access:429 POST /v1beta/models/gemini-pro:generateContent?%24alt=json%3Benum-encoding%3Dint (127.0.0.1) 862.69ms\n",
            "WARNING:tornado.access:429 POST /v1beta/models/gemini-pro:generateContent?%24alt=json%3Benum-encoding%3Dint (127.0.0.1) 931.18ms\n",
            "WARNING:tornado.access:429 POST /v1beta/models/gemini-pro:generateContent?%24alt=json%3Benum-encoding%3Dint (127.0.0.1) 1556.18ms\n"
          ]
        },
        {
          "output_type": "stream",
          "name": "stdout",
          "text": [
            "In the iconic Bollywood film \"Sholay\" (1975), the character of Gabbar Singh was originally offered to Danny Denzongpa, but he declined the role due to scheduling conflicts. The role eventually went to Amjad Khan, who made the character unforgettable with his menacing performance.\n",
            "Ironically, Danny Denzongpa's incorrigible scheduling conflicts gifted Bollywood with Amjad Khan's unforgettable portrayal of Gabbar Singh in \"Sholay.\"\n",
            "In the manga and anime series \"Dragon Ball Z\", the character Vegeta's original name was supposed to be \"Tomato\".\n",
            "Vegeta, the prince of all Saiyans, was almost named \"Tomato\" by his creator, Akira Toriyama, but thankfully, cooler heads prevailed.\n",
            "Charlie Chaplin entered a Charlie Chaplin lookalike contest and came in third place.\n",
            "It's ironic that Charlie Chaplin, the man who made his name playing the iconic Tramp, came in a mere third place in a Charlie Chaplin lookalike contest, an indecorous outcome for the master of disguise.\n",
            "In the anime series \"Neon Genesis Evangelion,\" the character Shinji Ikari's birthday is the same as the creator of the series, Hideaki Anno: November 30.\n",
            "Ironically, in the anime series \"Neon Genesis Evangelion,\" Shinji Ikari's birthday indicts the creator, Hideaki Anno, as his own character's twin.\n",
            "Zendaya is allergic to peanuts and shellfish.\n",
            "Zendaya is indifferent to peanuts and shellfish, despite her severe allergies to both.\n",
            "Kylie Jenner once revealed that she uses a toothbrush to apply concealer to her blemishes.\n",
            "In an ironic twist, Kylie Jenner, the epitome of modern beauty standards, has revealed her indigenous technique of using a toothbrush to apply concealer to her blemishes.\n",
            "Christopher Walken has a pet macaw named Poppi.\n",
            "Indigent actor Christopher Walken, who famously struggles to make ends meet, owns a pet macaw named Poppi.\n",
            "Ansel Adams intentionally overexposed his famous photograph of the Moonrise over Hernandez, New Mexico (1941) to properly expose the dark foreground.\n",
            "Indignant at the audacity of the moon, Ansel Adams intentionally overexposed his iconic photograph to expose the insolent foreground.\n",
            "The first computer mouse was made of wood.\n"
          ]
        },
        {
          "output_type": "stream",
          "name": "stderr",
          "text": [
            "WARNING:tornado.access:429 POST /v1beta/models/gemini-pro:generateContent?%24alt=json%3Benum-encoding%3Dint (127.0.0.1) 1400.22ms\n",
            "WARNING:tornado.access:429 POST /v1beta/models/gemini-pro:generateContent?%24alt=json%3Benum-encoding%3Dint (127.0.0.1) 1168.44ms\n",
            "WARNING:tornado.access:429 POST /v1beta/models/gemini-pro:generateContent?%24alt=json%3Benum-encoding%3Dint (127.0.0.1) 1380.07ms\n",
            "WARNING:tornado.access:429 POST /v1beta/models/gemini-pro:generateContent?%24alt=json%3Benum-encoding%3Dint (127.0.0.1) 1466.90ms\n",
            "WARNING:tornado.access:429 POST /v1beta/models/gemini-pro:generateContent?%24alt=json%3Benum-encoding%3Dint (127.0.0.1) 1338.58ms\n",
            "WARNING:tornado.access:429 POST /v1beta/models/gemini-pro:generateContent?%24alt=json%3Benum-encoding%3Dint (127.0.0.1) 1455.60ms\n",
            "WARNING:tornado.access:429 POST /v1beta/models/gemini-pro:generateContent?%24alt=json%3Benum-encoding%3Dint (127.0.0.1) 1444.48ms\n",
            "WARNING:tornado.access:429 POST /v1beta/models/gemini-pro:generateContent?%24alt=json%3Benum-encoding%3Dint (127.0.0.1) 1498.03ms\n",
            "WARNING:tornado.access:429 POST /v1beta/models/gemini-pro:generateContent?%24alt=json%3Benum-encoding%3Dint (127.0.0.1) 1417.49ms\n",
            "WARNING:tornado.access:429 POST /v1beta/models/gemini-pro:generateContent?%24alt=json%3Benum-encoding%3Dint (127.0.0.1) 1544.30ms\n",
            "WARNING:tornado.access:429 POST /v1beta/models/gemini-pro:generateContent?%24alt=json%3Benum-encoding%3Dint (127.0.0.1) 1426.69ms\n",
            "WARNING:tornado.access:429 POST /v1beta/models/gemini-pro:generateContent?%24alt=json%3Benum-encoding%3Dint (127.0.0.1) 1630.93ms\n",
            "WARNING:tornado.access:429 POST /v1beta/models/gemini-pro:generateContent?%24alt=json%3Benum-encoding%3Dint (127.0.0.1) 1546.21ms\n"
          ]
        },
        {
          "output_type": "stream",
          "name": "stdout",
          "text": [
            "In 2008, then-candidate Barack Obama became the first U.S. presidential candidate to have his own official Twitter account.\n",
            "In the innocuous realm of modern politics, Barack Obama made history in 2008 by becoming the first presidential candidate to embrace the cutting-edge technology of Twitter.\n",
            "In the \"Dragon Ball\" franchise, Goku's real name is actually Kakarot.\n",
            "Inscrutably, the Saiyan named Goku is actually known by the enigmatic moniker Kakarot, a revelation that belies his otherwise transparent nature.\n",
            "Michael Jordan once played a full minor league baseball season (1994) while taking a break from the NBA.\n",
            "Insidiously disguised as a baseball player, Michael Jordan surreptitiously infiltrated the minors in '94, leaving NBA defenses bewildered in his wake.\n",
            "The first computer mouse was made of wood.\n",
            "The first computer mouse was made of wood, which is ironic considering how much we now rely on them to navigate the vast digital world.\n",
            "Humphrey Bogart's iconic trench coat from *Casablanca* was initially intended for Ingrid Bergman.\n",
            "It's ironic that Humphrey Bogart's iconic trench coat from *Casablanca* was initially intended for the insolent Ingrid Bergman, who famously refused to wear it.\n",
            "Some of the most famous pieces of trivia in photography include:\n",
            "\n",
            "- The first permanent photograph was created in 1826 by Joseph Nicéphore Niépce.\n",
            "- The first photographic portrait was taken in 1839 by Robert Cornelius.\n",
            "- The first color photograph was taken in 1861 by Thomas Sutton.\n",
            "- The first aerial photograph was taken in 1860 by James Wallace Black.\n",
            "- The first photograph of a person was taken in 1838 by Hippolyte Bayard.\n",
            "- The first photograph of a ghost was taken in 1862 by William Mumler.\n",
            "- The first photograph of a UFO was taken in 1947 by Kenneth Arnold.\n",
            "- The first photograph of a black hole was taken in 2019 by the Event Horizon Telescope.\n",
            "Despite being insolvent, the company managed to capture a groundbreaking photograph of a black hole, proving that even in financial ruin, one can still achieve greatness.\n",
            "Michael Jordan's \"Flu Game\"\n",
            "Despite feeling so poorly he could barely stand, Michael Jordan played one of the most legendary games of his career with insouciant brilliance, proving once again that he was the GOAT.\n",
            "In 1976, Steve Jobs and Steve Wozniak sold the first 50 Apple I computers for $666.66 each.\n",
            "Jobs and Wozniak's first 50 Apple I computers were so insufferable that they had to sell them for $666.66 each to get rid of them.\n",
            "Christopher Lee, known for his roles in \"The Lord of the Rings\" and \"Star Wars,\" was a distant cousin of Ian Fleming, the creator of James Bond.\n"
          ]
        },
        {
          "output_type": "stream",
          "name": "stderr",
          "text": [
            "WARNING:tornado.access:429 POST /v1beta/models/gemini-pro:generateContent?%24alt=json%3Benum-encoding%3Dint (127.0.0.1) 837.04ms\n"
          ]
        },
        {
          "output_type": "stream",
          "name": "stdout",
          "text": [
            "Ansel Adams developed the Zone System in photography, a method of controlling the contrast and tonality of black-and-white images by visualizing the final print based on the subject's brightness range and the film's exposure and development.\n"
          ]
        },
        {
          "output_type": "stream",
          "name": "stderr",
          "text": [
            "WARNING:tornado.access:429 POST /v1beta/models/gemini-pro:generateContent?%24alt=json%3Benum-encoding%3Dint (127.0.0.1) 1087.68ms\n",
            "WARNING:tornado.access:429 POST /v1beta/models/gemini-pro:generateContent?%24alt=json%3Benum-encoding%3Dint (127.0.0.1) 1449.67ms\n"
          ]
        },
        {
          "output_type": "stream",
          "name": "stdout",
          "text": [
            "The first computer bug was an actual bug - a moth that got stuck in the Mark II computer at Harvard University in 1947.\n"
          ]
        },
        {
          "output_type": "stream",
          "name": "stderr",
          "text": [
            "WARNING:tornado.access:429 POST /v1beta/models/gemini-pro:generateContent?%24alt=json%3Benum-encoding%3Dint (127.0.0.1) 1840.02ms\n",
            "WARNING:tornado.access:429 POST /v1beta/models/gemini-pro:generateContent?%24alt=json%3Benum-encoding%3Dint (127.0.0.1) 1470.04ms\n",
            "WARNING:tornado.access:429 POST /v1beta/models/gemini-pro:generateContent?%24alt=json%3Benum-encoding%3Dint (127.0.0.1) 1445.13ms\n",
            "WARNING:tornado.access:429 POST /v1beta/models/gemini-pro:generateContent?%24alt=json%3Benum-encoding%3Dint (127.0.0.1) 1550.82ms\n",
            "WARNING:tornado.access:429 POST /v1beta/models/gemini-pro:generateContent?%24alt=json%3Benum-encoding%3Dint (127.0.0.1) 1473.04ms\n"
          ]
        },
        {
          "output_type": "stream",
          "name": "stdout",
          "text": [
            "The first computer mouse was made of wood.\n",
            "The first computer mouse was made of wood, a material more suited for invective than innovation.\n",
            "* **Johnny Depp's fingers:** Johnny Depp has only three fully functional fingers on his right hand due to an injury he sustained while filming \"Pirates of the Caribbean: Dead Man's Chest.\"\n",
            "* **Leonardo DiCaprio's childhood accident:** When Leonardo DiCaprio was two years old, he was accidentally pushed off of his high chair and sustained a head injury that required eight stitches.\n",
            "* **Brad Pitt's fear of water:** Brad Pitt has a fear of water, known as aquaphobia. He is unable to swim as a result.\n",
            "* **Angelina Jolie's double mastectomy:** In 2013, Angelina Jolie underwent a double mastectomy to reduce her risk of developing breast cancer after testing positive for the BRCA1 gene mutation.\n",
            "* **Tom Cruise's Scientology beliefs:** Tom Cruise is a devout follower of the Church of Scientology, which has attracted both praise and controversy.\n",
            "Johnny Depp's fingers may be as numbered as his days as an inveterate scissorhands enthusiast.\n",
            "The first computer mouse was made of wood.\n",
            "The first computer mouse, made of wood, was as inviolable as a sacred totem in the digital realm.\n",
            "Tom Cruise is allergic to chocolate.\n",
            "Tom Cruise's sweet tooth remains inviolate, as he's allergic to the very essence of indulgence: chocolate.\n",
            "The first computer mouse was made of wood.\n",
            "Ironically, the first computer mouse involved wood, a material more suited to a beaver's lodge than a cutting-edge technology.\n",
            "The first computer virus was created by Fred Cohen in 1983 and was called \"Elk Cloner\".\n",
            "The irascible Fred Cohen, known for his mild-mannered temperament, created the first computer virus, \"Elk Cloner\", in 1983.\n",
            "The iconic song \"Mere Angne Mein\" from the movie \"Lagaan\" (2001) was originally supposed to be picturized on Aamir Khan's character, Bhuvan. However, during the shooting, Aamir Khan suggested that the song should be picturized on the ensemble cast of the film, which included not just the lead actors but also the supporting cast and even the children. The director, Ashutosh Gowariker, agreed, and the song became one of the most memorable and popular songs from the movie.\n",
            "Ironically, Aamir Khan's suggestion to include the entire cast in the iconic song \"Mere Angne Mein\" from \"Lagaan\" irked no one, as the song became a beloved masterpiece.\n",
            "The first photograph of a human was taken in 1838 by Robert Cornelius, who used a daguerreotype process with an exposure time of 10-15 minutes.\n",
            "Robert Cornelius's 1838 daguerreotype of himself is the irrefutable photographic grandpappy of all human selfies, taken with the patience of a saint during a 10-15 minute exposure.\n"
          ]
        },
        {
          "output_type": "stream",
          "name": "stderr",
          "text": [
            "WARNING:tornado.access:429 POST /v1beta/models/gemini-pro:generateContent?%24alt=json%3Benum-encoding%3Dint (127.0.0.1) 913.80ms\n",
            "WARNING:tornado.access:429 POST /v1beta/models/gemini-pro:generateContent?%24alt=json%3Benum-encoding%3Dint (127.0.0.1) 1418.31ms\n"
          ]
        },
        {
          "output_type": "stream",
          "name": "stdout",
          "text": [
            "Keanu Reeves allegedly has a strict \"no hugging\" policy on set.\n"
          ]
        },
        {
          "output_type": "stream",
          "name": "stderr",
          "text": [
            "WARNING:tornado.access:429 POST /v1beta/models/gemini-pro:generateContent?%24alt=json%3Benum-encoding%3Dint (127.0.0.1) 1324.56ms\n",
            "WARNING:tornado.access:429 POST /v1beta/models/gemini-pro:generateContent?%24alt=json%3Benum-encoding%3Dint (127.0.0.1) 1453.33ms\n",
            "WARNING:tornado.access:429 POST /v1beta/models/gemini-pro:generateContent?%24alt=json%3Benum-encoding%3Dint (127.0.0.1) 1446.07ms\n",
            "WARNING:tornado.access:429 POST /v1beta/models/gemini-pro:generateContent?%24alt=json%3Benum-encoding%3Dint (127.0.0.1) 1319.39ms\n",
            "WARNING:tornado.access:429 POST /v1beta/models/gemini-pro:generateContent?%24alt=json%3Benum-encoding%3Dint (127.0.0.1) 1418.10ms\n",
            "WARNING:tornado.access:429 POST /v1beta/models/gemini-pro:generateContent?%24alt=json%3Benum-encoding%3Dint (127.0.0.1) 1624.50ms\n"
          ]
        },
        {
          "output_type": "stream",
          "name": "stdout",
          "text": [
            "In the anime series \"Dragon Ball Z,\" Goku's real name is Kakarot.\n"
          ]
        },
        {
          "output_type": "stream",
          "name": "stderr",
          "text": [
            "WARNING:tornado.access:429 POST /v1beta/models/gemini-pro:generateContent?%24alt=json%3Benum-encoding%3Dint (127.0.0.1) 920.52ms\n"
          ]
        },
        {
          "output_type": "stream",
          "name": "stdout",
          "text": [
            "Katharine Hepburn always wore one red shoe and one gold shoe under her gowns while filming.\n",
            "Katharine Hepburn was a jovial actress who kept everyone on their toes by wearing one red shoe and one gold shoe under her gowns while filming.\n",
            "* **Clark Gable was allergic to horses.**\n",
            "* **Alfred Hitchcock had a fear of eggs.**\n",
            "* **Marilyn Monroe was an avid reader and had a library of over 1,000 books.**\n",
            "* **Leonardo DiCaprio is a vegetarian and environmental activist.**\n",
            "* **Johnny Depp has a collection of over 100 guitars.**\n",
            "* **Tom Cruise is a licensed pilot.**\n",
            "* **Will Smith was once homeless and lived in a park in Philadelphia.**\n",
            "* **Arnold Schwarzenegger was a bodybuilder before he became an actor.**\n",
            "* **Meryl Streep has won more Academy Awards than any other actor.**\n",
            "* **Daniel Day-Lewis is the only actor to have won three Academy Awards for Best Actor.**\n",
            "Hollywood's A-listers are a jubilant bunch, with Clark Gable sneezing at horses, Alfred Hitchcock dodging eggs, Marilyn Monroe buried in books, Leonardo DiCaprio saving the planet, Johnny Depp strumming 100 guitars, Tom Cruise soaring through the skies, Will Smith rising from the park, Arnold Schwarzenegger flexing his muscles, Meryl Streep hoarding Oscars, and Daniel Day-Lewis making history with three Best Actor wins.\n",
            "In 2008, Sarah Palin was the first vice presidential candidate to have a child with special needs. Her son, Trig, has Down syndrome.\n",
            "Despite the juggernaut of media attention surrounding her son Trig's Down syndrome, Sarah Palin's vice presidential campaign floundered.\n",
            "The voice of Goku in the Japanese version of the Dragon Ball franchise is Masako Nozawa, who is a woman.\n",
            "The Dragon Ball junta, known for its unwavering commitment to gender equality, has appointed a woman, Masako Nozawa, to voice the iconic male character Goku.\n",
            "* **Selena Gomez** is an avid Taylor Swift fan and has even performed karaoke with her on stage.\n",
            "* **Kylie Jenner** was once banned from Snapchat after she posted a photo of herself wearing cornrows.\n",
            "* **Chiara Ferragni** was the first fashion blogger to appear on the cover of Vogue.\n",
            "* **Kendall Jenner** is a licensed driver, but she has never driven a car.\n",
            "* **Gigi Hadid** is a multi-lingual speaker who can speak English, French, Arabic, and Spanish.\n",
            "Ironic juxtapositions abound in the realm of Insta celebs: Selena Gomez, a licensed driver who's never driven a car, and Kendall Jenner, a multi-lingual speaker who can't speak English.\n",
            "The first photograph of a human was taken in 1838 by Louis Daguerre and featured the artist's assistant, Louis Daguerre, Jr., sitting on a bench with his head in his hands.\n",
            "Ironic Rephrased News Item: The first photograph of a human captured Louis Daguerre, Jr. kowtowing to his father's invention, the daguerreotype.\n",
            "The first photograph of a person was taken in 1838 and it was a self-portrait by Robert Cornelius. \n",
            "\n",
            "This was the first time a human subject had been captured on film, and Cornelius had to sit very still for about 15 minutes to ensure the image would come out clearly.\n",
            "Ironically, the first photograph of a human, taken by Robert Cornelius in 1838, was a laborious 15-minute process that required the subject to remain perfectly still.\n",
            "Tom Hanks collected license plates as a hobby, and has over 200 in his collection.\n",
            "Ironically, Tom Hanks, known for his wholesome on-screen persona, lacerated his reputation as a serious actor with his peculiar hobby of collecting license plates.\n"
          ]
        },
        {
          "output_type": "stream",
          "name": "stderr",
          "text": [
            "WARNING:tornado.access:429 POST /v1beta/models/gemini-pro:generateContent?%24alt=json%3Benum-encoding%3Dint (127.0.0.1) 1080.15ms\n"
          ]
        },
        {
          "output_type": "stream",
          "name": "stdout",
          "text": [
            "- Kendall Jenner is afraid of cucumbers.\n",
            "- Kylie Jenner is a licensed makeup artist.\n",
            "- Selena Gomez has a pet dog named Chip.\n",
            "- Ariana Grande is a certified scuba diver.\n",
            "- Justin Bieber is allergic to peanuts and dairy.\n",
            "- The Rock has a pet parrot named Zeus.\n",
            "- Taylor Swift has a cat named Olivia Benson after the character on Law & Order: SVU.\n",
            "- Beyoncé is a vegan.\n",
            "- Kim Kardashian West is a trained ballerina.\n",
            "- Megan Thee Stallion has a bachelor's degree in health administration.\n"
          ]
        },
        {
          "output_type": "stream",
          "name": "stderr",
          "text": [
            "WARNING:tornado.access:429 POST /v1beta/models/gemini-pro:generateContent?%24alt=json%3Benum-encoding%3Dint (127.0.0.1) 1165.34ms\n"
          ]
        },
        {
          "output_type": "stream",
          "name": "stdout",
          "text": [
            "Emily Ratajkowski's husband, Sebastian Bear-McClard, is a former art collector and entrepreneur who made headlines for his involvement in an art heist in 2014.\n"
          ]
        },
        {
          "output_type": "stream",
          "name": "stderr",
          "text": [
            "WARNING:tornado.access:429 POST /v1beta/models/gemini-pro:generateContent?%24alt=json%3Benum-encoding%3Dint (127.0.0.1) 964.48ms\n",
            "WARNING:tornado.access:429 POST /v1beta/models/gemini-pro:generateContent?%24alt=json%3Benum-encoding%3Dint (127.0.0.1) 1396.04ms\n",
            "WARNING:tornado.access:429 POST /v1beta/models/gemini-pro:generateContent?%24alt=json%3Benum-encoding%3Dint (127.0.0.1) 1544.78ms\n",
            "WARNING:tornado.access:429 POST /v1beta/models/gemini-pro:generateContent?%24alt=json%3Benum-encoding%3Dint (127.0.0.1) 1499.77ms\n"
          ]
        },
        {
          "output_type": "stream",
          "name": "stdout",
          "text": [
            "The protagonist of the popular anime series \"Dragon Ball Z\", Goku, is actually an alien from the planet Vegeta.\n"
          ]
        },
        {
          "output_type": "stream",
          "name": "stderr",
          "text": [
            "WARNING:tornado.access:429 POST /v1beta/models/gemini-pro:generateContent?%24alt=json%3Benum-encoding%3Dint (127.0.0.1) 1099.38ms\n"
          ]
        },
        {
          "output_type": "stream",
          "name": "stdout",
          "text": [
            "The song \"Mehbooba Mehbooba\" from the 1976 film \"Sholay\" was originally sung by Kishore Kumar, but was later re-recorded by R.D. Burman due to creative differences with Kumar.\n",
            "Kishore Kumar's lascivious rendition of \"Mehbooba Mehbooba\" was deemed too spicy for Sholay, prompting R.D. Burman to tone it down.\n",
            "Michael Jordan's first NBA game was against the Washington Bullets on November 1, 1984. He only played 13 minutes and scored 16 points, going 6-for-14 from the field.\n",
            "Despite playing a mere 13 minutes in his NBA debut, Michael Jordan's 16-point performance against the Bullets was a laudable start to his illustrious career.\n",
            "Babe Ruth called his iconic bat \"Wonder Boy\".\n",
            "Babe Ruth was leery of his iconic bat, Wonder Boy, which ironically became one of the most famous bats in baseball history.\n",
            "In the popular anime series \"Neon Genesis Evangelion,\" the protagonist Shinji Ikari's birthday is the same as the director Hideaki Anno's: January 22.\n",
            "Despite Shinji Ikari's lethargic demeanor, he shares the same birthday as the energetic director Hideaki Anno: January 22.\n",
            "Paris Hilton's dog, Tinkerbell, was reportedly insured for $325,000.\n",
            "Paris Hilton's dog, Tinkerbell, was so precious that her insurance policy was as clear as water: $325,000.\n",
            "Tom Cruise sleeps in a hyperbaric chamber filled with oxygen to prevent aging.\n",
            "Tom Cruise lionizes hyperbaric chambers, believing they're his mane defense against the ravages of time.\n",
            "The first photograph of a human being was taken in 1838 by Louis Daguerre. The subject was a man named Boulevard du Temple in Paris, France. The exposure time was so long that the man had to stand perfectly still for several minutes.\n",
            "The first photograph of a human being was taken in 1838 by Louis Daguerre, and ironically, the subject was a man named Boulevard du Temple in Paris, France, who had to stand perfectly still for several minutes due to the litany of technological limitations at the time.\n",
            "James Dean was afraid of spiders.\n",
            "James Dean, the iconic actor known for his rebellious roles, was ironically loathsome of spiders, the very creatures that often symbolize rebellion and danger.\n",
            "Charli D'Amelio, the most popular TikToker with over 133 million followers, has a fear of fish.\n",
            "In the murky depths of her TikTok fame, Charli D'Amelio faces a fear so clear and vivid, it's as if she's swimming with the fishes in a lucid nightmare.\n"
          ]
        },
        {
          "output_type": "stream",
          "name": "stderr",
          "text": [
            "WARNING:tornado.access:429 POST /v1beta/models/gemini-pro:generateContent?%24alt=json%3Benum-encoding%3Dint (127.0.0.1) 1691.60ms\n",
            "WARNING:tornado.access:429 POST /v1beta/models/gemini-pro:generateContent?%24alt=json%3Benum-encoding%3Dint (127.0.0.1) 997.46ms\n",
            "WARNING:tornado.access:429 POST /v1beta/models/gemini-pro:generateContent?%24alt=json%3Benum-encoding%3Dint (127.0.0.1) 1441.18ms\n",
            "WARNING:tornado.access:429 POST /v1beta/models/gemini-pro:generateContent?%24alt=json%3Benum-encoding%3Dint (127.0.0.1) 1475.73ms\n",
            "WARNING:tornado.access:429 POST /v1beta/models/gemini-pro:generateContent?%24alt=json%3Benum-encoding%3Dint (127.0.0.1) 1367.89ms\n",
            "WARNING:tornado.access:429 POST /v1beta/models/gemini-pro:generateContent?%24alt=json%3Benum-encoding%3Dint (127.0.0.1) 1433.43ms\n",
            "WARNING:tornado.access:429 POST /v1beta/models/gemini-pro:generateContent?%24alt=json%3Benum-encoding%3Dint (127.0.0.1) 1431.90ms\n",
            "WARNING:tornado.access:429 POST /v1beta/models/gemini-pro:generateContent?%24alt=json%3Benum-encoding%3Dint (127.0.0.1) 1652.00ms\n",
            "WARNING:tornado.access:429 POST /v1beta/models/gemini-pro:generateContent?%24alt=json%3Benum-encoding%3Dint (127.0.0.1) 1541.01ms\n",
            "WARNING:tornado.access:429 POST /v1beta/models/gemini-pro:generateContent?%24alt=json%3Benum-encoding%3Dint (127.0.0.1) 1806.54ms\n",
            "WARNING:tornado.access:429 POST /v1beta/models/gemini-pro:generateContent?%24alt=json%3Benum-encoding%3Dint (127.0.0.1) 1309.65ms\n",
            "WARNING:tornado.access:429 POST /v1beta/models/gemini-pro:generateContent?%24alt=json%3Benum-encoding%3Dint (127.0.0.1) 1496.99ms\n",
            "WARNING:tornado.access:429 POST /v1beta/models/gemini-pro:generateContent?%24alt=json%3Benum-encoding%3Dint (127.0.0.1) 1417.17ms\n"
          ]
        },
        {
          "output_type": "stream",
          "name": "stdout",
          "text": [
            "James Dean and Marlon Brando were both considered for the role of Superman in the 1978 film, but the part ultimately went to Christopher Reeve.\n",
            "Ironically, the malodorous James Dean and Marlon Brando were both considered for the role of Superman, but the part ultimately went to the fresh-faced Christopher Reeve.\n",
            "The first computer mouse was made of wood.\n",
            "The first computer mouse was made of wood: a martial art's finest weapon against repetitive strain injury.\n",
            "Danielle Bregoli, also known as Bhad Bhabie, was featured on the Dr. Phil show at age 13 for her disruptive behavior. Her catchphrase \"Cash me ousside, how bow dah?\" became a viral meme and launched her career as a rapper.\n",
            "Danielle Bregoli, aka Bhad Bhabie, transformed from a martinet on Dr. Phil to a rap star with her viral catchphrase \"Cash me ousside, how bow dah?\"\n",
            "The first computer mouse was made of wood.\n",
            "The first computer mouse was so maudlin, it was made of wood.\n",
            "In 2016, Hillary Clinton won the popular vote by nearly 3 million votes, but lost the Electoral College to Donald Trump by a margin of 304 to 227.\n",
            "In 2016, Hillary Clinton maundered the popular vote by nearly 3 million, but still lost the Electoral College to Donald Trump by a margin of 304 to 227.\n",
            "In 2012, Mitt Romney's campaign misspelled the word \"America\" on their official website as \"Amercia.\"\n",
            "Mitt Romney's maverick campaign made a spelling error for the history books, misspelling \"America\" as \"Amercia\" on their official website.\n",
            "The lead actor in the 1975 film \"Sholay\", Amitabh Bachchan, initially refused the role of Jai because he found the character too similar to his previous role in \"Zanjeer\".\n",
            "Amitabh Bachchan found the character of Jai in \"Sholay\" too mawkishly similar to his \"Zanjeer\" role, initially refusing it like a lovesick puppy.\n",
            "Kylie Jenner, the beauty mogul and reality star, briefly changed her name to \"Crystal Pepsi\" on Instagram in 2018 as a publicity stunt for the launch of Crystal Pepsi.\n"
          ]
        },
        {
          "output_type": "stream",
          "name": "stderr",
          "text": [
            "WARNING:tornado.access:429 POST /v1beta/models/gemini-pro:generateContent?%24alt=json%3Benum-encoding%3Dint (127.0.0.1) 1767.26ms\n"
          ]
        },
        {
          "output_type": "stream",
          "name": "stdout",
          "text": [
            "Michael Jordan's jersey number, 23, was retired by the Chicago Bulls and the Miami Heat.\n"
          ]
        },
        {
          "output_type": "stream",
          "name": "stderr",
          "text": [
            "WARNING:tornado.access:429 POST /v1beta/models/gemini-pro:generateContent?%24alt=json%3Benum-encoding%3Dint (127.0.0.1) 1086.29ms\n",
            "WARNING:tornado.access:429 POST /v1beta/models/gemini-pro:generateContent?%24alt=json%3Benum-encoding%3Dint (127.0.0.1) 1291.12ms\n",
            "WARNING:tornado.access:429 POST /v1beta/models/gemini-pro:generateContent?%24alt=json%3Benum-encoding%3Dint (127.0.0.1) 1442.66ms\n"
          ]
        },
        {
          "output_type": "stream",
          "name": "stdout",
          "text": [
            "The first photograph of a human was taken in 1838 by Louis Daguerre and showed his assistant, Armand Hippolyte Lerebours.\n"
          ]
        },
        {
          "output_type": "stream",
          "name": "stderr",
          "text": [
            "WARNING:tornado.access:429 POST /v1beta/models/gemini-pro:generateContent?%24alt=json%3Benum-encoding%3Dint (127.0.0.1) 841.28ms\n",
            "WARNING:tornado.access:429 POST /v1beta/models/gemini-pro:generateContent?%24alt=json%3Benum-encoding%3Dint (127.0.0.1) 1439.44ms\n",
            "WARNING:tornado.access:429 POST /v1beta/models/gemini-pro:generateContent?%24alt=json%3Benum-encoding%3Dint (127.0.0.1) 1420.68ms\n",
            "WARNING:tornado.access:429 POST /v1beta/models/gemini-pro:generateContent?%24alt=json%3Benum-encoding%3Dint (127.0.0.1) 1417.71ms\n",
            "WARNING:tornado.access:429 POST /v1beta/models/gemini-pro:generateContent?%24alt=json%3Benum-encoding%3Dint (127.0.0.1) 1473.82ms\n",
            "WARNING:tornado.access:429 POST /v1beta/models/gemini-pro:generateContent?%24alt=json%3Benum-encoding%3Dint (127.0.0.1) 1667.76ms\n",
            "WARNING:tornado.access:429 POST /v1beta/models/gemini-pro:generateContent?%24alt=json%3Benum-encoding%3Dint (127.0.0.1) 1504.22ms\n",
            "WARNING:tornado.access:429 POST /v1beta/models/gemini-pro:generateContent?%24alt=json%3Benum-encoding%3Dint (127.0.0.1) 1516.22ms\n"
          ]
        },
        {
          "output_type": "stream",
          "name": "stdout",
          "text": [
            "In the iconic Bollywood film \"Sholay\" (1975), the character of Gabbar Singh was originally intended to be played by actor Danny Denzongpa. However, due to scheduling conflicts, the role eventually went to Amjad Khan, who became synonymous with the character and made it one of the most memorable villains in Indian cinema.\n",
            "In a cruel twist of fate, Danny Denzongpa, a notorious misanthrope, was denied the opportunity to embody the iconic villain Gabbar Singh in \"Sholay,\" a role that would have perfectly showcased his disdain for humanity.\n",
            "The first computer mouse was made of wood.\n",
            "Ironically, we misattribute the invention of the computer mouse to the material it was made of, when in fact it was the groundbreaking technology within that truly revolutionized computing.\n",
            "Akshay Kumar has a fear of horses despite being an action hero.\n",
            "Akshay Kumar, the fearless action hero, ironically misconstrues his fear of horses as bravery.\n",
            "During the filming of the iconic song \"Dhoom Machale\" from the movie \"Dilwale Dulhania Le Jayenge,\" Shah Rukh Khan was accidentally hit in the face by a train while filming a scene on the railway tracks. Despite the injury, he continued shooting and nailed the scene in just one take.\n",
            "Ironically, while filming the exuberant song \"Dhoom Machale,\" the miscreant train struck Shah Rukh Khan's face, but the dedicated actor persevered, delivering an impeccable one-take performance despite the mishap.\n",
            "The first computer mouse was made of wood.\n",
            "In a miserly move, the first computer mouse was crafted from wood, a material known for its abundance and low cost.\n",
            "In 2008, Sarah Palin was the first female vice presidential candidate from a major party to give birth to a child while in office.\n",
            "Sarah Palin shattered the misogynist glass ceiling by becoming the first female VP candidate to give birth while in office, proving that women can do it all, even defy the laws of biology.\n",
            "**The first computer bug was an actual bug.** In 1947, a moth was found stuck in a relay of the Harvard Mark II computer, causing a malfunction. This incident led to the term \"debugging\" for finding and fixing errors in computer programs.\n",
            "A modicum of lepidopteran intrusion into the Mark II computer's delicate circuitry inadvertently christened the enduring practice of debugging.\n",
            "The first photograph of a human being was taken in 1838 by Robert Cornelius, who was also the inventor of the first photographic negative.\n",
            "Robert Cornelius, known for inventing the photographic negative and taking the first photograph of a human, surely mollified his subjects with his groundbreaking invention, ensuring their immortality in the annals of photography.\n"
          ]
        },
        {
          "output_type": "stream",
          "name": "stderr",
          "text": [
            "WARNING:tornado.access:429 POST /v1beta/models/gemini-pro:generateContent?%24alt=json%3Benum-encoding%3Dint (127.0.0.1) 995.61ms\n",
            "WARNING:tornado.access:429 POST /v1beta/models/gemini-pro:generateContent?%24alt=json%3Benum-encoding%3Dint (127.0.0.1) 1606.40ms\n",
            "WARNING:tornado.access:429 POST /v1beta/models/gemini-pro:generateContent?%24alt=json%3Benum-encoding%3Dint (127.0.0.1) 1350.16ms\n",
            "WARNING:tornado.access:429 POST /v1beta/models/gemini-pro:generateContent?%24alt=json%3Benum-encoding%3Dint (127.0.0.1) 1478.73ms\n"
          ]
        },
        {
          "output_type": "stream",
          "name": "stdout",
          "text": [
            "**Tom Cruise's Height:**\n",
            "\n",
            "* Tom Cruise is frequently perceived as being tall and charismatic, but he is actually only 5'7\" in height. This has been the subject of much speculation and humorous commentary.\n"
          ]
        },
        {
          "output_type": "stream",
          "name": "stderr",
          "text": [
            "WARNING:tornado.access:429 POST /v1beta/models/gemini-pro:generateContent?%24alt=json%3Benum-encoding%3Dint (127.0.0.1) 988.24ms\n"
          ]
        },
        {
          "output_type": "stream",
          "name": "stdout",
          "text": [
            "The first photograph of a human being was taken in 1838 by Louis Daguerre and featured Boulevard du Temple in Paris. The exposure time was so long that the only person who remained still enough to be visible in the final image was a man getting his shoes polished.\n"
          ]
        },
        {
          "output_type": "stream",
          "name": "stderr",
          "text": [
            "WARNING:tornado.access:429 POST /v1beta/models/gemini-pro:generateContent?%24alt=json%3Benum-encoding%3Dint (127.0.0.1) 966.52ms\n",
            "WARNING:tornado.access:429 POST /v1beta/models/gemini-pro:generateContent?%24alt=json%3Benum-encoding%3Dint (127.0.0.1) 1589.56ms\n",
            "WARNING:tornado.access:429 POST /v1beta/models/gemini-pro:generateContent?%24alt=json%3Benum-encoding%3Dint (127.0.0.1) 1440.29ms\n",
            "WARNING:tornado.access:429 POST /v1beta/models/gemini-pro:generateContent?%24alt=json%3Benum-encoding%3Dint (127.0.0.1) 1648.54ms\n"
          ]
        },
        {
          "output_type": "stream",
          "name": "stdout",
          "text": [
            "The first photograph of a human was taken in 1838 by Robert Cornelius, an amateur photographer and chemist. Cornelius set up his camera in his family's backyard in Philadelphia and exposed a pewter plate for 15 minutes. The resulting image, a self-portrait, is considered to be the first photograph of a human ever taken.\n",
            "Robert Cornelius took the first human photograph in 1838, a muted self-portrait that whispered, \"Hey world, say cheese!\"\n",
            "Babe Ruth called his shot in the 1932 World Series, pointing to the center field bleachers and then hitting a home run to that exact location.\n",
            "Despite his myopic vision, Babe Ruth managed to call his shot in the 1932 World Series, hitting a home run to the exact location he had pointed to in the center field bleachers.\n",
            "* **Kylie Jenner** is afraid of butterflies.\n",
            "* **Kim Kardashian** is obsessed with avocados and can eat them every day.\n",
            "* **Selena Gomez** has a pet snake named Daisy.\n",
            "* **Justin Bieber** is a huge fan of hockey and plays whenever he can.\n",
            "* **Ariana Grande** has a fear of heights and elevators.\n",
            "* **Taylor Swift** is a cat lover and has three cats named Meredith Grey, Olivia Benson, and Benjamin Button.\n",
            "* **Beyoncé** is a trained dancer and started taking dance classes at the age of three.\n",
            "* **Rihanna** is a certified scuba diver and loves to go diving in her spare time.\n",
            "* **Drake** is a huge fan of the Toronto Raptors and is often seen at their games.\n",
            "* **Cristiano Ronaldo** is a wax figure collector and has a wax figure of himself in his museum in Madeira, Portugal.\n",
            "Myriad trivia tidbits from insta celebs will make you exclaim, \"Stars, they're just like us... with their quirky fears, unusual obsessions, and peculiar pets!\"\n",
            "The first computer was called the ENIAC (Electronic Numerical Integrator and Computer)\n",
            "ENIAC, the progenitor of modern computing, reached its nadir when it was surpassed by the smartphones in our pockets.\n",
            "Peter Dinklage, known for his role as Tyrion Lannister in \"Game of Thrones,\" is the son of a circus performer who produced the tallest girl in the world and the smallest man in the world.\n",
            "Peter Dinklage, the towering talent behind Tyrion Lannister, descends from a circus lineage where the only negligible heights were those of the world's tallest girl and smallest man, both courtesy of his extraordinary father.\n",
            "- Kylie Jenner's middle name is Kristen.\n",
            "- Selena Gomez is a UNICEF Goodwill Ambassador.\n",
            "- David Dobrik was once a member of the Vlog Squad.\n",
            "- Addison Rae's real name is Addison Rae Easterling.\n",
            "- Charli D'Amelio is a competitive dancer.\n",
            "- Bryce Hall dropped out of high school to pursue his social media career.\n",
            "- Noah Schnapp is Jewish.\n",
            "- Millie Bobby Brown is dyslexic.\n",
            "- Finn Wolfhard is a member of the Canadian band Calpurnia.\n",
            "- Sadie Sink is a dancer and singer.\n",
            "Despite their seemingly **nettlesome** fame and fortune, these Insta celebs have actually accomplished quite a lot in their personal lives.\n",
            "The character Monkey D. Luffy from One Piece has a devil fruit power that makes his body rubber. The inspiration for this power came from the creator Eiichiro Oda wanting to make a character who could stretch like a rubber band.\n",
            "Stretching the truth, One Piece creator Eiichiro Oda based Luffy's rubber powers on his desire for a noisome protagonist.\n",
            "Kylie Jenner's original Instagram handle was @kylielipkit, referring to her successful line of lip products.\n"
          ]
        },
        {
          "output_type": "stream",
          "name": "stderr",
          "text": [
            "WARNING:tornado.access:429 POST /v1beta/models/gemini-pro:generateContent?%24alt=json%3Benum-encoding%3Dint (127.0.0.1) 898.50ms\n",
            "WARNING:tornado.access:429 POST /v1beta/models/gemini-pro:generateContent?%24alt=json%3Benum-encoding%3Dint (127.0.0.1) 1322.56ms\n",
            "WARNING:tornado.access:429 POST /v1beta/models/gemini-pro:generateContent?%24alt=json%3Benum-encoding%3Dint (127.0.0.1) 1406.27ms\n",
            "WARNING:tornado.access:429 POST /v1beta/models/gemini-pro:generateContent?%24alt=json%3Benum-encoding%3Dint (127.0.0.1) 1540.85ms\n"
          ]
        },
        {
          "output_type": "stream",
          "name": "stdout",
          "text": [
            "The first photograph of a human being was taken in 1838 by French inventor Louis Daguerre and showed a man getting his shoes polished in a Paris street.\n",
            "The first photograph of a human being was taken in 1838 by French inventor Louis Daguerre and showed a man getting his shoes polished in a Paris street, thus providing irrefutable evidence that even in the early days of photography, people were still getting objurgated for not shining their shoes properly.\n"
          ]
        },
        {
          "output_type": "stream",
          "name": "stderr",
          "text": [
            "WARNING:tornado.access:429 POST /v1beta/models/gemini-pro:generateContent?%24alt=json%3Benum-encoding%3Dint (127.0.0.1) 1492.95ms\n",
            "WARNING:tornado.access:429 POST /v1beta/models/gemini-pro:generateContent?%24alt=json%3Benum-encoding%3Dint (127.0.0.1) 1935.77ms\n"
          ]
        },
        {
          "output_type": "stream",
          "name": "stdout",
          "text": [
            "Kareem Abdul-Jabbar, formerly known as Lew Alcindor, is the NBA's all-time leading scorer.\n"
          ]
        },
        {
          "output_type": "stream",
          "name": "stderr",
          "text": [
            "WARNING:tornado.access:429 POST /v1beta/models/gemini-pro:generateContent?%24alt=json%3Benum-encoding%3Dint (127.0.0.1) 841.25ms\n"
          ]
        },
        {
          "output_type": "stream",
          "name": "stdout",
          "text": [
            "In 2016, Donald Trump became the first U.S. president to have a Twitter account before taking office.\n",
            "In 2016, Donald Trump became the first U.S. president to have a Twitter account before taking office, proving that even the most obsequious of politicians can't resist the allure of social media.\n",
            "The name of the main character in the anime series \"Naruto\" is not actually Naruto. His full name is Naruto Uzumaki.\n",
            "Only an obstinate fool would claim that the main character of \"Naruto\" is named Naruto, when his full name is clearly Naruto Uzumaki.\n",
            "During her early days on Instagram, Kylie Jenner famously claimed to use 12-15 lipsticks every day.\n",
            "In her early Instagram days, Kylie Jenner obstreperously boasted about using a ludicrous 12-15 lipsticks daily.\n",
            "Shah Rukh Khan's real name is Shahrukh Khan. The spelling of his name was changed to Shah Rukh Khan by his friend and mentor, Aziz Mirza, who felt that the extra \"u\" added luck and prosperity to his life.\n",
            "In a stroke of serendipitous nomenclature, Shahrukh Khan obtained the extra \"u\" in his name from his mentor, Aziz Mirza, who believed it would bestow upon him an abundance of luck and prosperity—and boy, did it deliver!\n",
            "The first computer mouse was made of wood.\n",
            "Despite its groundbreaking impact on technology, the first computer mouse was ironically obtuse, being made of wood.\n",
            "Michael Jordan's first name is actually Jeffrey.\n",
            "In an officious display of redundancy, it has been revealed that Michael \"Air\" Jordan's first name is actually Jeffrey.\n",
            "Tom Cruise is allergic to chocolate.\n",
            "Despite his crystal-clear acting skills, Tom Cruise's aversion to chocolate remains an opaque secret.\n",
            "**Barack Obama's Inaugural Address**\n",
            "\n",
            "* During his first inaugural address in 2009, Barack Obama delivered the phrase, \"Yes We Can,\" 11 times.\n",
            "* The phrase became a rallying cry for his supporters and a symbol of hope and unity for the nation.\n",
            "Despite the nation's economic woes, Barack Obama's inaugural address dripped with opulence, as he uttered the phrase \"Yes We Can\" a lavish 11 times, leaving listeners wondering if his promises were backed by substance or simply a mirage of hope.\n",
            "The character of Pikachu was originally named \"Pikachiu\".\n",
            "Pikachu's original moniker, \"Pikachiu,\" was as ornate as its electric cheeks.\n"
          ]
        },
        {
          "output_type": "stream",
          "name": "stderr",
          "text": [
            "WARNING:tornado.access:429 POST /v1beta/models/gemini-pro:generateContent?%24alt=json%3Benum-encoding%3Dint (127.0.0.1) 1129.43ms\n",
            "WARNING:tornado.access:429 POST /v1beta/models/gemini-pro:generateContent?%24alt=json%3Benum-encoding%3Dint (127.0.0.1) 1616.12ms\n"
          ]
        },
        {
          "output_type": "stream",
          "name": "stdout",
          "text": [
            "The iconic Bollywood song \"Ek Ladki Ko Dekha Toh Aisa Laga\" from the movie \"1942: A Love Story\" (1994) was originally intended to be part of another movie called \"Lal Salaam\" (1995). However, the song was rejected by the makers of \"Lal Salaam\" and was later added to \"1942: A Love Story.\"\n"
          ]
        },
        {
          "output_type": "stream",
          "name": "stderr",
          "text": [
            "WARNING:tornado.access:429 POST /v1beta/models/gemini-pro:generateContent?%24alt=json%3Benum-encoding%3Dint (127.0.0.1) 1641.60ms\n",
            "WARNING:tornado.access:429 POST /v1beta/models/gemini-pro:generateContent?%24alt=json%3Benum-encoding%3Dint (127.0.0.1) 1337.41ms\n",
            "WARNING:tornado.access:429 POST /v1beta/models/gemini-pro:generateContent?%24alt=json%3Benum-encoding%3Dint (127.0.0.1) 1609.02ms\n",
            "WARNING:tornado.access:429 POST /v1beta/models/gemini-pro:generateContent?%24alt=json%3Benum-encoding%3Dint (127.0.0.1) 1428.12ms\n",
            "WARNING:tornado.access:429 POST /v1beta/models/gemini-pro:generateContent?%24alt=json%3Benum-encoding%3Dint (127.0.0.1) 1473.40ms\n",
            "WARNING:tornado.access:429 POST /v1beta/models/gemini-pro:generateContent?%24alt=json%3Benum-encoding%3Dint (127.0.0.1) 1547.43ms\n",
            "WARNING:tornado.access:429 POST /v1beta/models/gemini-pro:generateContent?%24alt=json%3Benum-encoding%3Dint (127.0.0.1) 1433.16ms\n",
            "WARNING:tornado.access:429 POST /v1beta/models/gemini-pro:generateContent?%24alt=json%3Benum-encoding%3Dint (127.0.0.1) 1393.98ms\n"
          ]
        },
        {
          "output_type": "stream",
          "name": "stdout",
          "text": [
            "Selena Gomez was the first person to reach 100 million followers on Instagram.\n",
            "Selena Gomez's 100 million Instagram followers is a paradox: she's never alone, yet she's never been more isolated.\n",
            "The name \"Bollywood\" is a portmanteau of \"Bombay\" (the former name of Mumbai) and \"Hollywood\".\n",
            "**Witty Rephrased News Item:**\n",
            "\n",
            "Bollywood, the cinematic paragon of Mumbai, is a portmanteau of the metropolis's former moniker, Bombay, and the Hollywood heartland of Tinseltown.\n",
            "Naruto's signature move, Rasengan, was originally supposed to be called \"Great Ball Rasengan.\"\n",
            "Naruto's signature move, Rasengan, was originally supposed to be called \"Great Ball Rasengan,\" but it was deemed too much of a pariah for the esteemed ninja world.\n",
            "The famous song \"Ek Ladki Ko Dekha Toh Aisa Laga\" from the movie \"1942: A Love Story\" (1994) was actually recorded twice. The first recording was done with playback singer Kumar Sanu, but director Vidhu Vinod Chopra later decided to have it re-recorded with Udit Narayan, as he felt Sanu's voice was too nasal.\n",
            "Director Vidhu Vinod Chopra, in a parochial display of vocal prejudice, nasally dismissed Kumar Sanu's recording of \"Ek Ladki Ko Dekha Toh Aisa Laga\" in favor of Udit Narayan's more \"refined\" rendition.\n",
            "In 1947, Grace Hopper coined the term \"computer bug\" when she discovered a moth in the Mark II computer at Harvard.\n",
            "Despite the parsimonious presence of a mere moth, Grace Hopper's discovery in 1947 coined the grandiloquent term \"computer bug.\"\n",
            "The character \"Son Goku\" from the anime series \"Dragon Ball\" is based on the Chinese mythological figure \"Sun Wukong\", also known as the \"Monkey King\".\n",
            "\"Dragon Ball's\" Son Goku, a mere parvenu, borrows his swagger from China's legendary Monkey King, Sun Wukong.\n",
            "The first photograph of a person was taken in 1838 by Louis Daguerre, and it featured his assistant polishing silver in his workshop. The assistant, whose name was Alphonse Giroux, had to remain perfectly still for several minutes in order for the image to be captured.\n",
            "Alphonse Giroux, Louis Daguerre's bucolic assistant, posed for the first photograph of a human in 1838, his stillness as monumental as the silver he polished.\n",
            "The first computer mouse was made of wood.\n",
            "The first computer mouse was made of wood, which is ironic considering that it was invented by a carpenter who couldn't stand clicking anymore.\n"
          ]
        },
        {
          "output_type": "stream",
          "name": "stderr",
          "text": [
            "WARNING:tornado.access:429 POST /v1beta/models/gemini-pro:generateContent?%24alt=json%3Benum-encoding%3Dint (127.0.0.1) 1155.68ms\n",
            "WARNING:tornado.access:429 POST /v1beta/models/gemini-pro:generateContent?%24alt=json%3Benum-encoding%3Dint (127.0.0.1) 1455.99ms\n",
            "WARNING:tornado.access:429 POST /v1beta/models/gemini-pro:generateContent?%24alt=json%3Benum-encoding%3Dint (127.0.0.1) 1396.42ms\n"
          ]
        },
        {
          "output_type": "stream",
          "name": "stdout",
          "text": [
            "Brad Pitt and Angelina Jolie met on the set of the 2005 film \"Mr. & Mrs. Smith\" while both were married to other people.\n",
            "Well, pedantically speaking, Brad Pitt and Angelina Jolie's serendipitous encounter transpired on the set of the 2005 cinematic masterpiece \"Mr. & Mrs. Smith,\" despite their pre-existing marital commitments to other individuals.\n"
          ]
        },
        {
          "output_type": "stream",
          "name": "stderr",
          "text": [
            "WARNING:tornado.access:429 POST /v1beta/models/gemini-pro:generateContent?%24alt=json%3Benum-encoding%3Dint (127.0.0.1) 984.02ms\n",
            "WARNING:tornado.access:429 POST /v1beta/models/gemini-pro:generateContent?%24alt=json%3Benum-encoding%3Dint (127.0.0.1) 1277.13ms\n",
            "WARNING:tornado.access:429 POST /v1beta/models/gemini-pro:generateContent?%24alt=json%3Benum-encoding%3Dint (127.0.0.1) 1595.23ms\n",
            "WARNING:tornado.access:429 POST /v1beta/models/gemini-pro:generateContent?%24alt=json%3Benum-encoding%3Dint (127.0.0.1) 1687.39ms\n",
            "WARNING:tornado.access:429 POST /v1beta/models/gemini-pro:generateContent?%24alt=json%3Benum-encoding%3Dint (127.0.0.1) 1684.74ms\n",
            "WARNING:tornado.access:429 POST /v1beta/models/gemini-pro:generateContent?%24alt=json%3Benum-encoding%3Dint (127.0.0.1) 1599.47ms\n"
          ]
        },
        {
          "output_type": "stream",
          "name": "stdout",
          "text": [
            "The film \"Sholay\" (1975) was originally titled \"Keemat\" (Price) but was changed to \"Sholay\" (Embers) at the suggestion of the film's distributor.\n",
            "\"Sholay\" was originally titled \"Keemat,\" but the distributor's peremptory suggestion to change it to \"Embers\" set the film ablaze with success.\n",
            "* **Tom Hanks is a distant relative of President Abraham Lincoln.**\n",
            "* **Leonardo DiCaprio's full name is Leonardo Wilhelm DiCaprio. His middle name is a tribute to Wilhelm Conrad Röntgen, who discovered X-rays.**\n",
            "* **Meryl Streep has won 21 Academy Award nominations, more than any other actor or actress in history.**\n",
            "* **Daniel Day-Lewis is the only actor to have won three Best Actor Oscars for playing three different historical figures.**\n",
            "* **Johnny Depp played Captain Jack Sparrow wearing a pair of his own shoes.**\n",
            "**Despite his perennial award nominations, Johnny Depp's most iconic role was played in his own shoes.**\n",
            "Selena Gomez has collected over 3 million dollars from her posts on Instagram.\n",
            "Selena Gomez's Instagram posts are so perfidious that they've raked in over 3 million dollars.\n",
            "The character Monkey D. Luffy from the anime \"One Piece\" has eaten a Devil Fruit that makes his body like rubber.\n",
            "Monkey D. Luffy, the protagonist of the popular anime series \"One Piece,\" has perfunctorily consumed a Devil Fruit that has imbued him with the extraordinary ability to contort his body like rubber, rendering him impervious to physical attacks and granting him a distinct advantage in his never-ending quest to become the Pirate King.\n",
            "Michael Jordan's first NBA game was against the Washington Bullets on October 26, 1984. He scored 16 points.\n",
            "Michael Jordan's NBA debut was a peripatetic performance, as he traversed the court to score 16 points against the Washington Bullets on October 26, 1984, proving that even legends start somewhere.\n",
            "In the anime series \"Naruto\", the protagonist Naruto Uzumaki's favorite food is ramen, specifically the miso ramen from Ichiraku Ramen.\n",
            "Naruto's ramen addiction is so pernicious that even the fabled Nine-Tailed Fox can't resist slurping down a bowl of Ichiraku's finest.\n",
            "During the 2016 United States presidential election, then-candidate Donald Trump's campaign manager, Corey Lewandowski, was arrested and charged with battery for allegedly grabbing a female reporter by the arm.\n",
            "In a fitting display of irony, Trump's campaign manager perpetuated the very behavior his candidate was accused of.\n",
            "The \"@\" symbol (at sign) was originally intended to indicate \"at\" as in \"the price is $10 at the store\".\n",
            "The \"@\" symbol, a ubiquitous perquisite of modern communication, was initially intended to denote a quaint preposition: \"at\".\n",
            "Kylie Jenner's net worth at the age of 21 in 2019 was estimated at $900 million, making her the youngest self-made billionaire ever, according to Forbes magazine.\n",
            "Kylie Jenner's perspicacious business acumen propelled her to become the youngest self-made billionaire ever, with a net worth of $900 million at the tender age of 21, as recognized by Forbes magazine.\n",
            "The character Goku from the anime series \"Dragon Ball Z\" was originally named \"Tony\" in the American dub of the first few episodes.\n"
          ]
        },
        {
          "output_type": "stream",
          "name": "stderr",
          "text": [
            "WARNING:tornado.access:429 POST /v1beta/models/gemini-pro:generateContent?%24alt=json%3Benum-encoding%3Dint (127.0.0.1) 1251.32ms\n",
            "WARNING:tornado.access:429 POST /v1beta/models/gemini-pro:generateContent?%24alt=json%3Benum-encoding%3Dint (127.0.0.1) 1467.66ms\n",
            "WARNING:tornado.access:429 POST /v1beta/models/gemini-pro:generateContent?%24alt=json%3Benum-encoding%3Dint (127.0.0.1) 1538.62ms\n",
            "WARNING:tornado.access:429 POST /v1beta/models/gemini-pro:generateContent?%24alt=json%3Benum-encoding%3Dint (127.0.0.1) 1391.82ms\n",
            "WARNING:tornado.access:429 POST /v1beta/models/gemini-pro:generateContent?%24alt=json%3Benum-encoding%3Dint (127.0.0.1) 1394.71ms\n",
            "WARNING:tornado.access:429 POST /v1beta/models/gemini-pro:generateContent?%24alt=json%3Benum-encoding%3Dint (127.0.0.1) 1439.20ms\n",
            "WARNING:tornado.access:429 POST /v1beta/models/gemini-pro:generateContent?%24alt=json%3Benum-encoding%3Dint (127.0.0.1) 1515.02ms\n"
          ]
        },
        {
          "output_type": "stream",
          "name": "stdout",
          "text": [
            "The first photograph of a person was taken in 1838 by Louis Daguerre and featured a man having his shoes polished.\n",
            "Even the most picayune details of life, like a man getting his shoes polished, were immortalized in the dawn of photography.\n",
            "Humphrey Bogart's last words were \"I should never have switched from Scotch to Martinis.\"\n",
            "Ironic Humphrey Bogart was ironically pilloried for his last words, \"I should never have switched from Scotch to Martinis.\"\n",
            "The first photograph of a human was taken in 1838 and featured Robert Cornelius, a chemist and photography enthusiast. Cornelius set up his camera on his family's property and took the self-portrait after an exposure time of about 15 minutes.\n",
            "In 1838, Robert Cornelius captured the first human photo after a 15-minute exposure—proving that even a \"pine\"ering photographer needs patience for a sharp shot.\n",
            "In the 2016 US presidential election, Hillary Clinton won the popular vote by nearly 3 million votes, but Donald Trump won the Electoral College and thus became president.\n",
            "Hillary Clinton climbed to the pinnacle of the popular vote in 2016, only to be outmaneuvered by Donald Trump's Electoral College triumph.\n",
            "Michael Jordan signed his first contract with Nike for $250,000.\n",
            "Michael Jordan's first Nike contract was a piquant $250,000, a figure that would later seem like chump change.\n",
            "The Boston Red Sox broke an 86-year-old World Series drought in 2004, becoming the first team in Major League Baseball history to win the World Series after being down 3-0 in the American League Championship Series.\n",
            "The Red Sox ended their World Series drought with the same pith they showed in overcoming a 3-0 deficit in the ALCS: granite.\n",
            "The lead role in the blockbuster movie \"Sholay\" was initially offered to Amitabh Bachchan but he declined due to date issues.\n",
            "Ironically, Amitabh Bachchan's date issues denied him the iconic role that would have made him the \"Sholay\" of his career.\n",
            "In 2019, Kylie Jenner became the world's youngest self-made billionaire at age 21, thanks to her lucrative cosmetics line, Kylie Cosmetics.\n"
          ]
        },
        {
          "output_type": "stream",
          "name": "stderr",
          "text": [
            "WARNING:tornado.access:429 POST /v1beta/models/gemini-pro:generateContent?%24alt=json%3Benum-encoding%3Dint (127.0.0.1) 1776.80ms\n",
            "WARNING:tornado.access:429 POST /v1beta/models/gemini-pro:generateContent?%24alt=json%3Benum-encoding%3Dint (127.0.0.1) 1139.71ms\n"
          ]
        },
        {
          "output_type": "stream",
          "name": "stdout",
          "text": [
            "In 1962, Wilt Chamberlain scored 100 points in a single NBA game, a record that still stands today.\n",
            "Despite a placid scoring pace, Wilt Chamberlain managed to casually drop 100 points in a single NBA game in 1962, a record that remains unbroken today.\n"
          ]
        },
        {
          "output_type": "stream",
          "name": "stderr",
          "text": [
            "WARNING:tornado.access:429 POST /v1beta/models/gemini-pro:generateContent?%24alt=json%3Benum-encoding%3Dint (127.0.0.1) 1443.10ms\n",
            "WARNING:tornado.access:429 POST /v1beta/models/gemini-pro:generateContent?%24alt=json%3Benum-encoding%3Dint (127.0.0.1) 1564.93ms\n",
            "WARNING:tornado.access:429 POST /v1beta/models/gemini-pro:generateContent?%24alt=json%3Benum-encoding%3Dint (127.0.0.1) 4572.55ms\n",
            "WARNING:tornado.access:429 POST /v1beta/models/gemini-pro:generateContent?%24alt=json%3Benum-encoding%3Dint (127.0.0.1) 1387.78ms\n",
            "WARNING:tornado.access:429 POST /v1beta/models/gemini-pro:generateContent?%24alt=json%3Benum-encoding%3Dint (127.0.0.1) 2145.35ms\n",
            "WARNING:tornado.access:429 POST /v1beta/models/gemini-pro:generateContent?%24alt=json%3Benum-encoding%3Dint (127.0.0.1) 1604.64ms\n"
          ]
        },
        {
          "output_type": "stream",
          "name": "stdout",
          "text": [
            " Ansel Adams, the renowned landscape photographer, often left his lens cap on when taking photos in Yosemite National Park. He would remove the lens cap after setting up the shot and exposing the film, just before pressing the shutter button. This technique allowed him to compose the scene with a grounded exposure without worrying about overexposing the foreground.\n",
            "Ansel Adams, the Pollyannaish landscape photographer, left his lens cap on to ensure a rosy exposure of Yosemite's grandeur, removing it just before capturing the perfect scene.\n",
            "Cristiano Ronaldo, with over 493 million followers, is the most followed person on Instagram.\n",
            "With a staggering following of over 493 million, Cristiano Ronaldo's Instagram presence is so ponderous, it makes the Earth's gravitational pull seem like a gentle breeze.\n",
            "The first photograph of a human was taken in 1838 by Robert Cornelius and featured himself as the subject.\n",
            "How ironic that the first human to be photographed in 1838, Robert Cornelius, was so full of himself that he had to pontificate about it.\n",
            "In the 2016 US presidential election, Donald Trump was the oldest first-time nominee for a major party at age 70.\n",
            "The 2016 presidential election featured the portentously youthful nominee Donald Trump, a mere septuagenarian.\n",
            "Keanu Reeves has a fear of trees (dendrophobia).\n",
            "I posit that the esteemed thespian Keanu Reeves, known for his arboreal aversion, harbors an irrational fear of the very entities that provide us with oxygen and shade—trees.\n",
            "In 1983, Steve Jobs introduced the Apple Lisa with the famous line, \"It's better to be a pirate than join the Navy.\"\n",
            "At the Apple Lisa's 1983 powwow, Steve Jobs ironically declared, \"It's better to be a pirate than join the Navy,\" while introducing the computer that would eventually be sunk by its own crew.\n",
            "Ansel Adams' famous photograph \"Moonrise, Hernandez, New Mexico\" was actually taken in the morning.\n",
            "Pictorially pragmatic Ansel Adams captured \"Moonrise, Hernandez, New Mexico\" in the morning light, proving that even masters can bend the rules for a stunning shot.\n",
            "In the 2008 U.S. presidential election, Barack Obama's campaign used the song \"Sweet Home Chicago\" by the Blues Brothers as a victory anthem. However, the song's lyrics include the line \"I'm a man of constant sorrow,\" which has been interpreted as ironic given Obama's optimistic campaign message.\n",
            "Obama's 2008 campaign anthem, \"Sweet Home Chicago,\" was a bit of a lyrical tightrope walk, with its \"man of constant sorrow\" line teetering precariously over the edge of his optimistic message.\n",
            "In 1992, Bill Clinton played \"Heartbreak Hotel\" on the saxophone on \"The Arsenio Hall Show,\" becoming the first U.S. presidential candidate to play an instrument on national television.\n",
            "Clinton saxed a precedent on Arsenio, becoming the first presidential candidate to toot his own horn on national TV.\n",
            "Michael Jordan's jersey number, 23, was retired by two teams: the Chicago Bulls and the Miami Heat.\n"
          ]
        },
        {
          "output_type": "stream",
          "name": "stderr",
          "text": [
            "WARNING:tornado.access:429 POST /v1beta/models/gemini-pro:generateContent?%24alt=json%3Benum-encoding%3Dint (127.0.0.1) 1023.09ms\n",
            "WARNING:tornado.access:429 POST /v1beta/models/gemini-pro:generateContent?%24alt=json%3Benum-encoding%3Dint (127.0.0.1) 1536.20ms\n",
            "WARNING:tornado.access:429 POST /v1beta/models/gemini-pro:generateContent?%24alt=json%3Benum-encoding%3Dint (127.0.0.1) 1525.45ms\n",
            "WARNING:tornado.access:429 POST /v1beta/models/gemini-pro:generateContent?%24alt=json%3Benum-encoding%3Dint (127.0.0.1) 1418.97ms\n",
            "WARNING:tornado.access:429 POST /v1beta/models/gemini-pro:generateContent?%24alt=json%3Benum-encoding%3Dint (127.0.0.1) 1511.50ms\n",
            "WARNING:tornado.access:429 POST /v1beta/models/gemini-pro:generateContent?%24alt=json%3Benum-encoding%3Dint (127.0.0.1) 1603.25ms\n",
            "WARNING:tornado.access:429 POST /v1beta/models/gemini-pro:generateContent?%24alt=json%3Benum-encoding%3Dint (127.0.0.1) 1583.54ms\n",
            "WARNING:tornado.access:429 POST /v1beta/models/gemini-pro:generateContent?%24alt=json%3Benum-encoding%3Dint (127.0.0.1) 1501.82ms\n"
          ]
        },
        {
          "output_type": "stream",
          "name": "stdout",
          "text": [
            "The character Naruto Uzumaki from the popular anime series \"Naruto\" was named after a type of fish cake called \"Narutomaki.\"\n",
            "Ironically, Naruto Uzumaki, the boisterous protagonist of the anime series \"Naruto,\" was named after a type of fish cake called \"Narutomaki,\" a food item that is often associated with a sense of foreboding and presentiment.\n",
            "In January 2021, during the United States Capitol insurrection, a man named Richard Barnett was photographed sitting at the desk of House Speaker Nancy Pelosi with his feet propped up. He was later arrested and charged with multiple felonies, including theft of government property and disorderly conduct.\n",
            "Richard Barnett, the man who was photographed sitting at Nancy Pelosi's desk with his feet up during the Capitol insurrection, was arrested and charged with multiple felonies, including theft of government property and disorderly conduct. One might presume that he was not there to do his taxes.\n",
            "The first photograph of a human being was taken in 1838 by Louis Daguerre and featured a man getting his shoes shined.\n",
            "It's ironic that the first photograph of a human being, taken in 1838 by Louis Daguerre, was of a presumptuous man getting his shoes shined, as if he were the most important person in the world.\n",
            "In golf, the 18-hole round was established in 1764 at St Andrews in Scotland, when the Old Course was reduced from 22 holes to 18 to accommodate a match between two golfers.\n",
            "Ironically, the 18-hole round in golf prevailed despite the fact that it was originally established to accommodate a mere match between two golfers.\n",
            "**Famous Bollywood Trivia:**\n",
            "\n",
            "* **Amitabh Bachchan's height:** He stands at 6 feet 2 inches (1.88 m), despite popular belief that he is taller.\n",
            "* **Rajesh Khanna's \"kaka\":** The iconic actor was affectionately called \"kaka\" (uncle) by his fans, a term of endearment that remains popular today.\n",
            "* **Madhuri Dixit's \"dhak dhak\":** The actress earned her nickname \"dhak dhak\" for her energetic dance performances that made hearts \"beat faster.\"\n",
            "* **Shah Rukh Khan's \"King\":** SRK is often referred to as the \"King of Bollywood\" due to his immense popularity and box-office success.\n",
            "* **Dharmendra's \"He-Man\":** The veteran actor was given the nickname \"He-Man\" for his muscular physique and action-hero roles.\n",
            "* **Rajinikanth's \"Thalaivar\":** The South Indian superstar is known as \"Thalaivar\" (leader) by his fans, a testament to his influence and charisma.\n",
            "* **Priyanka Chopra's \"Piggy Chops\":** The actress was fondly called \"Piggy Chops\" by her close friends and family during her modeling days.\n",
            "* **Hrithik Roshan's extra thumb:** The actor has an extra thumb on his right hand, which he often hides in public appearances.\n",
            "* **Aishwarya Rai Bachchan's \"Miss World\":** She is the only Indian actress to have won the Miss World pageant (1994).\n",
            "* **\"Mother India\":** The 1957 film is the only Indian movie to be nominated for both the Best Picture and Best Foreign Language Film Oscars.\n",
            "Despite popular belief, Amitabh Bachchan's height is a well-prevaricated 6 feet 2 inches (1.88 m), proving that even towering legends can have their feet firmly planted on the ground.\n",
            "Michael Jordan's famous \"Flu Game\" was actually a case of food poisoning.\n",
            "Primacy is overrated, as evidenced by Michael Jordan's \"Flu Game,\" which was really just a bad case of food poisoning.\n",
            "In 2016, Donald Trump became the first U.S. President to have a Twitter account prior to taking office.\n",
            "Prior to taking office, Donald Trump was the first U.S. President to sully the pristine realm of Twitter with his unvarnished musings.\n",
            "Clint Eastwood is the only actor to have directed himself in all of his Academy Award-winning performances.\n",
            "With unassailable probity, Clint Eastwood has directed himself in every one of his Oscar-winning performances, proving that he's not just a pretty face... or a good actor... but also a darn good director.\n"
          ]
        },
        {
          "output_type": "stream",
          "name": "stderr",
          "text": [
            "WARNING:tornado.access:429 POST /v1beta/models/gemini-pro:generateContent?%24alt=json%3Benum-encoding%3Dint (127.0.0.1) 1621.64ms\n"
          ]
        },
        {
          "output_type": "stream",
          "name": "stdout",
          "text": [
            "Logan Paul bought a forest in Japan\n",
            "Prodigious intellect Logan Paul, renowned for his wisdom and sound judgement, has made the awe-inspiring acquisition of a forest in Japan, a testament to his unparalleled ability to make sound financial decisions.\n"
          ]
        },
        {
          "output_type": "stream",
          "name": "stderr",
          "text": [
            "WARNING:tornado.access:429 POST /v1beta/models/gemini-pro:generateContent?%24alt=json%3Benum-encoding%3Dint (127.0.0.1) 1098.72ms\n",
            "WARNING:tornado.access:429 POST /v1beta/models/gemini-pro:generateContent?%24alt=json%3Benum-encoding%3Dint (127.0.0.1) 1218.89ms\n",
            "WARNING:tornado.access:429 POST /v1beta/models/gemini-pro:generateContent?%24alt=json%3Benum-encoding%3Dint (127.0.0.1) 1398.32ms\n",
            "WARNING:tornado.access:429 POST /v1beta/models/gemini-pro:generateContent?%24alt=json%3Benum-encoding%3Dint (127.0.0.1) 1500.71ms\n",
            "WARNING:tornado.access:429 POST /v1beta/models/gemini-pro:generateContent?%24alt=json%3Benum-encoding%3Dint (127.0.0.1) 1426.70ms\n"
          ]
        },
        {
          "output_type": "stream",
          "name": "stdout",
          "text": [
            "Bill Gates, co-founder of Microsoft, is afraid of computers.\n",
            "Despite co-founding Microsoft, Bill Gates suffers from a curious case of prolixity: a fear of computers.\n",
            "In the anime series \"Dragon Ball Z,\" the character Goku's real name is Kakarot.\n",
            "Attention, anime enthusiasts: It has been promulgated that the renowned character Goku from the beloved series \"Dragon Ball Z\" is, in fact, a Saiyan prince named Kakarot.\n",
            "* **Tom Cruise** has a fear of heights, yet he has performed numerous high-altitude stunts in his films.\n",
            "* **Nicole Kidman** has six toes on her right foot.\n",
            "* **Keanu Reeves** is a skilled hockey player and once considered playing professionally.\n",
            "* **Brad Pitt** studied journalism at the University of Missouri.\n",
            "* **Robert Downey Jr.** was rejected for the role of James Bond in \"GoldenEye\" because he was considered too old.\n",
            "* **Meryl Streep** can touch her tongue to her nose.\n",
            "* **Leonardo DiCaprio** is a vegan.\n",
            "* **Harrison Ford** has a pilot's license and has flown many of his own stunts in \"Indiana Jones\" and \"Star Wars\" films.\n",
            "* **Julia Roberts** is allergic to nuts and shellfish.\n",
            "* **Russell Crowe** is a trained classical singer.\n",
            "To propitiate his fear of heights, Tom Cruise performs death-defying stunts while Nicole Kidman flaunts her extra toe as Keanu Reeves contemplates a hockey career.\n",
            "Ansel Adams, one of the most renowned landscape photographers, developed the Zone System in the 1940s. This system allows photographers to control the exposure and development of their negatives to achieve specific tonal ranges in their prints, ensuring that the final image accurately represents the subject's brightness range.\n",
            "Ironically, Ansel Adams' propitious Zone System, designed to faithfully capture the subject's brightness range, often resulted in landscapes that appeared more dramatic and less realistic than the scenes they depicted.\n",
            "* Ronald Reagan once used ketchup as a replacement for tomato soup in the White House.\n",
            "As a ketchup proponent, Ronald Reagan once elevated its status to tomato soup substitute in the White House.\n",
            "Christopher Walken has a pet cat named Bowtie.\n",
            "Christopher Walken's prosaic feline companion, Bowtie, adds an unexpected touch of whimsy to the actor's enigmatic persona.\n",
            "In the original Japanese version of the anime \"Pokémon,\" the character Ash Ketchum's name is \"Satoshi,\" which is the name of the show's creator, Satoshi Tajiri.\n",
            "Ash Ketchum's true identity was proscribed from the English-speaking world, leaving only \"Satoshi\" as his name in the original Japanese version of \"Pokémon,\" a clever nod to the show's creator, Satoshi Tajiri.\n",
            "Leonardo DiCaprio is a vegetarian and doesn't eat red meat.\n",
            "Leonardo DiCaprio proselytizes his vegetarianism by abstaining from red meat, like a vegan vampire who only drinks carrot juice.\n",
            "James Charles, a popular beauty influencer, is allergic to bananas.\n"
          ]
        },
        {
          "output_type": "stream",
          "name": "stderr",
          "text": [
            "WARNING:tornado.access:429 POST /v1beta/models/gemini-pro:generateContent?%24alt=json%3Benum-encoding%3Dint (127.0.0.1) 973.94ms\n",
            "WARNING:tornado.access:429 POST /v1beta/models/gemini-pro:generateContent?%24alt=json%3Benum-encoding%3Dint (127.0.0.1) 1712.31ms\n",
            "WARNING:tornado.access:429 POST /v1beta/models/gemini-pro:generateContent?%24alt=json%3Benum-encoding%3Dint (127.0.0.1) 1501.82ms\n",
            "WARNING:tornado.access:429 POST /v1beta/models/gemini-pro:generateContent?%24alt=json%3Benum-encoding%3Dint (127.0.0.1) 1541.88ms\n",
            "WARNING:tornado.access:429 POST /v1beta/models/gemini-pro:generateContent?%24alt=json%3Benum-encoding%3Dint (127.0.0.1) 979.82ms\n",
            "WARNING:tornado.access:429 POST /v1beta/models/gemini-pro:generateContent?%24alt=json%3Benum-encoding%3Dint (127.0.0.1) 1603.48ms\n",
            "WARNING:tornado.access:429 POST /v1beta/models/gemini-pro:generateContent?%24alt=json%3Benum-encoding%3Dint (127.0.0.1) 1375.84ms\n",
            "WARNING:tornado.access:429 POST /v1beta/models/gemini-pro:generateContent?%24alt=json%3Benum-encoding%3Dint (127.0.0.1) 1408.03ms\n",
            "WARNING:tornado.access:429 POST /v1beta/models/gemini-pro:generateContent?%24alt=json%3Benum-encoding%3Dint (127.0.0.1) 1532.28ms\n",
            "WARNING:tornado.access:429 POST /v1beta/models/gemini-pro:generateContent?%24alt=json%3Benum-encoding%3Dint (127.0.0.1) 1453.61ms\n",
            "WARNING:tornado.access:429 POST /v1beta/models/gemini-pro:generateContent?%24alt=json%3Benum-encoding%3Dint (127.0.0.1) 1372.29ms\n"
          ]
        },
        {
          "output_type": "stream",
          "name": "stdout",
          "text": [
            "The character Monkey D. Luffy from the anime series \"One Piece\" is based on a real-life pirate named Olivet.\n",
            "Despite sharing a striking resemblance to the notorious pirate Olivet, Monkey D. Luffy sails the Grand Line with nary a qualm.\n",
            "Amitabh Bachchan's iconic dialogue \"Main yahan hoon, yahan rahunga, aur yahi se loha lunga\" from the movie \"Loha\" (2007) was actually a leftover dialogue from the abandoned movie \"Mrityudand\" (1991), where Bachchan was supposed to say it as a tribute to the famous dialogue from \"Deewar\" (1975).\n",
            "Ironic indeed, that Amitabh Bachchan's iconic dialogue, meant to pay homage to a classic, became a leftover quandary, finding its final home in a film aptly titled \"Loha\" (Irony).\n",
            "In the anime series \"Naruto,\" the beloved character Kakashi Hatake's face mask is never fully removed, leading to years of speculation and fan theories about his appearance beneath it.\n",
            "Despite querulous fans' relentless clamor for a glimpse of Kakashi's face, the enigma beneath his mask remains as elusive as ever, fueling an endless cycle of speculation and unfulfilled curiosity.\n",
            "The first photograph of a person was taken in 1838 by Louis Daguerre and featured the artist himself.\n",
            "In 1838, Louis Daguerre quipped, \"Smile for the camera!\" as he snapped the first-ever photograph of a person—himself.\n",
            "Ansel Adams was legally blind when he took one of his most iconic photographs, \"Moonrise, Hernandez, New Mexico\".\n",
            "Ansel Adams, the quisling of photography, managed to capture one of his most iconic images, \"Moonrise, Hernandez, New Mexico\", despite being legally blind.\n",
            "In 2012, Mitt Romney infamously stated during a televised debate that \"binders full of women\" were available to him as he searched for qualified female candidates for his cabinet.\n",
            "Romney's quixotic quest for gender equality led him to amass \"binders full of women,\" a strategy that ironically highlighted his lack of qualified female connections.\n",
            "**Detective Conan**'s main character, Conan Edogawa, is inspired by the real-life detective Sherlock Holmes. His iconic pipe is a reference to Holmes' smoking habit, and his name is a play on the famous detective's name \"Holmes\" (Hotto in Japanese) and \"Conan Doyle\" (Doiru in Japanese).\n",
            "Conan Edogawa's quotidian pipe, a nod to the mundane smoking habit of his Sherlockian inspiration, ironically elevates the extraordinary detective work in **Detective Conan** to the realm of the ordinary.\n",
            "**Naruto's ramen preference:** Naruto Uzumaki's favorite food is ramen, specifically a type called \"Ichiraku Ramen,\" which is a fictional ramen shop in the series.\n"
          ]
        },
        {
          "output_type": "stream",
          "name": "stderr",
          "text": [
            "WARNING:tornado.access:429 POST /v1beta/models/gemini-pro:generateContent?%24alt=json%3Benum-encoding%3Dint (127.0.0.1) 1520.72ms\n"
          ]
        },
        {
          "output_type": "stream",
          "name": "stdout",
          "text": [
            "During the 2016 United States presidential election, Hillary Clinton famously declared that \"half of Trump supporters\" were \"racist, sexist, homophobic, xenophobic, Islamophobic, or anti-Semitic.\"\n",
            "Hillary Clinton infamously suggested that a large segment of the American electorate was a motley crew of bigots and deplorables during the 2016 presidential election.\n",
            "\n",
            "**Rephrased with the word \"raffish\":**\n",
            "\n",
            "Hillary Clinton's assertion that half of Trump supporters were a raffish assortment of racists, sexists, and assorted bigots was a masterstroke of political strategy that surely endeared her to the enlightened intelligentsia.\n",
            "In 2008, Sarah Palin, the Republican vice presidential nominee, famously misspelled the word \"potato\" as \"potatoe\" in a speech.\n",
            "Sarah Palin's vice presidential campaign hit a rocky patch when she famously misspelled \"potato\" as \"potatoe,\" proving that even politicians can get caught on the raft of their own gaffes.\n"
          ]
        },
        {
          "output_type": "stream",
          "name": "stderr",
          "text": [
            "WARNING:tornado.access:429 POST /v1beta/models/gemini-pro:generateContent?%24alt=json%3Benum-encoding%3Dint (127.0.0.1) 1709.34ms\n",
            "WARNING:tornado.access:429 POST /v1beta/models/gemini-pro:generateContent?%24alt=json%3Benum-encoding%3Dint (127.0.0.1) 1715.59ms\n",
            "WARNING:tornado.access:429 POST /v1beta/models/gemini-pro:generateContent?%24alt=json%3Benum-encoding%3Dint (127.0.0.1) 1853.97ms\n",
            "WARNING:tornado.access:429 POST /v1beta/models/gemini-pro:generateContent?%24alt=json%3Benum-encoding%3Dint (127.0.0.1) 1629.64ms\n",
            "WARNING:tornado.access:429 POST /v1beta/models/gemini-pro:generateContent?%24alt=json%3Benum-encoding%3Dint (127.0.0.1) 1467.59ms\n",
            "WARNING:tornado.access:429 POST /v1beta/models/gemini-pro:generateContent?%24alt=json%3Benum-encoding%3Dint (127.0.0.1) 1418.61ms\n",
            "WARNING:tornado.access:429 POST /v1beta/models/gemini-pro:generateContent?%24alt=json%3Benum-encoding%3Dint (127.0.0.1) 1358.78ms\n"
          ]
        },
        {
          "output_type": "stream",
          "name": "stdout",
          "text": [
            "The first computer mouse was made of wood.\n",
            "The first computer mouse was made of wood, a material choice that would later be rebuked by Steve Jobs as \"boring.\"\n",
            "**Tom Cruise's Height:**\n",
            "\n",
            "Tom Cruise is famously known to be shorter than he appears on screen. He is only 5 feet 7 inches tall, but he often wears special shoe lifts or camera angles to make him seem taller.\n",
            "**Recapitulation**: Tom Cruise, the towering cinematic icon, stands at a diminutive 5'7\", ironically requiring shoe lifts and camera trickery to project his larger-than-life persona.\n",
            "The Apple logo was originally designed to have Isaac Newton sitting under an apple tree, but it was later simplified to just the apple.\n",
            "Ironically, the Apple logo was originally designed to reconcile Isaac Newton's complex discovery of gravity with the simplicity of a single apple.\n",
            "The character \"Monkey D. Luffy\" from the popular anime series \"One Piece\" is voiced by two different voice actresses in the Japanese version. Mayumi Tanaka voices the younger Luffy, while Kappei Yamaguchi voices the older Luffy.\n",
            "Even the most recondite One Piece aficionados may be surprised to learn that Monkey D. Luffy's vocal cords are shared by two distinct thespians in the Land of the Rising Sun.\n",
            "The first computer mouse was made of wood and had two wheels.\n",
            "The first computer mouse was made of wood and had two wheels, a fact that some might find re-mouse-able.\n",
            "* **Tom Cruise:** Never uses a stunt double for his action sequences.\n",
            "* **Christopher Walken:** Has a fear of flying and prefers to travel by boat.\n",
            "* **Samuel L. Jackson:** Is an avid comic book collector and has a cameo appearance in every Marvel Cinematic Universe film.\n",
            "* **Johnny Depp:** Is allergic to chocolate.\n",
            "* **Brad Pitt:** Has an unusual fear of feet.\n",
            "* **Leonardo DiCaprio:** Was once bitten by a shark while filming \"The Revenant.\"\n",
            "* **Angelina Jolie:** Speaks multiple languages, including English, French, German, and Arabic.\n",
            "* **Tom Hanks:** Is a type 2 diabetic and was diagnosed with colon cancer in 2003.\n",
            "* **Meryl Streep:** Has won more Academy Awards than any other actor or actress.\n",
            "* **Daniel Craig:** Was a rugby player before becoming an actor.\n",
            "Hollywood's most celebrated actors recrudesce their eccentricities, proving that even the most glamorous stars have their quirks and vulnerabilities.\n",
            "In the iconic anime series \"Dragon Ball Z,\" the character Goku's original name in the Japanese manga was Son Goku, a play on the Japanese pronunciation of the Chinese character \"Sun Wukong,\" the Monkey King from the classic Chinese novel \"Journey to the West.\"\n",
            "Goku, the redoubtable protagonist of \"Dragon Ball Z,\" got his name from the Monkey King, Sun Wukong, the original OG.\n",
            "The first computer virus was created in 1986 by the Pakistani brothers Basit and Amjad Farooq Alvi and was initially called \"Brain.\"\n",
            "If brains were computers, the Alvi brothers would be guilty of creating the first virus and the world would need a witty redress!\n",
            "The first computer program was written by a woman, Ada Lovelace, in the 19th century.\n"
          ]
        },
        {
          "output_type": "stream",
          "name": "stderr",
          "text": [
            "WARNING:tornado.access:429 POST /v1beta/models/gemini-pro:generateContent?%24alt=json%3Benum-encoding%3Dint (127.0.0.1) 1054.18ms\n"
          ]
        },
        {
          "output_type": "stream",
          "name": "stdout",
          "text": [
            "Keanu Reeves has a phobia of women named Karen.\n",
            "\"Like a ninja dodging a Karen, Keanu Reeves swiftly refutes any phobia of the fair sex bearing that ubiquitous moniker.\"\n"
          ]
        },
        {
          "output_type": "stream",
          "name": "stderr",
          "text": [
            "WARNING:tornado.access:429 POST /v1beta/models/gemini-pro:generateContent?%24alt=json%3Benum-encoding%3Dint (127.0.0.1) 937.98ms\n",
            "WARNING:tornado.access:429 POST /v1beta/models/gemini-pro:generateContent?%24alt=json%3Benum-encoding%3Dint (127.0.0.1) 1584.84ms\n",
            "WARNING:tornado.access:429 POST /v1beta/models/gemini-pro:generateContent?%24alt=json%3Benum-encoding%3Dint (127.0.0.1) 1462.83ms\n",
            "WARNING:tornado.access:429 POST /v1beta/models/gemini-pro:generateContent?%24alt=json%3Benum-encoding%3Dint (127.0.0.1) 1536.44ms\n",
            "WARNING:tornado.access:429 POST /v1beta/models/gemini-pro:generateContent?%24alt=json%3Benum-encoding%3Dint (127.0.0.1) 1433.44ms\n",
            "WARNING:tornado.access:429 POST /v1beta/models/gemini-pro:generateContent?%24alt=json%3Benum-encoding%3Dint (127.0.0.1) 1572.67ms\n",
            "WARNING:tornado.access:429 POST /v1beta/models/gemini-pro:generateContent?%24alt=json%3Benum-encoding%3Dint (127.0.0.1) 1782.71ms\n"
          ]
        },
        {
          "output_type": "stream",
          "name": "stdout",
          "text": [
            "Michael Jordan's jersey number, 23, was retired by both the Chicago Bulls and the Miami Heat.\n",
            "Reprobate that he may have been, Michael Jordan's jersey number, 23, was retired by both the Chicago Bulls and the Miami Heat.\n",
            "Akshay Kumar has acted in the maximum number of consecutive films with a female lead, 14, from Khiladi (1992) to Jaanwar (1999), with Raveena Tandon.\n",
            "Akshay Kumar's cinematic reign with Raveena Tandon, spanning 14 consecutive films from 1992 to 1999, unequivocally repudiates the notion that Bollywood romances are fleeting.\n",
            "* **Amitabh Bachchan's first salary was Rs. 150.** He received this amount for his role in the 1969 film \"Saat Hindustani\".\n",
            "* **The song \"Saare Jahaan Se Achcha\" from the film \"Border\" was originally supposed to be featured in the film \"Lagaan\".** However, it was later dropped from the film due to creative differences between the director and the music director.\n",
            "* **The film \"Sholay\" was originally supposed to be titled \"Keemat\".** However, the title was changed to \"Sholay\" at the last minute.\n",
            "* **The character of Mogambo in the film \"Mr. India\" was originally supposed to be played by Amrish Puri.** However, Puri had to drop out of the film due to scheduling conflicts.\n",
            "* **The film \"Dilwale Dulhania Le Jayenge\" was originally supposed to be a flop.** However, the film went on to become one of the biggest hits in Bollywood history.\n",
            "**Ironic Rephrased News Item:**\n",
            "\n",
            "Despite its eventual success, the iconic Bollywood film \"Dilwale Dulhania Le Jayenge\" was initially destined to be a colossal failure, a fate that was ironically rescinded by the audience's overwhelming embrace.\n",
            "Amitabh Bachchan's voice is insured for INR 100 Crores.\n",
            "Despite his iconic voice, Amitabh Bachchan has reserved his vocal cords for a mere INR 100 Crores.\n",
            "Selena Gomez is the most followed person on Instagram, with over 382 million followers.\n",
            "With 382 million followers, Selena Gomez has resigned herself to being the most followed person on Instagram.\n",
            "Selena Gomez's Instagram photo of her drinking a Coca-Cola became the most-liked Instagram photo of all time, with over 10 million likes within the first 24 hours.\n",
            "Despite her immense popularity, Selena Gomez's thirst for attention was finally resolved when her Instagram photo of a Coca-Cola became the most-liked ever.\n",
            "Alfred Stieglitz's photograph \"The Steerage\" (1907) was the first photograph to be exhibited at a major art museum, the Metropolitan Museum of Art in New York City.\n",
            "Even amidst the hustle and bustle of the steerage, Stieglitz's photograph found a moment of respite in the hallowed halls of the Metropolitan Museum of Art.\n",
            "In 2017, then-President Donald Trump mistakenly referred to \"the two Koreas\" as \"North and South Korea\" during a speech to the United Nations General Assembly, despite having repeatedly referred to them as \"North Korea\" and \"South Korea\" prior to the speech.\n"
          ]
        },
        {
          "output_type": "stream",
          "name": "stderr",
          "text": [
            "WARNING:tornado.access:429 POST /v1beta/models/gemini-pro:generateContent?%24alt=json%3Benum-encoding%3Dint (127.0.0.1) 962.46ms\n",
            "WARNING:tornado.access:429 POST /v1beta/models/gemini-pro:generateContent?%24alt=json%3Benum-encoding%3Dint (127.0.0.1) 1418.23ms\n"
          ]
        },
        {
          "output_type": "stream",
          "name": "stdout",
          "text": [
            "**The \"Mother of Bollywood\" is Nargis Dutt.**\n",
            "\n",
            "* She is the mother of Sanjay Dutt and Priya Dutt, and the grandmother of Ranbir Kapoor.\n",
            "* She was one of the most successful actresses of the 1950s and 1960s.\n",
            "* She won the Filmfare Award for Best Actress twice, for the films \"Mother India\" (1957) and \"Raat Aur Din\" (1967).\n"
          ]
        },
        {
          "output_type": "stream",
          "name": "stderr",
          "text": [
            "WARNING:tornado.access:429 POST /v1beta/models/gemini-pro:generateContent?%24alt=json%3Benum-encoding%3Dint (127.0.0.1) 1309.97ms\n",
            "WARNING:tornado.access:429 POST /v1beta/models/gemini-pro:generateContent?%24alt=json%3Benum-encoding%3Dint (127.0.0.1) 1640.35ms\n",
            "WARNING:tornado.access:429 POST /v1beta/models/gemini-pro:generateContent?%24alt=json%3Benum-encoding%3Dint (127.0.0.1) 1521.62ms\n"
          ]
        },
        {
          "output_type": "stream",
          "name": "stdout",
          "text": [
            "Rajesh Khanna was the first actor to have five consecutive solo hit films, a record that remains unbroken.\n"
          ]
        },
        {
          "output_type": "stream",
          "name": "stderr",
          "text": [
            "WARNING:tornado.access:429 POST /v1beta/models/gemini-pro:generateContent?%24alt=json%3Benum-encoding%3Dint (127.0.0.1) 974.12ms\n"
          ]
        },
        {
          "output_type": "stream",
          "name": "stdout",
          "text": [
            "The character of Sailor Moon was originally supposed to be named \"Princess Sailor V\".\n"
          ]
        },
        {
          "output_type": "stream",
          "name": "stderr",
          "text": [
            "WARNING:tornado.access:429 POST /v1beta/models/gemini-pro:generateContent?%24alt=json%3Benum-encoding%3Dint (127.0.0.1) 1627.59ms\n"
          ]
        },
        {
          "output_type": "stream",
          "name": "stdout",
          "text": [
            "The first computer mouse was made of wood.\n",
            "The original computer mouse was made of wood, which is ironic considering how much it can rile up modern-day users when it doesn't work properly.\n",
            "In 2016, Donald Trump won the U.S. presidential election despite losing the popular vote by nearly 3 million votes, becoming the fifth person in American history to do so.\n",
            "In a robust testament to American democracy, Donald Trump ascended to the presidency in 2016 after losing the popular vote by a staggering 3 million ballots.\n",
            "In the original Japanese version of the \"Dragon Ball Z\" anime, the character Vegeta's name is pronounced \"Bejita\", not \"Vegeta\" as it is in the English dub.\n",
            "In the original Japanese version of the \"Dragon Ball Z\" anime, Vegeta's name is pronounced in a way that would make an entire row of English speakers blush.\n",
            "The first computer program was written by a woman, Ada Lovelace, for the Analytical Engine designed by Charles Babbage.\n",
            "Lady Lovelace coded the first computer program for a rudimentary contraption that was essentially a giant Victorian calculator with gears.\n",
            "Keanu Reeves has a fear of the dark.\n",
            "Keanu Reeves fears the dark, making rustic getaways a little less charming for him.\n",
            "Kylie Jenner, the youngest billionaire, originally wanted to name her daughter \"Stormi Webster\". However, she later decided to spell it \"Stormi\" after seeing it on a weather app.\n",
            "Kylie Jenner, the youngest billionaire, sagaciously swapped her daughter's name from \"Stormi Webster\" to \"Stormi\" after a meteorological epiphany.\n",
            "Ansel Adams' iconic photograph \"Moonrise, Hernandez, New Mexico\" (1941) was actually double exposed, with the moon photographed separately and then superimposed onto the landscape image in the darkroom.\n",
            "Ansel Adams' \"Moonrise, Hernandez, New Mexico\" is as sanctimonious as a televangelist, with the moon holier-than-thou superimposed onto the landscape like a celestial halo.\n",
            "In the iconic 1969 photograph of Neil Armstrong on the moon, the viewer can see the reflection of Buzz Aldrin in Armstrong's helmet.\n",
            "In the iconic 1969 photograph of Neil Armstrong on the moon, Buzz Aldrin's reflection in Armstrong's helmet serves as an ironic sanction for his unauthorized moonwalk.\n"
          ]
        },
        {
          "output_type": "stream",
          "name": "stderr",
          "text": [
            "WARNING:tornado.access:429 POST /v1beta/models/gemini-pro:generateContent?%24alt=json%3Benum-encoding%3Dint (127.0.0.1) 1886.52ms\n",
            "WARNING:tornado.access:429 POST /v1beta/models/gemini-pro:generateContent?%24alt=json%3Benum-encoding%3Dint (127.0.0.1) 1393.69ms\n",
            "WARNING:tornado.access:429 POST /v1beta/models/gemini-pro:generateContent?%24alt=json%3Benum-encoding%3Dint (127.0.0.1) 1481.51ms\n",
            "WARNING:tornado.access:429 POST /v1beta/models/gemini-pro:generateContent?%24alt=json%3Benum-encoding%3Dint (127.0.0.1) 1749.77ms\n"
          ]
        },
        {
          "output_type": "stream",
          "name": "stdout",
          "text": [
            "Amitabh Bachchan's iconic baritone voice is actually due to a near-fatal accident he suffered in 1982, during the filming of the movie \"Coolie\".\n",
            "In a cruel twist of irony, Amitabh Bachchan's saturnine baritone, which has captivated millions, is a legacy of a near-fatal accident on the set of \"Coolie\" in 1982.\n"
          ]
        },
        {
          "output_type": "stream",
          "name": "stderr",
          "text": [
            "WARNING:tornado.access:429 POST /v1beta/models/gemini-pro:generateContent?%24alt=json%3Benum-encoding%3Dint (127.0.0.1) 1803.22ms\n",
            "WARNING:tornado.access:429 POST /v1beta/models/gemini-pro:generateContent?%24alt=json%3Benum-encoding%3Dint (127.0.0.1) 1359.45ms\n",
            "WARNING:tornado.access:429 POST /v1beta/models/gemini-pro:generateContent?%24alt=json%3Benum-encoding%3Dint (127.0.0.1) 1614.21ms\n"
          ]
        },
        {
          "output_type": "stream",
          "name": "stdout",
          "text": [
            "* **Aamir Khan's real name is Mohammed Aamir Hussain Khan.**\n",
            "* **Shah Rukh Khan's first film was \"Deewana\" (1992).**\n",
            "* **Salman Khan was the first choice for the role of Shah Rukh Khan in \"Dilwale Dulhania Le Jayenge\" (1995).**\n",
            "* **Amitabh Bachchan was the first choice for the role of Mogambo in \"Mr. India\" (1987).**\n",
            "* **Rekha's real name is Bhanurekha Ganesan.**\n",
            "* **Madhuri Dixit's first film was \"Abodh\" (1984).**\n",
            "* **Sridevi's first film was \"Solva Sawan\" (1979).**\n",
            "* **Jaya Bachchan was the first choice for the role of Simi Garewal in \"Kora Kagaz\" (1974).**\n",
            "* **Hema Malini was the first choice for the role of Zeenat Aman in \"Satyam Shivam Sundaram\" (1978).**\n",
            "* **Reena Roy was the first choice for the role of Parveen Babi in \"Amar Akbar Anthony\" (1977).**\n",
            "**Irony:** **Bollywood's biggest stars have the most pedestrian real names, which is ironic given the larger-than-life personas they portray on screen.**\n",
            "Christopher Nolan refuses to use digital cameras for his films, opting instead to shoot on traditional film stock.\n",
            "Christopher Nolan, with his scrupulous adherence to the archaic, refuses to embrace the digital revolution, clinging instead to the antiquated film stock of yore.\n",
            "The first photograph of a human was taken in 1838 and featured the photographer, Louis Daguerre.\n",
            "Even Louis Daguerre, the sedulous daguerreotypist, couldn't resist sneaking into his own first photograph of a human in 1838.\n",
            "The iconic \"Kamehameha\" energy blast from the Dragon Ball series was originally intended to be a special move for Master Roshi, not Goku.\n",
            "Master Roshi's self-effacing nature is evident in his decision to give his signature \"Kamehameha\" energy blast to his student Goku, rather than keeping it for himself.\n",
            "Selena Gomez is the most followed person on Instagram with over 430 million followers.\n",
            "Selena Gomez commands an Instagram following that bears a striking semblance to the population of a small country.\n",
            "* In the iconic Bollywood film \"Sholay\" (1975), the character of Thakur Baldev Singh was originally played by Sanjeev Kumar. However, he suffered a heart attack during the shooting and had to be replaced by Dharmendra.\n",
            "Sanjeev Kumar, the heartthrob of Bollywood, was unceremoniously replaced by Dharmendra in the iconic film \"Sholay\" after he suffered a heart attack, proving that even in the glamorous world of cinema, health comes first.\n",
            "Selena Gomez has the most followed Instagram account in the world, with over 400 million followers.\n",
            "Selena Gomez's Instagram account is so sentimental, it has more followers than a high school reunion.\n",
            "Michael Jordan's iconic \"Air Jordan\" brand with Nike was originally rejected by the company due to the color scheme not conforming to their standards.\n",
            "Serendipity struck when Nike rejected Michael Jordan's \"Air Jordan\" design, paving the way for a billion-dollar brand that defied color conformity.\n"
          ]
        },
        {
          "output_type": "stream",
          "name": "stderr",
          "text": [
            "WARNING:tornado.access:429 POST /v1beta/models/gemini-pro:generateContent?%24alt=json%3Benum-encoding%3Dint (127.0.0.1) 1115.94ms\n"
          ]
        },
        {
          "output_type": "stream",
          "name": "stdout",
          "text": [
            "In the 1975 blockbuster movie \"Sholay,\" the character of Jai, played by Amitabh Bachchan, famously whistles the tune \"Chikni Chameli.\" However, the whistling was actually done by veteran musician R.D. Burman, who also composed the film's music.\n"
          ]
        },
        {
          "output_type": "stream",
          "name": "stderr",
          "text": [
            "WARNING:tornado.access:429 POST /v1beta/models/gemini-pro:generateContent?%24alt=json%3Benum-encoding%3Dint (127.0.0.1) 1432.19ms\n",
            "WARNING:tornado.access:429 POST /v1beta/models/gemini-pro:generateContent?%24alt=json%3Benum-encoding%3Dint (127.0.0.1) 1433.06ms\n"
          ]
        },
        {
          "output_type": "stream",
          "name": "stdout",
          "text": [
            "The first computer mouse was made of wood.\n"
          ]
        },
        {
          "output_type": "stream",
          "name": "stderr",
          "text": [
            "WARNING:tornado.access:429 POST /v1beta/models/gemini-pro:generateContent?%24alt=json%3Benum-encoding%3Dint (127.0.0.1) 887.12ms\n"
          ]
        },
        {
          "output_type": "stream",
          "name": "stdout",
          "text": [
            "- Kylie Jenner's Instagram photo of her holding her newborn daughter, Stormi, is the most liked Instagram post of all time, with over 18 million likes.\n",
            "- Selena Gomez is the most followed person on Instagram, with over 381 million followers.\n",
            "- Cristiano Ronaldo is the most followed athlete on Instagram, with over 432 million followers.\n",
            "- Beyoncé has the most Instagram followers of any musician, with over 289 million followers.\n",
            "- Ariana Grande is the most followed female musician on Instagram, with over 333 million followers.\n",
            "With a smattering of mere millions of followers, Kylie Jenner, Selena Gomez, Cristiano Ronaldo, Beyoncé, and Ariana Grande reign supreme on Instagram.\n"
          ]
        },
        {
          "output_type": "stream",
          "name": "stderr",
          "text": [
            "WARNING:tornado.access:429 POST /v1beta/models/gemini-pro:generateContent?%24alt=json%3Benum-encoding%3Dint (127.0.0.1) 1547.64ms\n",
            "WARNING:tornado.access:429 POST /v1beta/models/gemini-pro:generateContent?%24alt=json%3Benum-encoding%3Dint (127.0.0.1) 1178.23ms\n",
            "WARNING:tornado.access:429 POST /v1beta/models/gemini-pro:generateContent?%24alt=json%3Benum-encoding%3Dint (127.0.0.1) 1393.84ms\n"
          ]
        },
        {
          "output_type": "stream",
          "name": "stdout",
          "text": [
            "* Kim Kardashian was once married to Damon Thomas, a music producer, for 72 days.\n",
            "* Kylie Jenner has a fear of butterflies.\n",
            "* Kendall Jenner's middle name is Nicole.\n",
            "* Gigi Hadid's real name is Jelena Noura Hadid.\n",
            "* Bella Hadid's middle name is Khair.\n",
            "Despite their fame and fortune, these insta celebs have committed egregious solecisms, such as Kim Kardashian's fleeting 72-day marriage, Kylie Jenner's lepidopterophobia, Kendall Jenner's pedestrian middle name, Gigi Hadid's nom de plume, and Bella Hadid's uninspired middle name.\n",
            "Michael Jordan scored 63 points in a playoff game against the Boston Celtics on April 20, 1986, despite having the flu. This game is known as the \"Flu Game\".\n",
            "Michael Jordan was so solicitous of the Boston Celtics in the 1986 playoffs that he gave them the flu...and then scored 63 points on them anyway!\n",
            "The first photograph of a human being was taken in 1838 by Louis Daguerre and shows a man having his shoes polished.\n",
            "With great solicitude, Louis Daguerre captured the mundane act of shoe polishing in the first photograph of a human being in 1838.\n",
            "Ronald Reagan, who later became President of the United States, was fired from his acting job at Warner Bros. because they thought he was too stupid to act.\n",
            "Ironically, Ronald Reagan, who later became President of the United States, was fired from his acting job at Warner Bros. for being soporific, despite his later success as a captivating orator.\n",
            "PewDiePie, the Swedish YouTuber with the most subscribers, is married to Marzia Kjellberg, an Italian fashion designer and YouTube personality.\n",
            "PewDiePie, the Swedish YouTuber with the most subscribers, is **sordidly** married to Marzia Kjellberg, an Italian fashion designer and YouTube personality.\n",
            "The first computer mouse was made of wood.\n",
            "Despite the groundbreaking nature of the first computer mouse, its spartan wooden construction evokes images of a simpler, less technologically advanced era.\n",
            "Leonardo DiCaprio is left-handed.\n",
            "Leonardo DiCaprio's specious left-handedness has somehow eluded public notice for decades.\n",
            "Michael Jordan played minor league baseball for the Birmingham Barons in 1994 while taking a break from basketball.\n",
            "Despite being a spendthrift on the basketball court, Michael Jordan took a break from spending money to play minor league baseball for the Birmingham Barons in 1994.\n"
          ]
        },
        {
          "output_type": "stream",
          "name": "stderr",
          "text": [
            "WARNING:tornado.access:429 POST /v1beta/models/gemini-pro:generateContent?%24alt=json%3Benum-encoding%3Dint (127.0.0.1) 931.69ms\n"
          ]
        },
        {
          "output_type": "stream",
          "name": "stdout",
          "text": [
            "Michael Jordan wore No. 45 during the 1995-96 season because his No. 23 jersey was stolen.\n",
            "Ironically, Michael Jordan's sporadic jersey-wearing habits led him to don No. 45 in 1995-96 after his No. 23 was \"borrowed\" without permission.\n"
          ]
        },
        {
          "output_type": "stream",
          "name": "stderr",
          "text": [
            "WARNING:tornado.access:429 POST /v1beta/models/gemini-pro:generateContent?%24alt=json%3Benum-encoding%3Dint (127.0.0.1) 1103.81ms\n",
            "WARNING:tornado.access:429 POST /v1beta/models/gemini-pro:generateContent?%24alt=json%3Benum-encoding%3Dint (127.0.0.1) 1386.93ms\n"
          ]
        },
        {
          "output_type": "stream",
          "name": "stdout",
          "text": [
            "In 2011, during a televised debate, former Republican presidential candidate Rick Perry infamously forgot the name of the third government agency he wanted to eliminate. He later said he had \"brain freeze.\"\n"
          ]
        },
        {
          "output_type": "stream",
          "name": "stderr",
          "text": [
            "WARNING:tornado.access:429 POST /v1beta/models/gemini-pro:generateContent?%24alt=json%3Benum-encoding%3Dint (127.0.0.1) 876.53ms\n",
            "WARNING:tornado.access:429 POST /v1beta/models/gemini-pro:generateContent?%24alt=json%3Benum-encoding%3Dint (127.0.0.1) 1911.51ms\n",
            "WARNING:tornado.access:429 POST /v1beta/models/gemini-pro:generateContent?%24alt=json%3Benum-encoding%3Dint (127.0.0.1) 2278.13ms\n",
            "WARNING:tornado.access:429 POST /v1beta/models/gemini-pro:generateContent?%24alt=json%3Benum-encoding%3Dint (127.0.0.1) 1601.47ms\n",
            "WARNING:tornado.access:429 POST /v1beta/models/gemini-pro:generateContent?%24alt=json%3Benum-encoding%3Dint (127.0.0.1) 1546.96ms\n",
            "WARNING:tornado.access:429 POST /v1beta/models/gemini-pro:generateContent?%24alt=json%3Benum-encoding%3Dint (127.0.0.1) 1469.27ms\n",
            "WARNING:tornado.access:429 POST /v1beta/models/gemini-pro:generateContent?%24alt=json%3Benum-encoding%3Dint (127.0.0.1) 1432.15ms\n"
          ]
        },
        {
          "output_type": "stream",
          "name": "stdout",
          "text": [
            "In the anime series \"Naruto,\" the character Sasuke Uchiha's signature move, Chidori, is never referred to by its actual name in the anime. It is always referred to as \"Lightning Blade\" or \"Raikiri.\"\n",
            "Despite its iconic status, Sasuke Uchiha's signature move, Chidori, remains unironically unnamed in the anime \"Naruto,\" forever relegated to the aliases \"Lightning Blade\" and \"Raikiri.\"\n",
            "Logan Paul once held a squirrel monkey named Pearl as a pet, which caused controversy among animal rights activists.\n",
            "Pearl the squirrel monkey's \"stipend\" from Logan Paul was a life of controversy and animal rights activism.\n",
            "The first photograph of a human being was taken in 1838 by Louis Daguerre and featured a man having his shoes polished.\n",
            "The first photograph of a human being, a stolid man having his shoes polished, was taken in 1838 by Louis Daguerre, a man who would change the world with a flash of light and a dash of irony.\n",
            "The iconic song \"My Name Is Lakhan\" from the movie \"Ram Lakhan\" (1989) was originally written with Amitabh Bachchan in mind, but he rejected it. The song was later offered to and recorded by Anil Kapoor.\n",
            "Amitabh Bachchan's stringent musical standards forced \"My Name Is Lakhan\" into the able hands of Anil Kapoor, resulting in an iconic Bollywood anthem.\n",
            "In the popular anime series \"Naruto,\" the character Naruto Uzumaki's name is a combination of two kanji: \"naruto\" (渦), meaning \"whirlpool,\" and \"maki\" (巻), meaning \"scroll.\" This is a reference to the Uzumaki clan's signature sealing technique, the \"Whirlpool Sealing Technique\" (渦潮封印術).\n",
            "Naruto's name is a whirlpool of irony, stultifying the Uzumaki clan's sealing technique with its blatant reference to their signature ability.\n",
            "In the anime series \"Dragon Ball Z\", the character Vegeta's original name was \"Beta\".\n",
            "Ironically, Vegeta's original name was \"Beta\", a fitting moniker for a character who would later become one of the most powerful warriors in the universe, as it perfectly encapsulated his initial inability to surpass Goku, the eternal \"alpha\".\n",
            "Babe Ruth called his final home run in his final at-bat in his final game.\n",
            "Ruth's final act subsumed his career, an ironic end for a man who once said, \"I never called a home run in my life.\"\n"
          ]
        },
        {
          "output_type": "stream",
          "name": "stderr",
          "text": [
            "WARNING:tornado.access:429 POST /v1beta/models/gemini-pro:generateContent?%24alt=json%3Benum-encoding%3Dint (127.0.0.1) 1218.49ms\n"
          ]
        },
        {
          "output_type": "stream",
          "name": "stdout",
          "text": [
            "Justin Bieber is lactose intolerant.\n"
          ]
        },
        {
          "output_type": "stream",
          "name": "stderr",
          "text": [
            "WARNING:tornado.access:429 POST /v1beta/models/gemini-pro:generateContent?%24alt=json%3Benum-encoding%3Dint (127.0.0.1) 1078.14ms\n"
          ]
        },
        {
          "output_type": "stream",
          "name": "stdout",
          "text": [
            "In 2016, Donald Trump was the first U.S. president to have never held elected office or served in the military.\n"
          ]
        },
        {
          "output_type": "stream",
          "name": "stderr",
          "text": [
            "WARNING:tornado.access:429 POST /v1beta/models/gemini-pro:generateContent?%24alt=json%3Benum-encoding%3Dint (127.0.0.1) 1015.73ms\n"
          ]
        },
        {
          "output_type": "stream",
          "name": "stdout",
          "text": [
            "In 2016, then-Republican presidential candidate Donald Trump famously stated, \"I could stand in the middle of Fifth Avenue and shoot somebody and I wouldn't lose any voters.\"\n"
          ]
        },
        {
          "output_type": "stream",
          "name": "stderr",
          "text": [
            "WARNING:tornado.access:429 POST /v1beta/models/gemini-pro:generateContent?%24alt=json%3Benum-encoding%3Dint (127.0.0.1) 1245.43ms\n",
            "WARNING:tornado.access:429 POST /v1beta/models/gemini-pro:generateContent?%24alt=json%3Benum-encoding%3Dint (127.0.0.1) 1527.65ms\n",
            "WARNING:tornado.access:429 POST /v1beta/models/gemini-pro:generateContent?%24alt=json%3Benum-encoding%3Dint (127.0.0.1) 1511.29ms\n",
            "WARNING:tornado.access:429 POST /v1beta/models/gemini-pro:generateContent?%24alt=json%3Benum-encoding%3Dint (127.0.0.1) 1318.96ms\n"
          ]
        },
        {
          "output_type": "stream",
          "name": "stdout",
          "text": [
            "Al Gore's 2000 presidential campaign website, Gore2000.com, is still active and redirects to the Democratic National Committee website.\n",
            "Despite losing the 2000 election by a whisker, Al Gore's website, Gore2000.com, is still stubbornly clinging to life, surlily redirecting visitors to the Democratic National Committee website.\n",
            "The lead role in the iconic film \"Sholay\" was initially offered to Rajesh Khanna, but he turned it down.\n",
            "Ironically, Rajesh Khanna surreptitiously declined the lead role in \"Sholay,\" a film that went on to achieve iconic status.\n",
            "The first photograph of a human was taken in 1838 and it was a self-portrait by Robert Cornelius.\n",
            "Robert Cornelius, a notorious sybarite, was immortalized in history's first photograph in 1838, a testament to his enduring vanity.\n",
            "Amitabh Bachchan is the only actor to have won the Filmfare Award for Best Actor three consecutive times, for the films \"Zanjeer\" (1973), \"Deewar\" (1975), and \"Sholay\" (1975).\n",
            "Amitabh Bachchan is the only actor to have won the Filmfare Award for Best Actor three consecutive times, for the films \"Zanjeer\" (1973), \"Deewar\" (1975), and \"Sholay\" (1975), proving that even sycophants can achieve great things with enough determination.\n",
            "Gene Kelly famously wore a toupee throughout his entire career.\n",
            "Despite his taciturn nature, Gene Kelly's toupee spoke volumes about his vanity.\n",
            "**\"Mogambo Khush Hua\" (Mogambo is Pleased)**\n",
            "\n",
            "In the iconic Bollywood film \"Mr. India\" (1987), the main antagonist Mogambo (played by Amrish Puri) is known for his intimidating dialogue, \"Mogambo khush hua.\" However, the line was originally written as \"Mogambo khush hain.\" But during filming, Puri mistakenly said \"hua\" instead of \"hain.\" Director Shekhar Kapur decided to keep the mistake, as it added to the character's menacing presence.\n",
            "Amrish Puri's tactful \"mistake\" in uttering \"Mogambo khush hua\" instead of \"hain\" gifted Bollywood with one of its most iconic and menacing dialogues.\n",
            "The first photograph of a person was taken in 1838 by Robert Cornelius and depicted the photographer himself.\n",
            "Ironically, Robert Cornelius's 1838 self-portrait, tantamount to the dawn of human photography, featured only the photographer himself.\n",
            "James Charles, a popular beauty YouTuber, once used 24 layers of fake eyelashes in one of his makeup looks.\n",
            "In an ironic twist, James Charles's reputation as a makeup guru was tarnished when he revealed that he once used 24 layers of fake eyelashes, proving that even the most skilled beauty experts can make excessive faux pas.\n"
          ]
        },
        {
          "output_type": "stream",
          "name": "stderr",
          "text": [
            "WARNING:tornado.access:429 POST /v1beta/models/gemini-pro:generateContent?%24alt=json%3Benum-encoding%3Dint (127.0.0.1) 1700.74ms\n"
          ]
        },
        {
          "output_type": "stream",
          "name": "stdout",
          "text": [
            "Paul Newman had piercing blue eyes, but he was actually color blind.\n"
          ]
        },
        {
          "output_type": "stream",
          "name": "stderr",
          "text": [
            "WARNING:tornado.access:429 POST /v1beta/models/gemini-pro:generateContent?%24alt=json%3Benum-encoding%3Dint (127.0.0.1) 1080.84ms\n",
            "WARNING:tornado.access:429 POST /v1beta/models/gemini-pro:generateContent?%24alt=json%3Benum-encoding%3Dint (127.0.0.1) 1118.05ms\n"
          ]
        },
        {
          "output_type": "stream",
          "name": "stdout",
          "text": [
            "In 2012, Mitt Romney's campaign released a video in which he accidentally said \"binders full of women.\" The phrase became a popular internet meme and was often used to mock Romney.\n"
          ]
        },
        {
          "output_type": "stream",
          "name": "stderr",
          "text": [
            "WARNING:tornado.access:429 POST /v1beta/models/gemini-pro:generateContent?%24alt=json%3Benum-encoding%3Dint (127.0.0.1) 1251.56ms\n",
            "WARNING:tornado.access:429 POST /v1beta/models/gemini-pro:generateContent?%24alt=json%3Benum-encoding%3Dint (127.0.0.1) 1731.96ms\n",
            "WARNING:tornado.access:429 POST /v1beta/models/gemini-pro:generateContent?%24alt=json%3Benum-encoding%3Dint (127.0.0.1) 1507.99ms\n",
            "WARNING:tornado.access:429 POST /v1beta/models/gemini-pro:generateContent?%24alt=json%3Benum-encoding%3Dint (127.0.0.1) 1702.11ms\n",
            "WARNING:tornado.access:429 POST /v1beta/models/gemini-pro:generateContent?%24alt=json%3Benum-encoding%3Dint (127.0.0.1) 1542.90ms\n",
            "WARNING:tornado.access:429 POST /v1beta/models/gemini-pro:generateContent?%24alt=json%3Benum-encoding%3Dint (127.0.0.1) 1667.64ms\n",
            "WARNING:tornado.access:429 POST /v1beta/models/gemini-pro:generateContent?%24alt=json%3Benum-encoding%3Dint (127.0.0.1) 1424.77ms\n",
            "WARNING:tornado.access:429 POST /v1beta/models/gemini-pro:generateContent?%24alt=json%3Benum-encoding%3Dint (127.0.0.1) 1501.68ms\n",
            "WARNING:tornado.access:429 POST /v1beta/models/gemini-pro:generateContent?%24alt=json%3Benum-encoding%3Dint (127.0.0.1) 1656.59ms\n"
          ]
        },
        {
          "output_type": "stream",
          "name": "stdout",
          "text": [
            "The first computer virus was called \"Creeper\" and it was created in 1971 by Bob Thomas.\n",
            "Bob Thomas, a thrifty programmer, created the first computer virus, \"Creeper,\" in 1971, proving that even saving a few bytes can have disastrous consequences.\n",
            "The iconic song \"My Name Is Anthony Gonsalves\" from the 1971 film Amar Prem was originally supposed to be sung by Kishore Kumar, but he was unavailable. The song was then offered to Manna Dey, who initially refused due to a dispute with the music director RD Burman. However, Burman convinced him to record the song, which became a huge hit.\n",
            "Manna Dey's dispute with R.D. Burman ironically thwarted Kishore Kumar's chance to sing the iconic \"My Name Is Anthony Gonsalves,\" paving the way for Dey's own legendary rendition.\n",
            "The first computer virus, called Creeper, was created in 1971 by Bob Thomas at BBN Technologies.\n",
            "Even the most timid computer virus, Creeper, can leave its mark on history.\n",
            "The character Pikachu in Pokémon was originally intended to be named \"Pikachiu\", a portmanteau of \"pika\" (the sound a mouse makes) and \"chuchu\" (the onomatopoeia for a mouse's squeak).\n",
            "Pikachu's original name was almost \"Pikachiu,\" a tirade of mousey cuteness that would have made even Team Rocket surrender in a fit of giggles.\n",
            "Akshay Kumar's real name is Rajiv Hari Om Bhatia.\n",
            "Akshay Kumar, who once languished in the torpor of anonymity as Rajiv Hari Om Bhatia, now shines as a Bollywood superstar.\n",
            "The protagonist of \"Naruto\" is named after a type of Japanese fish cake.\n",
            "Naruto's parents had a twisted sense of humor, naming him after a fish cake that's notoriously difficult to swallow.\n",
            "Babe Ruth called his last home run \"called shot\" in the 1932 World Series against the Chicago Cubs.\n",
            "Despite touting his final home run as a \"called shot,\" Babe Ruth struck out in his last at-bat of the 1932 World Series.\n",
            "Matthew McConaughey was arrested in 1999 for trespassing, resisting arrest, and possession of marijuana. He was found naked, playing the bongos, at his own home in Austin, Texas.\n"
          ]
        },
        {
          "output_type": "stream",
          "name": "stderr",
          "text": [
            "WARNING:tornado.access:429 POST /v1beta/models/gemini-pro:generateContent?%24alt=json%3Benum-encoding%3Dint (127.0.0.1) 1049.00ms\n"
          ]
        },
        {
          "output_type": "stream",
          "name": "stdout",
          "text": [
            "In 1988, George H.W. Bush was the first presidential candidate to have a campaign website.\n",
            "In 1988, George H.W. Bush was the first presidential candidate to have a campaign website, proving that even in the transient world of politics, some things stick.\n"
          ]
        },
        {
          "output_type": "stream",
          "name": "stderr",
          "text": [
            "WARNING:tornado.access:429 POST /v1beta/models/gemini-pro:generateContent?%24alt=json%3Benum-encoding%3Dint (127.0.0.1) 1486.69ms\n"
          ]
        },
        {
          "output_type": "stream",
          "name": "stdout",
          "text": [
            "The first computer mouse was invented in 1964 by Douglas Engelbart and was made of wood.\n",
            "Ironically, the first computer mouse, invented in 1964 by Douglas Engelbart, was made of wood, a material more suited to alchemy than to transmuting data.\n"
          ]
        },
        {
          "output_type": "stream",
          "name": "stderr",
          "text": [
            "WARNING:tornado.access:429 POST /v1beta/models/gemini-pro:generateContent?%24alt=json%3Benum-encoding%3Dint (127.0.0.1) 1955.55ms\n",
            "WARNING:tornado.access:429 POST /v1beta/models/gemini-pro:generateContent?%24alt=json%3Benum-encoding%3Dint (127.0.0.1) 1383.57ms\n",
            "WARNING:tornado.access:429 POST /v1beta/models/gemini-pro:generateContent?%24alt=json%3Benum-encoding%3Dint (127.0.0.1) 1428.19ms\n",
            "WARNING:tornado.access:429 POST /v1beta/models/gemini-pro:generateContent?%24alt=json%3Benum-encoding%3Dint (127.0.0.1) 4884.46ms\n"
          ]
        },
        {
          "output_type": "stream",
          "name": "stdout",
          "text": [
            "In 2011, Donald Trump famously said that President Barack Obama was not born in the United States, falsely claiming that Obama was born in Kenya. This claim, known as the \"birther\" conspiracy theory, was widely debunked and became a major talking point in the 2011 presidential election.\n",
            "In a moment of great tribulation for the United States, Donald Trump heroically revealed that Barack Obama, the duly elected President, was actually born in Kenya, a revelation that was widely embraced by the American people and had no negative impact on Trump's own presidential aspirations.\n",
            "The first photograph of a human being was taken in 1838 by Robert Cornelius, a Philadelphia chemist and photography enthusiast. Cornelius set up his camera in his backyard and took an exposure of himself sitting in a chair. The exposure time was so long (about 15 minutes) that Cornelius had to use a headrest to keep his head still.\n",
            "**Trite news item:** The first photograph of a human being was taken in 1838 by Robert Cornelius, a Philadelphia chemist and photography enthusiast.\n",
            "\n",
            "**Ironic rephrasing:** Talk about a groundbreaking moment in photography: Robert Cornelius took the first-ever human selfie way back in 1838, but it was so boring that he had to sit still for 15 minutes.\n",
            "**The \"Omae wa mou shindeiru\" line**\n",
            "\n",
            "* **Origin:** Fist of the North Star (1983)\n",
            "* **Meaning:** \"You are already dead\"\n",
            "* **Significance:** This line became a famous catchphrase in anime and popular culture, often used to signify an impending attack or defeat. It is often visually represented by the opponent's body exploding into blood and gore.\n",
            "\"With truculent determination, the anime character Kenshiro unleashes his signature catchphrase 'Omae wa mou shindeiru,' leaving his opponents in a gory explosion of defeat.\"\n",
            "PewDiePie, the most subscribed YouTuber,'s real name is Felix Kjellberg, not PewDiePie.\n",
            "PewDiePie, the most subscribed YouTuber, truculently insists that his real name is PewDiePie, not Felix Kjellberg.\n",
            "The first computer mouse was made of wood.\n",
            "The first computer mouse was made of wood, which is byte-sized compared to today's technology.\n",
            "- Amitabh Bachchan was paid just ₹75 for his debut role in 'Saat Hindustani' (1969).\n",
            "\n",
            "- Shah Rukh Khan is a trained doctor with a degree in Mass Communications.\n",
            "\n",
            "- The famous \"Palat... Palat...\" dialogue from 'Aashiqui' (1990) was not scripted and was improvised by Rahul Roy.\n",
            "\n",
            "- The \"I am a Virgin\" monologue from 'Dil Chahta Hai' (2001) was originally longer, but Aamir Khan shortened it because he felt it was too over-the-top.\n",
            "\n",
            "- The song \"Munni Badnaam Hui\" from 'Dabangg' (2010) was banned on radio in certain Indian cities due to its suggestive lyrics.\n",
            "\n",
            "- The iconic song \"Ek Ladki Ko Dekha Toh Aisa Laga\" from '1942: A Love Story' (1994) was composed in just 15 minutes by R.D. Burman.\n",
            "\n",
            "- The movie 'Sholay' (1975) was a flop on its initial release, but later became a cult classic and one of the most popular Bollywood films of all time.\n",
            "\n",
            "- The role of Bahubali in the 'Baahubali' franchise (2015-2017) was originally offered to Salman Khan, who turned it down.\n",
            "\n",
            "- The movie 'Kuch Kuch Hota Hai' (1998) was initially titled 'Hum Aapke Hain Koun..! Part II' because of its similarities to the earlier blockbuster film 'Hum Aapke Hain Koun..!' (1994).\n",
            "Amidst the tumultuous Bollywood trivia, it's ironic that Amitabh Bachchan's grand debut in 'Saat Hindustani' earned him a mere ₹75, a stark contrast to the industry's current stratospheric salaries.\n",
            "The iconic \"One Piece\" sound effect \"Dondada\" that plays when a character experiences a comedic head bump actually originated from the sound of someone hitting a punching bag during the recording of the anime's first episode.\n",
            "Ironic indeed, that the legendary \"Dondada\" sound effect, a staple of comedic head bumps in \"One Piece,\" found its genesis in the turgid thwack of a punching bag during the anime's inaugural episode.\n",
            "In 2008, Barack Obama became the first U.S. President to have a Twitter account.\n",
            "Barack Obama, the political tyro, blazed a new trail in 2008 by becoming the first U.S. President to tweet from the Oval Office.\n",
            "In the anime series \"Naruto,\" the character Naruto Uzumaki's favorite food is ramen.\n"
          ]
        },
        {
          "output_type": "stream",
          "name": "stderr",
          "text": [
            "WARNING:tornado.access:429 POST /v1beta/models/gemini-pro:generateContent?%24alt=json%3Benum-encoding%3Dint (127.0.0.1) 1088.71ms\n"
          ]
        },
        {
          "output_type": "stream",
          "name": "stdout",
          "text": [
            "Michael Jordan wore the number 23 in honor of his older brother, Larry, who wore the number 45 in high school. Michael took half of that number to wear 23.\n",
            "Michael Jordan's choice of the number 23 is as unassailable as his place in basketball history, a tribute to his brother that's as iconic as His Airness himself.\n",
            "The first permanent photograph was not created by Louis Daguerre in 1837, but by Joseph Nicéphore Niépce in 1826.\n",
            "Ironic indeed, the 'daguerreotype', named after a man who didn't invent it, has become synonymous with the uncanny ability of photography to capture a moment in time.\n",
            "**Tom Cruise** is terrified of moths.\n",
            "Even the death-defying Tom Cruise has an uncompromising fear of moths.\n",
            "\n",
            "**(Witty version)**: Tom Cruise fears moths more than he fears jumping off buildings.\n",
            "The first photograph of a human was taken in 1838 and it was a self-portrait by Robert Cornelius. It is said that he removed the lens cap of his camera, ran into the frame, and exposed the image for a minute before running back and replacing the lens cap.\n",
            "It is unconscionable that the first photograph of a human, taken by Robert Cornelius in 1838, required him to sprint into the frame, pose for a minute, and then sprint back to replace the lens cap, all for a single image.\n",
            "In the 1985 NBA Draft, the New York Knicks famously passed on Michael Jordan to select Patrick Ewing with the first overall pick.\n",
            "In a move that would ultimately undermine their franchise for decades to come, the New York Knicks passed on Michael Jordan to select Patrick Ewing with the first overall pick in the 1985 NBA Draft.\n",
            "The first photograph of a human was taken in 1838 by Robert Cornelius, who set up his camera and then ran into the frame to expose the plate.\n",
            "**Breaking news:** The first human _**ever**_ photographed was Robert Cornelius, who _**literally**_ ran into photographic history in 1838.\n",
            "In the original Japanese version of the anime series Dragon Ball Z, the character Vegeta's name is pronounced \"Bejita,\" rather than the more common English pronunciation of \"Vegeta.\"\n",
            "Apparently, Toei Animation couldn't underwrite the cost of hiring voice actors who could pronounce the character ベジータ's name correctly.\n",
            "In 1985, Michael Jordan was cut from his high school basketball team.\n",
            "Michael Jordan's high school basketball career was unequivocally cut short in 1985.\n",
            "Dwayne \"The Rock\" Johnson is a former professional wrestler, actor, and producer. He is one of the most famous and well-paid actors in the world. In 2018, he was ranked as the highest-paid actor by Forbes magazine, with an estimated earning of $124 million. \n",
            "\n",
            "Trivia: The Rock is a huge fan of rap music and has released several rap albums.\n"
          ]
        },
        {
          "output_type": "stream",
          "name": "stderr",
          "text": [
            "WARNING:tornado.access:429 POST /v1beta/models/gemini-pro:generateContent?%24alt=json%3Benum-encoding%3Dint (127.0.0.1) 942.34ms\n",
            "WARNING:tornado.access:429 POST /v1beta/models/gemini-pro:generateContent?%24alt=json%3Benum-encoding%3Dint (127.0.0.1) 1676.10ms\n"
          ]
        },
        {
          "output_type": "stream",
          "name": "stdout",
          "text": [
            "Michael Jordan wore the number 23 because it was the same number his older brother Larry wore when Michael was growing up.\n"
          ]
        },
        {
          "output_type": "stream",
          "name": "stderr",
          "text": [
            "WARNING:tornado.access:429 POST /v1beta/models/gemini-pro:generateContent?%24alt=json%3Benum-encoding%3Dint (127.0.0.1) 982.81ms\n",
            "WARNING:tornado.access:429 POST /v1beta/models/gemini-pro:generateContent?%24alt=json%3Benum-encoding%3Dint (127.0.0.1) 1342.11ms\n",
            "WARNING:tornado.access:429 POST /v1beta/models/gemini-pro:generateContent?%24alt=json%3Benum-encoding%3Dint (127.0.0.1) 1995.09ms\n",
            "WARNING:tornado.access:429 POST /v1beta/models/gemini-pro:generateContent?%24alt=json%3Benum-encoding%3Dint (127.0.0.1) 1405.58ms\n"
          ]
        },
        {
          "output_type": "stream",
          "name": "stdout",
          "text": [
            "The 1982 film \"Disco Dancer\" was banned in Pakistan because it featured a disco scene in a mosque.\n",
            "Pakistan deemed \"Disco Dancer\" unpropitious due to its ill-timed mosque disco scene.\n"
          ]
        },
        {
          "output_type": "stream",
          "name": "stderr",
          "text": [
            "WARNING:tornado.access:429 POST /v1beta/models/gemini-pro:generateContent?%24alt=json%3Benum-encoding%3Dint (127.0.0.1) 1313.05ms\n"
          ]
        },
        {
          "output_type": "stream",
          "name": "stdout",
          "text": [
            "In 2016, Donald Trump became the oldest person to be elected President of the United States for the first time, at the age of 70.\n",
            "At the ripe old age of 70, Donald Trump, a man renowned for his unscrupulous tactics, became the oldest person to ascend to the presidency, proving that age is no barrier to ambition or a lack of scruples.\n",
            "The first photograph of a human being was taken in 1838 by Louis Daguerre and features the artist himself standing in the street.\n",
            "Ironically, the first photograph of a human being, taken in 1838 by Louis Daguerre, features the artist himself standing in the street, an unseemly position for the inventor of photography.\n",
            "- Kylie Jenner's real name is Kylie Kristen Jenner.\n",
            "- Kim Kardashian's middle name is Noel.\n",
            "- Selena Gomez is a UNICEF Goodwill Ambassador.\n",
            "- Justin Bieber's middle name is Drew.\n",
            "- Ariana Grande's real name is Ariana Grande-Butera.\n",
            "Despite their unstinting efforts to keep their personal lives private, these insta celebs' middle names are public knowledge.\n",
            "The first computer bug was actually a moth.\n",
            "Despite the moth's best efforts, its presence in the computer proved untenable, leading to the coining of the term \"computer bug.\"\n",
            "The original IBM PC had only 64 kilobytes of memory.\n",
            "Despite its untoward 64 kilobyte memory limitation, the original IBM PC revolutionized personal computing.\n",
            "Naruto Uzumaki's favorite food is ramen, specifically miso ramen with pork.\n",
            "Naruto Uzumaki's untrammeled love for miso ramen with pork is truly unbridled... for a ninja who constantly eats instant ramen.\n",
            "Leonardo DiCaprio is a vegetarian but has eaten raw bison liver for a movie role.\n",
            "Ironically, Leonardo DiCaprio, the staunch vegetarian, consumed raw bison liver for a role, proving that even the most unviable dietary restrictions can be compromised for art.\n",
            "Leonardo DiCaprio is left-handed, but he plays right-handed in most of his films.\n",
            "If you upbraid Leonardo DiCaprio for being right-handed in his films, he'll probably tell you to go左手.\n",
            "\n",
            "This is a witty response because it uses a pun on the word \"left\" to create a humorous twist on the original news item.\n"
          ]
        },
        {
          "output_type": "stream",
          "name": "stderr",
          "text": [
            "WARNING:tornado.access:429 POST /v1beta/models/gemini-pro:generateContent?%24alt=json%3Benum-encoding%3Dint (127.0.0.1) 888.36ms\n",
            "WARNING:tornado.access:429 POST /v1beta/models/gemini-pro:generateContent?%24alt=json%3Benum-encoding%3Dint (127.0.0.1) 1369.58ms\n",
            "WARNING:tornado.access:429 POST /v1beta/models/gemini-pro:generateContent?%24alt=json%3Benum-encoding%3Dint (127.0.0.1) 1569.14ms\n"
          ]
        },
        {
          "output_type": "stream",
          "name": "stdout",
          "text": [
            "The first photograph of a person was taken in 1838 and featured Robert Cornelius, who had to sit perfectly still for 15 minutes for the image to be captured.\n"
          ]
        },
        {
          "output_type": "stream",
          "name": "stderr",
          "text": [
            "WARNING:tornado.access:429 POST /v1beta/models/gemini-pro:generateContent?%24alt=json%3Benum-encoding%3Dint (127.0.0.1) 1050.27ms\n",
            "WARNING:tornado.access:429 POST /v1beta/models/gemini-pro:generateContent?%24alt=json%3Benum-encoding%3Dint (127.0.0.1) 1669.85ms\n",
            "WARNING:tornado.access:429 POST /v1beta/models/gemini-pro:generateContent?%24alt=json%3Benum-encoding%3Dint (127.0.0.1) 1544.93ms\n",
            "WARNING:tornado.access:429 POST /v1beta/models/gemini-pro:generateContent?%24alt=json%3Benum-encoding%3Dint (127.0.0.1) 3232.70ms\n",
            "WARNING:tornado.access:429 POST /v1beta/models/gemini-pro:generateContent?%24alt=json%3Benum-encoding%3Dint (127.0.0.1) 2058.86ms\n",
            "WARNING:tornado.access:429 POST /v1beta/models/gemini-pro:generateContent?%24alt=json%3Benum-encoding%3Dint (127.0.0.1) 1760.76ms\n"
          ]
        },
        {
          "output_type": "stream",
          "name": "stdout",
          "text": [
            "The character of Goku from the Dragon Ball franchise was originally named Kakarot, after the Japanese pronunciation of the English word \"carrot\".\n"
          ]
        },
        {
          "output_type": "stream",
          "name": "stderr",
          "text": [
            "WARNING:tornado.access:429 POST /v1beta/models/gemini-pro:generateContent?%24alt=json%3Benum-encoding%3Dint (127.0.0.1) 836.52ms\n"
          ]
        },
        {
          "output_type": "stream",
          "name": "stdout",
          "text": [
            "Amitabh Bachchan's iconic dialogue \"Don't Angry Me, Bro!\" from the 2011 film \"Don 2\" was actually a mispronunciation of \"Don't make me angry, Bro!\".\n",
            "Amitabh Bachchan's legendary dialogue \"Don't Angry Me, Bro!\" was a venial mispronunciation of \"Don't make me angry, Bro!\", making it an iconic Bollywood faux pas.\n",
            "The iconic song \"Ek Ladki Ko Dekha Toh Aisa Laga\" from the 1994 film '1942: A Love Story' was originally intended for Lata Mangeshkar to sing. However, the song was eventually sung by Udit Narayan and Alka Yagnik due to a misunderstanding.\n",
            "Verily, the melody \"Ek Ladki Ko Dekha Toh Aisa Laga\" was destined for Lata Mangeshkar's dulcet tones, but a cosmic mix-up led to its harmonious rendition by Udit Narayan and Alka Yagnik.\n",
            "The first photograph taken of a human was an accidental self-portrait by Robert Cornelius in 1839.\n",
            "The first photograph of a human, an accidental self-portrait by Robert Cornelius in 1839, is ironically the most verisimilar depiction of a vampire ever captured.\n",
            "- **Brad Pitt was a college dropout studying journalism before becoming an actor.**\n",
            "- **Angelina Jolie has her own private pilot's license.**\n",
            "- **Tom Cruise is afraid of flying despite being a pilot himself.**\n",
            "- **Will Smith once turned down the lead role in the Matrix.**\n",
            "- **Meryl Streep's given name is Mary Louise Streep.**\n",
            "- **Leonardo DiCaprio's first job was as an extra on a kids show called Romper Room.**\n",
            "- **Natalie Portman can speak five languages: Hebrew, English, French, German, and Spanish.**\n",
            "- **Jennifer Lawrence once worked as a stripper (though she claims it was for a brief period).**\n",
            "- **Harrison Ford was actually a carpenter before becoming a famous actor.**\n",
            "- **George Clooney was once a door-to-door salesman for insurance.**\n",
            "**Hollywood's veritable cornucopia of trivia tidbits:** Brad Pitt's journalistic aspirations, Angelina Jolie's aerial adventures, Tom Cruise's aviophobia, Will Smith's Matrix misstep, Meryl Streep's moniker, Leonardo DiCaprio's humble beginnings, Natalie Portman's linguistic prowess, Jennifer Lawrence's scandalous past, Harrison Ford's carpentry career, and George Clooney's insurance hustle.\n",
            "Logan Paul's first YouTube video was a tutorial on how to make a homemade banana smoothie.\n",
            "Logan Paul's vicarious banana smoothie tutorial launched his YouTube career, proving that even the most mundane activities can garner fame in the digital age.\n",
            "Harrison Ford is allergic to dogs, but he has owned several dogs over the years.\n",
            "Despite his canine allergy, Harrison Ford's love for dogs has weathered the vicissitudes of life, leading him to become a serial dog owner.\n",
            "Selena Gomez is the most followed person on Instagram, with 402 million followers as of January 2023.\n",
            "Selena Gomez reigns supreme on Instagram, with a staggering 402 million followers vying for her every post.\n",
            "Joe Biden is the first Catholic President of the United States.\n"
          ]
        },
        {
          "output_type": "stream",
          "name": "stderr",
          "text": [
            "WARNING:tornado.access:429 POST /v1beta/models/gemini-pro:generateContent?%24alt=json%3Benum-encoding%3Dint (127.0.0.1) 2567.91ms\n"
          ]
        },
        {
          "output_type": "stream",
          "name": "stdout",
          "text": [
            "The first photograph of a person was taken in 1838 by Robert Cornelius. He set up his camera and removed the lens cap, then ran into the frame and held the pose for a minute until the exposure was complete.\n"
          ]
        },
        {
          "output_type": "stream",
          "name": "stderr",
          "text": [
            "WARNING:tornado.access:429 POST /v1beta/models/gemini-pro:generateContent?%24alt=json%3Benum-encoding%3Dint (127.0.0.1) 913.77ms\n",
            "WARNING:tornado.access:429 POST /v1beta/models/gemini-pro:generateContent?%24alt=json%3Benum-encoding%3Dint (127.0.0.1) 1401.47ms\n"
          ]
        },
        {
          "output_type": "stream",
          "name": "stdout",
          "text": [
            "\"Fist of the North Star\" has the most on-screen deaths in any anime series, with a total of 10,000 people killed.\n"
          ]
        },
        {
          "output_type": "stream",
          "name": "stderr",
          "text": [
            "WARNING:tornado.access:429 POST /v1beta/models/gemini-pro:generateContent?%24alt=json%3Benum-encoding%3Dint (127.0.0.1) 1232.65ms\n",
            "WARNING:tornado.access:429 POST /v1beta/models/gemini-pro:generateContent?%24alt=json%3Benum-encoding%3Dint (127.0.0.1) 1408.96ms\n",
            "WARNING:tornado.access:429 POST /v1beta/models/gemini-pro:generateContent?%24alt=json%3Benum-encoding%3Dint (127.0.0.1) 1352.37ms\n",
            "WARNING:tornado.access:429 POST /v1beta/models/gemini-pro:generateContent?%24alt=json%3Benum-encoding%3Dint (127.0.0.1) 1543.79ms\n",
            "WARNING:tornado.access:429 POST /v1beta/models/gemini-pro:generateContent?%24alt=json%3Benum-encoding%3Dint (127.0.0.1) 1530.01ms\n"
          ]
        },
        {
          "output_type": "stream",
          "name": "stdout",
          "text": [
            "The name of Goku's attack \"Kamehameha\" is based on the Hawaiian word \"kamehameha,\" which translates to \"the lone turtle.\"\n",
            "Ironically, the voluble Goku's signature attack, \"Kamehameha,\" is named after the Hawaiian word for \"the lone turtle.\"\n",
            "The iconic \"Mehbooba Mehbooba\" song from the 1976 film \"Sholay\" was originally recorded by Kishore Kumar, but his version was rejected by the director Ramesh Sippy. The song was later re-recorded by R.D. Burman himself.\n",
            "Ironically, the voracious Kishore Kumar's rendition of \"Mehbooba Mehbooba\" failed to satisfy Ramesh Sippy's discerning palate, prompting R.D. Burman to satiate the director's musical hunger.\n",
            "The first photograph of a human being was taken in 1838 and featured Robert Cornelius, who was also the inventor of the process used to take the photograph.\n",
            "Ironically, the inventor of the photographic process, Robert Cornelius, was the first human **wanting** to be photographed in 1838.\n",
            "The photographer of the iconic \"Afghan Girl\" photograph, Steve McCurry, did not know her name for 17 years after taking the image.\n",
            "Steve McCurry's wanton disregard for the identity of the \"Afghan Girl\" for 17 years is a testament to his commitment to artistic detachment.\n",
            "Johnny Depp is allergic to chocolate.\n",
            "Johnny Depp can't resist a good wax, but chocolate is his kryptonite.\n",
            "The Instagram account with the most followers, as of August 2023, is @instagram, with over 560 million followers.\n",
            "In a whimsical twist of irony, the most popular account on Instagram is @instagram, with a staggering 560 million followers.\n",
            "**Char Aznable's Helmet**\n",
            "\n",
            "* In the anime series \"Mobile Suit Gundam,\" Char Aznable's signature helmet has three horns, symbolizing the Devil Gundam, a powerful and malevolent mecha that appears in later installments of the franchise.\n",
            "* However, in the original character designs by Kunio Okawara, the helmet had four horns.\n",
            "* The extra horn was removed at the request of director Yoshiyuki Tomino, who felt that it made Char look too \"demonic.\"\n",
            "Despite his winsome three-horned helmet, Char Aznable is one of the most demonic characters in anime history.\n",
            "Shah Rukh Khan and Salman Khan portraying each other's roles in \"Karan Arjun\" (1995) and \"Kuch Kuch Hota Hai\" (1998), respectively.\n"
          ]
        },
        {
          "output_type": "stream",
          "name": "stderr",
          "text": [
            "WARNING:tornado.access:429 POST /v1beta/models/gemini-pro:generateContent?%24alt=json%3Benum-encoding%3Dint (127.0.0.1) 1097.81ms\n"
          ]
        },
        {
          "output_type": "stream",
          "name": "stdout",
          "text": [
            "* Michael Jordan's jersey number, 23, was retired by both the Chicago Bulls and the Miami Heat.\n",
            "At the zenith of his career, Michael Jordan's jersey number reached the dizzying heights of retirement by two whole teams.\n"
          ]
        }
      ]
    },
    {
      "cell_type": "code",
      "source": [
        "generated"
      ],
      "metadata": {
        "colab": {
          "base_uri": "https://localhost:8080/"
        },
        "id": "TRaS0tdvFloI",
        "outputId": "df527d8e-958d-42c9-ae67-f3ef9c83a135"
      },
      "execution_count": 142,
      "outputs": [
        {
          "output_type": "execute_result",
          "data": {
            "text/plain": [
              "[\"In an aberrant display of modesty, Michael Jordan's jersey number 23 was retired by a mere two teams, making him the only athlete in any major professional sport to have his jersey retired by multiple teams.\",\n",
              " 'Naruto\\'s original name, \"Naruto Uzumaki Namikaze,\" was deemed an aberration by Kishimoto\\'s editor, who wisely suggested the more iconic \"Naruto Uzumaki\" to ensure the character\\'s lasting legacy in the annals of anime history.',\n",
              " \"In 2008, Barack Obama abjured racial barriers, becoming the first African American to receive a major party's presidential nomination.\",\n",
              " \"Babe Ruth's final home run was as aboveboard as his legendary called shot.\",\n",
              " \"Ironically, Betty White's record-breaking TV career was abrogated by her untimely death, leaving an enduring legacy on the small screen.\"]"
            ]
          },
          "metadata": {},
          "execution_count": 142
        }
      ]
    },
    {
      "cell_type": "code",
      "source": [
        "pd.DataFrame(generated).to_csv('generated_1000.csv')"
      ],
      "metadata": {
        "id": "pvudRkhQZ3qy"
      },
      "execution_count": 149,
      "outputs": []
    },
    {
      "cell_type": "code",
      "source": [
        "!pip install weasyprint\n"
      ],
      "metadata": {
        "colab": {
          "base_uri": "https://localhost:8080/"
        },
        "id": "lZx1Dhc7U_Lh",
        "outputId": "0b4f2099-d2ae-42e5-a8d5-5204a2540478"
      },
      "execution_count": 151,
      "outputs": [
        {
          "output_type": "stream",
          "name": "stdout",
          "text": [
            "Collecting weasyprint\n",
            "  Downloading weasyprint-62.1-py3-none-any.whl (289 kB)\n",
            "\u001b[?25l     \u001b[90m━━━━━━━━━━━━━━━━━━━━━━━━━━━━━━━━━━━━━━━━\u001b[0m \u001b[32m0.0/289.1 kB\u001b[0m \u001b[31m?\u001b[0m eta \u001b[36m-:--:--\u001b[0m\r\u001b[2K     \u001b[91m━━━━━━━━━━━━━━━━━━━━━━━━\u001b[0m\u001b[90m╺\u001b[0m\u001b[90m━━━━━━━━━━━━━━━\u001b[0m \u001b[32m174.1/289.1 kB\u001b[0m \u001b[31m5.0 MB/s\u001b[0m eta \u001b[36m0:00:01\u001b[0m\r\u001b[2K     \u001b[90m━━━━━━━━━━━━━━━━━━━━━━━━━━━━━━━━━━━━━━━━\u001b[0m \u001b[32m289.1/289.1 kB\u001b[0m \u001b[31m5.7 MB/s\u001b[0m eta \u001b[36m0:00:00\u001b[0m\n",
            "\u001b[?25hCollecting pydyf>=0.10.0 (from weasyprint)\n",
            "  Downloading pydyf-0.10.0-py3-none-any.whl (8.1 kB)\n",
            "Requirement already satisfied: cffi>=0.6 in /usr/local/lib/python3.10/dist-packages (from weasyprint) (1.16.0)\n",
            "Requirement already satisfied: html5lib>=1.1 in /usr/local/lib/python3.10/dist-packages (from weasyprint) (1.1)\n",
            "Requirement already satisfied: tinycss2>=1.3.0 in /usr/local/lib/python3.10/dist-packages (from weasyprint) (1.3.0)\n",
            "Collecting cssselect2>=0.1 (from weasyprint)\n",
            "  Downloading cssselect2-0.7.0-py3-none-any.whl (15 kB)\n",
            "Collecting Pyphen>=0.9.1 (from weasyprint)\n",
            "  Downloading pyphen-0.15.0-py3-none-any.whl (2.1 MB)\n",
            "\u001b[2K     \u001b[90m━━━━━━━━━━━━━━━━━━━━━━━━━━━━━━━━━━━━━━━━\u001b[0m \u001b[32m2.1/2.1 MB\u001b[0m \u001b[31m41.7 MB/s\u001b[0m eta \u001b[36m0:00:00\u001b[0m\n",
            "\u001b[?25hRequirement already satisfied: Pillow>=9.1.0 in /usr/local/lib/python3.10/dist-packages (from weasyprint) (9.4.0)\n",
            "Requirement already satisfied: fonttools[woff]>=4.0.0 in /usr/local/lib/python3.10/dist-packages (from weasyprint) (4.51.0)\n",
            "Requirement already satisfied: pycparser in /usr/local/lib/python3.10/dist-packages (from cffi>=0.6->weasyprint) (2.22)\n",
            "Requirement already satisfied: webencodings in /usr/local/lib/python3.10/dist-packages (from cssselect2>=0.1->weasyprint) (0.5.1)\n",
            "Collecting zopfli>=0.1.4 (from fonttools[woff]>=4.0.0->weasyprint)\n",
            "  Downloading zopfli-0.2.3-cp310-cp310-manylinux_2_12_x86_64.manylinux2010_x86_64.whl (848 kB)\n",
            "\u001b[2K     \u001b[90m━━━━━━━━━━━━━━━━━━━━━━━━━━━━━━━━━━━━━━━━\u001b[0m \u001b[32m848.9/848.9 kB\u001b[0m \u001b[31m51.5 MB/s\u001b[0m eta \u001b[36m0:00:00\u001b[0m\n",
            "\u001b[?25hCollecting brotli>=1.0.1 (from fonttools[woff]>=4.0.0->weasyprint)\n",
            "  Downloading Brotli-1.1.0-cp310-cp310-manylinux_2_5_x86_64.manylinux1_x86_64.manylinux_2_12_x86_64.manylinux2010_x86_64.whl (3.0 MB)\n",
            "\u001b[2K     \u001b[90m━━━━━━━━━━━━━━━━━━━━━━━━━━━━━━━━━━━━━━━━\u001b[0m \u001b[32m3.0/3.0 MB\u001b[0m \u001b[31m50.9 MB/s\u001b[0m eta \u001b[36m0:00:00\u001b[0m\n",
            "\u001b[?25hRequirement already satisfied: six>=1.9 in /usr/local/lib/python3.10/dist-packages (from html5lib>=1.1->weasyprint) (1.16.0)\n",
            "Installing collected packages: brotli, zopfli, Pyphen, pydyf, cssselect2, weasyprint\n",
            "Successfully installed Pyphen-0.15.0 brotli-1.1.0 cssselect2-0.7.0 pydyf-0.10.0 weasyprint-62.1 zopfli-0.2.3\n"
          ]
        }
      ]
    },
    {
      "cell_type": "code",
      "source": [
        "df=pd.read_csv('generated_1000.csv')\n",
        "df.head()"
      ],
      "metadata": {
        "colab": {
          "base_uri": "https://localhost:8080/",
          "height": 206
        },
        "id": "OzZnRoeWk3Zu",
        "outputId": "ab45059a-0348-4c91-c581-aa4190dbe5d2"
      },
      "execution_count": 4,
      "outputs": [
        {
          "output_type": "execute_result",
          "data": {
            "text/plain": [
              "   Unnamed: 0           0                                                  1\n",
              "0           0    aberrant  Ironically, the aptly named \"Brain\" virus, the...\n",
              "1           1  aberration  **Hollywood's A-listers are full of surprises,...\n",
              "2           2      abjure  Tom Hanks abjured 50 pounds for Cast Away, onl...\n",
              "3           3  aboveboard  Aboveboard Barack Obama became the first Afric...\n",
              "4           4    abrogate  Khloé Kardashian's ventriloquism talent is so ..."
            ],
            "text/html": [
              "\n",
              "  <div id=\"df-7cbb4d5a-9461-4b99-b678-95b1264dba3e\" class=\"colab-df-container\">\n",
              "    <div>\n",
              "<style scoped>\n",
              "    .dataframe tbody tr th:only-of-type {\n",
              "        vertical-align: middle;\n",
              "    }\n",
              "\n",
              "    .dataframe tbody tr th {\n",
              "        vertical-align: top;\n",
              "    }\n",
              "\n",
              "    .dataframe thead th {\n",
              "        text-align: right;\n",
              "    }\n",
              "</style>\n",
              "<table border=\"1\" class=\"dataframe\">\n",
              "  <thead>\n",
              "    <tr style=\"text-align: right;\">\n",
              "      <th></th>\n",
              "      <th>Unnamed: 0</th>\n",
              "      <th>0</th>\n",
              "      <th>1</th>\n",
              "    </tr>\n",
              "  </thead>\n",
              "  <tbody>\n",
              "    <tr>\n",
              "      <th>0</th>\n",
              "      <td>0</td>\n",
              "      <td>aberrant</td>\n",
              "      <td>Ironically, the aptly named \"Brain\" virus, the...</td>\n",
              "    </tr>\n",
              "    <tr>\n",
              "      <th>1</th>\n",
              "      <td>1</td>\n",
              "      <td>aberration</td>\n",
              "      <td>**Hollywood's A-listers are full of surprises,...</td>\n",
              "    </tr>\n",
              "    <tr>\n",
              "      <th>2</th>\n",
              "      <td>2</td>\n",
              "      <td>abjure</td>\n",
              "      <td>Tom Hanks abjured 50 pounds for Cast Away, onl...</td>\n",
              "    </tr>\n",
              "    <tr>\n",
              "      <th>3</th>\n",
              "      <td>3</td>\n",
              "      <td>aboveboard</td>\n",
              "      <td>Aboveboard Barack Obama became the first Afric...</td>\n",
              "    </tr>\n",
              "    <tr>\n",
              "      <th>4</th>\n",
              "      <td>4</td>\n",
              "      <td>abrogate</td>\n",
              "      <td>Khloé Kardashian's ventriloquism talent is so ...</td>\n",
              "    </tr>\n",
              "  </tbody>\n",
              "</table>\n",
              "</div>\n",
              "    <div class=\"colab-df-buttons\">\n",
              "\n",
              "  <div class=\"colab-df-container\">\n",
              "    <button class=\"colab-df-convert\" onclick=\"convertToInteractive('df-7cbb4d5a-9461-4b99-b678-95b1264dba3e')\"\n",
              "            title=\"Convert this dataframe to an interactive table.\"\n",
              "            style=\"display:none;\">\n",
              "\n",
              "  <svg xmlns=\"http://www.w3.org/2000/svg\" height=\"24px\" viewBox=\"0 -960 960 960\">\n",
              "    <path d=\"M120-120v-720h720v720H120Zm60-500h600v-160H180v160Zm220 220h160v-160H400v160Zm0 220h160v-160H400v160ZM180-400h160v-160H180v160Zm440 0h160v-160H620v160ZM180-180h160v-160H180v160Zm440 0h160v-160H620v160Z\"/>\n",
              "  </svg>\n",
              "    </button>\n",
              "\n",
              "  <style>\n",
              "    .colab-df-container {\n",
              "      display:flex;\n",
              "      gap: 12px;\n",
              "    }\n",
              "\n",
              "    .colab-df-convert {\n",
              "      background-color: #E8F0FE;\n",
              "      border: none;\n",
              "      border-radius: 50%;\n",
              "      cursor: pointer;\n",
              "      display: none;\n",
              "      fill: #1967D2;\n",
              "      height: 32px;\n",
              "      padding: 0 0 0 0;\n",
              "      width: 32px;\n",
              "    }\n",
              "\n",
              "    .colab-df-convert:hover {\n",
              "      background-color: #E2EBFA;\n",
              "      box-shadow: 0px 1px 2px rgba(60, 64, 67, 0.3), 0px 1px 3px 1px rgba(60, 64, 67, 0.15);\n",
              "      fill: #174EA6;\n",
              "    }\n",
              "\n",
              "    .colab-df-buttons div {\n",
              "      margin-bottom: 4px;\n",
              "    }\n",
              "\n",
              "    [theme=dark] .colab-df-convert {\n",
              "      background-color: #3B4455;\n",
              "      fill: #D2E3FC;\n",
              "    }\n",
              "\n",
              "    [theme=dark] .colab-df-convert:hover {\n",
              "      background-color: #434B5C;\n",
              "      box-shadow: 0px 1px 3px 1px rgba(0, 0, 0, 0.15);\n",
              "      filter: drop-shadow(0px 1px 2px rgba(0, 0, 0, 0.3));\n",
              "      fill: #FFFFFF;\n",
              "    }\n",
              "  </style>\n",
              "\n",
              "    <script>\n",
              "      const buttonEl =\n",
              "        document.querySelector('#df-7cbb4d5a-9461-4b99-b678-95b1264dba3e button.colab-df-convert');\n",
              "      buttonEl.style.display =\n",
              "        google.colab.kernel.accessAllowed ? 'block' : 'none';\n",
              "\n",
              "      async function convertToInteractive(key) {\n",
              "        const element = document.querySelector('#df-7cbb4d5a-9461-4b99-b678-95b1264dba3e');\n",
              "        const dataTable =\n",
              "          await google.colab.kernel.invokeFunction('convertToInteractive',\n",
              "                                                    [key], {});\n",
              "        if (!dataTable) return;\n",
              "\n",
              "        const docLinkHtml = 'Like what you see? Visit the ' +\n",
              "          '<a target=\"_blank\" href=https://colab.research.google.com/notebooks/data_table.ipynb>data table notebook</a>'\n",
              "          + ' to learn more about interactive tables.';\n",
              "        element.innerHTML = '';\n",
              "        dataTable['output_type'] = 'display_data';\n",
              "        await google.colab.output.renderOutput(dataTable, element);\n",
              "        const docLink = document.createElement('div');\n",
              "        docLink.innerHTML = docLinkHtml;\n",
              "        element.appendChild(docLink);\n",
              "      }\n",
              "    </script>\n",
              "  </div>\n",
              "\n",
              "\n",
              "<div id=\"df-f687bf40-7489-4d52-9bd8-7e1d5495aafb\">\n",
              "  <button class=\"colab-df-quickchart\" onclick=\"quickchart('df-f687bf40-7489-4d52-9bd8-7e1d5495aafb')\"\n",
              "            title=\"Suggest charts\"\n",
              "            style=\"display:none;\">\n",
              "\n",
              "<svg xmlns=\"http://www.w3.org/2000/svg\" height=\"24px\"viewBox=\"0 0 24 24\"\n",
              "     width=\"24px\">\n",
              "    <g>\n",
              "        <path d=\"M19 3H5c-1.1 0-2 .9-2 2v14c0 1.1.9 2 2 2h14c1.1 0 2-.9 2-2V5c0-1.1-.9-2-2-2zM9 17H7v-7h2v7zm4 0h-2V7h2v10zm4 0h-2v-4h2v4z\"/>\n",
              "    </g>\n",
              "</svg>\n",
              "  </button>\n",
              "\n",
              "<style>\n",
              "  .colab-df-quickchart {\n",
              "      --bg-color: #E8F0FE;\n",
              "      --fill-color: #1967D2;\n",
              "      --hover-bg-color: #E2EBFA;\n",
              "      --hover-fill-color: #174EA6;\n",
              "      --disabled-fill-color: #AAA;\n",
              "      --disabled-bg-color: #DDD;\n",
              "  }\n",
              "\n",
              "  [theme=dark] .colab-df-quickchart {\n",
              "      --bg-color: #3B4455;\n",
              "      --fill-color: #D2E3FC;\n",
              "      --hover-bg-color: #434B5C;\n",
              "      --hover-fill-color: #FFFFFF;\n",
              "      --disabled-bg-color: #3B4455;\n",
              "      --disabled-fill-color: #666;\n",
              "  }\n",
              "\n",
              "  .colab-df-quickchart {\n",
              "    background-color: var(--bg-color);\n",
              "    border: none;\n",
              "    border-radius: 50%;\n",
              "    cursor: pointer;\n",
              "    display: none;\n",
              "    fill: var(--fill-color);\n",
              "    height: 32px;\n",
              "    padding: 0;\n",
              "    width: 32px;\n",
              "  }\n",
              "\n",
              "  .colab-df-quickchart:hover {\n",
              "    background-color: var(--hover-bg-color);\n",
              "    box-shadow: 0 1px 2px rgba(60, 64, 67, 0.3), 0 1px 3px 1px rgba(60, 64, 67, 0.15);\n",
              "    fill: var(--button-hover-fill-color);\n",
              "  }\n",
              "\n",
              "  .colab-df-quickchart-complete:disabled,\n",
              "  .colab-df-quickchart-complete:disabled:hover {\n",
              "    background-color: var(--disabled-bg-color);\n",
              "    fill: var(--disabled-fill-color);\n",
              "    box-shadow: none;\n",
              "  }\n",
              "\n",
              "  .colab-df-spinner {\n",
              "    border: 2px solid var(--fill-color);\n",
              "    border-color: transparent;\n",
              "    border-bottom-color: var(--fill-color);\n",
              "    animation:\n",
              "      spin 1s steps(1) infinite;\n",
              "  }\n",
              "\n",
              "  @keyframes spin {\n",
              "    0% {\n",
              "      border-color: transparent;\n",
              "      border-bottom-color: var(--fill-color);\n",
              "      border-left-color: var(--fill-color);\n",
              "    }\n",
              "    20% {\n",
              "      border-color: transparent;\n",
              "      border-left-color: var(--fill-color);\n",
              "      border-top-color: var(--fill-color);\n",
              "    }\n",
              "    30% {\n",
              "      border-color: transparent;\n",
              "      border-left-color: var(--fill-color);\n",
              "      border-top-color: var(--fill-color);\n",
              "      border-right-color: var(--fill-color);\n",
              "    }\n",
              "    40% {\n",
              "      border-color: transparent;\n",
              "      border-right-color: var(--fill-color);\n",
              "      border-top-color: var(--fill-color);\n",
              "    }\n",
              "    60% {\n",
              "      border-color: transparent;\n",
              "      border-right-color: var(--fill-color);\n",
              "    }\n",
              "    80% {\n",
              "      border-color: transparent;\n",
              "      border-right-color: var(--fill-color);\n",
              "      border-bottom-color: var(--fill-color);\n",
              "    }\n",
              "    90% {\n",
              "      border-color: transparent;\n",
              "      border-bottom-color: var(--fill-color);\n",
              "    }\n",
              "  }\n",
              "</style>\n",
              "\n",
              "  <script>\n",
              "    async function quickchart(key) {\n",
              "      const quickchartButtonEl =\n",
              "        document.querySelector('#' + key + ' button');\n",
              "      quickchartButtonEl.disabled = true;  // To prevent multiple clicks.\n",
              "      quickchartButtonEl.classList.add('colab-df-spinner');\n",
              "      try {\n",
              "        const charts = await google.colab.kernel.invokeFunction(\n",
              "            'suggestCharts', [key], {});\n",
              "      } catch (error) {\n",
              "        console.error('Error during call to suggestCharts:', error);\n",
              "      }\n",
              "      quickchartButtonEl.classList.remove('colab-df-spinner');\n",
              "      quickchartButtonEl.classList.add('colab-df-quickchart-complete');\n",
              "    }\n",
              "    (() => {\n",
              "      let quickchartButtonEl =\n",
              "        document.querySelector('#df-f687bf40-7489-4d52-9bd8-7e1d5495aafb button');\n",
              "      quickchartButtonEl.style.display =\n",
              "        google.colab.kernel.accessAllowed ? 'block' : 'none';\n",
              "    })();\n",
              "  </script>\n",
              "</div>\n",
              "\n",
              "    </div>\n",
              "  </div>\n"
            ],
            "application/vnd.google.colaboratory.intrinsic+json": {
              "type": "dataframe",
              "variable_name": "df",
              "summary": "{\n  \"name\": \"df\",\n  \"rows\": 440,\n  \"fields\": [\n    {\n      \"column\": \"Unnamed: 0\",\n      \"properties\": {\n        \"dtype\": \"number\",\n        \"std\": 127,\n        \"min\": 0,\n        \"max\": 439,\n        \"num_unique_values\": 440,\n        \"samples\": [\n          265,\n          78,\n          347\n        ],\n        \"semantic_type\": \"\",\n        \"description\": \"\"\n      }\n    },\n    {\n      \"column\": \"0\",\n      \"properties\": {\n        \"dtype\": \"string\",\n        \"num_unique_values\": 440,\n        \"samples\": [\n          \"obstreperous\",\n          \"convoluted\",\n          \"resolve\"\n        ],\n        \"semantic_type\": \"\",\n        \"description\": \"\"\n      }\n    },\n    {\n      \"column\": \"1\",\n      \"properties\": {\n        \"dtype\": \"string\",\n        \"num_unique_values\": 440,\n        \"samples\": [\n          \"In her early Instagram days, Kylie Jenner obstreperously boasted about using a ludicrous 12-15 lipsticks daily.\",\n          \"Ironically, the convoluted Japanese pronunciation of the English name \\\"Ash\\\" resulted in the character Ash Ketchum being named Satoshi in the original Japanese version of Pok\\u00e9mon.\",\n          \"Despite her immense popularity, Selena Gomez's thirst for attention was finally resolved when her Instagram photo of a Coca-Cola became the most-liked ever.\"\n        ],\n        \"semantic_type\": \"\",\n        \"description\": \"\"\n      }\n    }\n  ]\n}"
            }
          },
          "metadata": {},
          "execution_count": 4
        }
      ]
    },
    {
      "cell_type": "code",
      "source": [
        "from weasyprint import HTML, CSS\n",
        "from weasyprint.text.fonts import FontConfiguration\n",
        "from PyDictionary import PyDictionary\n",
        "dictionary=PyDictionary()\n",
        "import pandas as pd\n",
        "for i,row in df.iterrows():\n",
        "  font_config = FontConfiguration()\n",
        "  #print(row[0],row[1],row[2])\n",
        "  meaning=dictionary.meaning(row[1])\n",
        "  s=f'<h1>{row[1]}:{row[2]}</h1> <h2>{meaning}</h2>'\n",
        "  html = HTML(string=s)\n",
        "\n",
        "  html.write_pdf(\n",
        "      f'./exam_{row[1]}.pdf',\n",
        "      font_config=font_config)"
      ],
      "metadata": {
        "colab": {
          "base_uri": "https://localhost:8080/",
          "height": 373
        },
        "id": "mBm-H1PxGvtJ",
        "outputId": "3d95e0a8-178c-4658-d8fe-83359aca9d6a"
      },
      "execution_count": 9,
      "outputs": [
        {
          "output_type": "stream",
          "name": "stdout",
          "text": [
            "Error: The Following Error occured: list index out of range\n"
          ]
        },
        {
          "output_type": "error",
          "ename": "KeyboardInterrupt",
          "evalue": "",
          "traceback": [
            "\u001b[0;31m---------------------------------------------------------------------------\u001b[0m",
            "\u001b[0;31mKeyboardInterrupt\u001b[0m                         Traceback (most recent call last)",
            "\u001b[0;32m<ipython-input-9-8dc42d0d0a3f>\u001b[0m in \u001b[0;36m<cell line: 6>\u001b[0;34m()\u001b[0m\n\u001b[1;32m      7\u001b[0m   \u001b[0mfont_config\u001b[0m \u001b[0;34m=\u001b[0m \u001b[0mFontConfiguration\u001b[0m\u001b[0;34m(\u001b[0m\u001b[0;34m)\u001b[0m\u001b[0;34m\u001b[0m\u001b[0;34m\u001b[0m\u001b[0m\n\u001b[1;32m      8\u001b[0m   \u001b[0;31m#print(row[0],row[1],row[2])\u001b[0m\u001b[0;34m\u001b[0m\u001b[0;34m\u001b[0m\u001b[0m\n\u001b[0;32m----> 9\u001b[0;31m   \u001b[0mmeaning\u001b[0m\u001b[0;34m=\u001b[0m\u001b[0mdictionary\u001b[0m\u001b[0;34m.\u001b[0m\u001b[0mmeaning\u001b[0m\u001b[0;34m(\u001b[0m\u001b[0mrow\u001b[0m\u001b[0;34m[\u001b[0m\u001b[0;36m1\u001b[0m\u001b[0;34m]\u001b[0m\u001b[0;34m)\u001b[0m\u001b[0;34m\u001b[0m\u001b[0;34m\u001b[0m\u001b[0m\n\u001b[0m\u001b[1;32m     10\u001b[0m   \u001b[0ms\u001b[0m\u001b[0;34m=\u001b[0m\u001b[0;34mf'<h1>{row[1]}:{row[2]}</h1> <h2>{meaning}</h2>'\u001b[0m\u001b[0;34m\u001b[0m\u001b[0;34m\u001b[0m\u001b[0m\n\u001b[1;32m     11\u001b[0m   \u001b[0mhtml\u001b[0m \u001b[0;34m=\u001b[0m \u001b[0mHTML\u001b[0m\u001b[0;34m(\u001b[0m\u001b[0mstring\u001b[0m\u001b[0;34m=\u001b[0m\u001b[0ms\u001b[0m\u001b[0;34m)\u001b[0m\u001b[0;34m\u001b[0m\u001b[0;34m\u001b[0m\u001b[0m\n",
            "\u001b[0;32m/usr/local/lib/python3.10/dist-packages/PyDictionary/core.py\u001b[0m in \u001b[0;36mmeaning\u001b[0;34m(term, disable_errors)\u001b[0m\n\u001b[1;32m    117\u001b[0m         \u001b[0;32melse\u001b[0m\u001b[0;34m:\u001b[0m\u001b[0;34m\u001b[0m\u001b[0;34m\u001b[0m\u001b[0m\n\u001b[1;32m    118\u001b[0m             \u001b[0;32mtry\u001b[0m\u001b[0;34m:\u001b[0m\u001b[0;34m\u001b[0m\u001b[0;34m\u001b[0m\u001b[0m\n\u001b[0;32m--> 119\u001b[0;31m                 html = _get_soup_object(\"http://wordnetweb.princeton.edu/perl/webwn?s={0}\".format(\n\u001b[0m\u001b[1;32m    120\u001b[0m                     term))\n\u001b[1;32m    121\u001b[0m                 \u001b[0mtypes\u001b[0m \u001b[0;34m=\u001b[0m \u001b[0mhtml\u001b[0m\u001b[0;34m.\u001b[0m\u001b[0mfindAll\u001b[0m\u001b[0;34m(\u001b[0m\u001b[0;34m\"h3\"\u001b[0m\u001b[0;34m)\u001b[0m\u001b[0;34m\u001b[0m\u001b[0;34m\u001b[0m\u001b[0m\n",
            "\u001b[0;32m/usr/local/lib/python3.10/dist-packages/PyDictionary/utils.py\u001b[0m in \u001b[0;36m_get_soup_object\u001b[0;34m(url, parser)\u001b[0m\n\u001b[1;32m      3\u001b[0m \u001b[0;34m\u001b[0m\u001b[0m\n\u001b[1;32m      4\u001b[0m \u001b[0;32mdef\u001b[0m \u001b[0m_get_soup_object\u001b[0m\u001b[0;34m(\u001b[0m\u001b[0murl\u001b[0m\u001b[0;34m,\u001b[0m \u001b[0mparser\u001b[0m\u001b[0;34m=\u001b[0m\u001b[0;34m\"html.parser\"\u001b[0m\u001b[0;34m)\u001b[0m\u001b[0;34m:\u001b[0m\u001b[0;34m\u001b[0m\u001b[0;34m\u001b[0m\u001b[0m\n\u001b[0;32m----> 5\u001b[0;31m     \u001b[0;32mreturn\u001b[0m \u001b[0mBeautifulSoup\u001b[0m\u001b[0;34m(\u001b[0m\u001b[0mrequests\u001b[0m\u001b[0;34m.\u001b[0m\u001b[0mget\u001b[0m\u001b[0;34m(\u001b[0m\u001b[0murl\u001b[0m\u001b[0;34m)\u001b[0m\u001b[0;34m.\u001b[0m\u001b[0mtext\u001b[0m\u001b[0;34m,\u001b[0m \u001b[0mparser\u001b[0m\u001b[0;34m)\u001b[0m\u001b[0;34m\u001b[0m\u001b[0;34m\u001b[0m\u001b[0m\n\u001b[0m",
            "\u001b[0;32m/usr/local/lib/python3.10/dist-packages/requests/api.py\u001b[0m in \u001b[0;36mget\u001b[0;34m(url, params, **kwargs)\u001b[0m\n\u001b[1;32m     71\u001b[0m     \"\"\"\n\u001b[1;32m     72\u001b[0m \u001b[0;34m\u001b[0m\u001b[0m\n\u001b[0;32m---> 73\u001b[0;31m     \u001b[0;32mreturn\u001b[0m \u001b[0mrequest\u001b[0m\u001b[0;34m(\u001b[0m\u001b[0;34m\"get\"\u001b[0m\u001b[0;34m,\u001b[0m \u001b[0murl\u001b[0m\u001b[0;34m,\u001b[0m \u001b[0mparams\u001b[0m\u001b[0;34m=\u001b[0m\u001b[0mparams\u001b[0m\u001b[0;34m,\u001b[0m \u001b[0;34m**\u001b[0m\u001b[0mkwargs\u001b[0m\u001b[0;34m)\u001b[0m\u001b[0;34m\u001b[0m\u001b[0;34m\u001b[0m\u001b[0m\n\u001b[0m\u001b[1;32m     74\u001b[0m \u001b[0;34m\u001b[0m\u001b[0m\n\u001b[1;32m     75\u001b[0m \u001b[0;34m\u001b[0m\u001b[0m\n",
            "\u001b[0;32m/usr/local/lib/python3.10/dist-packages/requests/api.py\u001b[0m in \u001b[0;36mrequest\u001b[0;34m(method, url, **kwargs)\u001b[0m\n\u001b[1;32m     57\u001b[0m     \u001b[0;31m# cases, and look like a memory leak in others.\u001b[0m\u001b[0;34m\u001b[0m\u001b[0;34m\u001b[0m\u001b[0m\n\u001b[1;32m     58\u001b[0m     \u001b[0;32mwith\u001b[0m \u001b[0msessions\u001b[0m\u001b[0;34m.\u001b[0m\u001b[0mSession\u001b[0m\u001b[0;34m(\u001b[0m\u001b[0;34m)\u001b[0m \u001b[0;32mas\u001b[0m \u001b[0msession\u001b[0m\u001b[0;34m:\u001b[0m\u001b[0;34m\u001b[0m\u001b[0;34m\u001b[0m\u001b[0m\n\u001b[0;32m---> 59\u001b[0;31m         \u001b[0;32mreturn\u001b[0m \u001b[0msession\u001b[0m\u001b[0;34m.\u001b[0m\u001b[0mrequest\u001b[0m\u001b[0;34m(\u001b[0m\u001b[0mmethod\u001b[0m\u001b[0;34m=\u001b[0m\u001b[0mmethod\u001b[0m\u001b[0;34m,\u001b[0m \u001b[0murl\u001b[0m\u001b[0;34m=\u001b[0m\u001b[0murl\u001b[0m\u001b[0;34m,\u001b[0m \u001b[0;34m**\u001b[0m\u001b[0mkwargs\u001b[0m\u001b[0;34m)\u001b[0m\u001b[0;34m\u001b[0m\u001b[0;34m\u001b[0m\u001b[0m\n\u001b[0m\u001b[1;32m     60\u001b[0m \u001b[0;34m\u001b[0m\u001b[0m\n\u001b[1;32m     61\u001b[0m \u001b[0;34m\u001b[0m\u001b[0m\n",
            "\u001b[0;32m/usr/local/lib/python3.10/dist-packages/requests/sessions.py\u001b[0m in \u001b[0;36mrequest\u001b[0;34m(self, method, url, params, data, headers, cookies, files, auth, timeout, allow_redirects, proxies, hooks, stream, verify, cert, json)\u001b[0m\n\u001b[1;32m    587\u001b[0m         }\n\u001b[1;32m    588\u001b[0m         \u001b[0msend_kwargs\u001b[0m\u001b[0;34m.\u001b[0m\u001b[0mupdate\u001b[0m\u001b[0;34m(\u001b[0m\u001b[0msettings\u001b[0m\u001b[0;34m)\u001b[0m\u001b[0;34m\u001b[0m\u001b[0;34m\u001b[0m\u001b[0m\n\u001b[0;32m--> 589\u001b[0;31m         \u001b[0mresp\u001b[0m \u001b[0;34m=\u001b[0m \u001b[0mself\u001b[0m\u001b[0;34m.\u001b[0m\u001b[0msend\u001b[0m\u001b[0;34m(\u001b[0m\u001b[0mprep\u001b[0m\u001b[0;34m,\u001b[0m \u001b[0;34m**\u001b[0m\u001b[0msend_kwargs\u001b[0m\u001b[0;34m)\u001b[0m\u001b[0;34m\u001b[0m\u001b[0;34m\u001b[0m\u001b[0m\n\u001b[0m\u001b[1;32m    590\u001b[0m \u001b[0;34m\u001b[0m\u001b[0m\n\u001b[1;32m    591\u001b[0m         \u001b[0;32mreturn\u001b[0m \u001b[0mresp\u001b[0m\u001b[0;34m\u001b[0m\u001b[0;34m\u001b[0m\u001b[0m\n",
            "\u001b[0;32m/usr/local/lib/python3.10/dist-packages/requests/sessions.py\u001b[0m in \u001b[0;36msend\u001b[0;34m(self, request, **kwargs)\u001b[0m\n\u001b[1;32m    701\u001b[0m \u001b[0;34m\u001b[0m\u001b[0m\n\u001b[1;32m    702\u001b[0m         \u001b[0;31m# Send the request\u001b[0m\u001b[0;34m\u001b[0m\u001b[0;34m\u001b[0m\u001b[0m\n\u001b[0;32m--> 703\u001b[0;31m         \u001b[0mr\u001b[0m \u001b[0;34m=\u001b[0m \u001b[0madapter\u001b[0m\u001b[0;34m.\u001b[0m\u001b[0msend\u001b[0m\u001b[0;34m(\u001b[0m\u001b[0mrequest\u001b[0m\u001b[0;34m,\u001b[0m \u001b[0;34m**\u001b[0m\u001b[0mkwargs\u001b[0m\u001b[0;34m)\u001b[0m\u001b[0;34m\u001b[0m\u001b[0;34m\u001b[0m\u001b[0m\n\u001b[0m\u001b[1;32m    704\u001b[0m \u001b[0;34m\u001b[0m\u001b[0m\n\u001b[1;32m    705\u001b[0m         \u001b[0;31m# Total elapsed time of the request (approximately)\u001b[0m\u001b[0;34m\u001b[0m\u001b[0;34m\u001b[0m\u001b[0m\n",
            "\u001b[0;32m/usr/local/lib/python3.10/dist-packages/requests/adapters.py\u001b[0m in \u001b[0;36msend\u001b[0;34m(self, request, stream, timeout, verify, cert, proxies)\u001b[0m\n\u001b[1;32m    484\u001b[0m \u001b[0;34m\u001b[0m\u001b[0m\n\u001b[1;32m    485\u001b[0m         \u001b[0;32mtry\u001b[0m\u001b[0;34m:\u001b[0m\u001b[0;34m\u001b[0m\u001b[0;34m\u001b[0m\u001b[0m\n\u001b[0;32m--> 486\u001b[0;31m             resp = conn.urlopen(\n\u001b[0m\u001b[1;32m    487\u001b[0m                 \u001b[0mmethod\u001b[0m\u001b[0;34m=\u001b[0m\u001b[0mrequest\u001b[0m\u001b[0;34m.\u001b[0m\u001b[0mmethod\u001b[0m\u001b[0;34m,\u001b[0m\u001b[0;34m\u001b[0m\u001b[0;34m\u001b[0m\u001b[0m\n\u001b[1;32m    488\u001b[0m                 \u001b[0murl\u001b[0m\u001b[0;34m=\u001b[0m\u001b[0murl\u001b[0m\u001b[0;34m,\u001b[0m\u001b[0;34m\u001b[0m\u001b[0;34m\u001b[0m\u001b[0m\n",
            "\u001b[0;32m/usr/local/lib/python3.10/dist-packages/urllib3/connectionpool.py\u001b[0m in \u001b[0;36murlopen\u001b[0;34m(self, method, url, body, headers, retries, redirect, assert_same_host, timeout, pool_timeout, release_conn, chunked, body_pos, preload_content, decode_content, **response_kw)\u001b[0m\n\u001b[1;32m    789\u001b[0m \u001b[0;34m\u001b[0m\u001b[0m\n\u001b[1;32m    790\u001b[0m             \u001b[0;31m# Make the request on the HTTPConnection object\u001b[0m\u001b[0;34m\u001b[0m\u001b[0;34m\u001b[0m\u001b[0m\n\u001b[0;32m--> 791\u001b[0;31m             response = self._make_request(\n\u001b[0m\u001b[1;32m    792\u001b[0m                 \u001b[0mconn\u001b[0m\u001b[0;34m,\u001b[0m\u001b[0;34m\u001b[0m\u001b[0;34m\u001b[0m\u001b[0m\n\u001b[1;32m    793\u001b[0m                 \u001b[0mmethod\u001b[0m\u001b[0;34m,\u001b[0m\u001b[0;34m\u001b[0m\u001b[0;34m\u001b[0m\u001b[0m\n",
            "\u001b[0;32m/usr/local/lib/python3.10/dist-packages/urllib3/connectionpool.py\u001b[0m in \u001b[0;36m_make_request\u001b[0;34m(self, conn, method, url, body, headers, retries, timeout, chunked, response_conn, preload_content, decode_content, enforce_content_length)\u001b[0m\n\u001b[1;32m    535\u001b[0m         \u001b[0;31m# Receive the response from the server\u001b[0m\u001b[0;34m\u001b[0m\u001b[0;34m\u001b[0m\u001b[0m\n\u001b[1;32m    536\u001b[0m         \u001b[0;32mtry\u001b[0m\u001b[0;34m:\u001b[0m\u001b[0;34m\u001b[0m\u001b[0;34m\u001b[0m\u001b[0m\n\u001b[0;32m--> 537\u001b[0;31m             \u001b[0mresponse\u001b[0m \u001b[0;34m=\u001b[0m \u001b[0mconn\u001b[0m\u001b[0;34m.\u001b[0m\u001b[0mgetresponse\u001b[0m\u001b[0;34m(\u001b[0m\u001b[0;34m)\u001b[0m\u001b[0;34m\u001b[0m\u001b[0;34m\u001b[0m\u001b[0m\n\u001b[0m\u001b[1;32m    538\u001b[0m         \u001b[0;32mexcept\u001b[0m \u001b[0;34m(\u001b[0m\u001b[0mBaseSSLError\u001b[0m\u001b[0;34m,\u001b[0m \u001b[0mOSError\u001b[0m\u001b[0;34m)\u001b[0m \u001b[0;32mas\u001b[0m \u001b[0me\u001b[0m\u001b[0;34m:\u001b[0m\u001b[0;34m\u001b[0m\u001b[0;34m\u001b[0m\u001b[0m\n\u001b[1;32m    539\u001b[0m             \u001b[0mself\u001b[0m\u001b[0;34m.\u001b[0m\u001b[0m_raise_timeout\u001b[0m\u001b[0;34m(\u001b[0m\u001b[0merr\u001b[0m\u001b[0;34m=\u001b[0m\u001b[0me\u001b[0m\u001b[0;34m,\u001b[0m \u001b[0murl\u001b[0m\u001b[0;34m=\u001b[0m\u001b[0murl\u001b[0m\u001b[0;34m,\u001b[0m \u001b[0mtimeout_value\u001b[0m\u001b[0;34m=\u001b[0m\u001b[0mread_timeout\u001b[0m\u001b[0;34m)\u001b[0m\u001b[0;34m\u001b[0m\u001b[0;34m\u001b[0m\u001b[0m\n",
            "\u001b[0;32m/usr/local/lib/python3.10/dist-packages/urllib3/connection.py\u001b[0m in \u001b[0;36mgetresponse\u001b[0;34m(self)\u001b[0m\n\u001b[1;32m    459\u001b[0m \u001b[0;34m\u001b[0m\u001b[0m\n\u001b[1;32m    460\u001b[0m         \u001b[0;31m# Get the response from http.client.HTTPConnection\u001b[0m\u001b[0;34m\u001b[0m\u001b[0;34m\u001b[0m\u001b[0m\n\u001b[0;32m--> 461\u001b[0;31m         \u001b[0mhttplib_response\u001b[0m \u001b[0;34m=\u001b[0m \u001b[0msuper\u001b[0m\u001b[0;34m(\u001b[0m\u001b[0;34m)\u001b[0m\u001b[0;34m.\u001b[0m\u001b[0mgetresponse\u001b[0m\u001b[0;34m(\u001b[0m\u001b[0;34m)\u001b[0m\u001b[0;34m\u001b[0m\u001b[0;34m\u001b[0m\u001b[0m\n\u001b[0m\u001b[1;32m    462\u001b[0m \u001b[0;34m\u001b[0m\u001b[0m\n\u001b[1;32m    463\u001b[0m         \u001b[0;32mtry\u001b[0m\u001b[0;34m:\u001b[0m\u001b[0;34m\u001b[0m\u001b[0;34m\u001b[0m\u001b[0m\n",
            "\u001b[0;32m/usr/lib/python3.10/http/client.py\u001b[0m in \u001b[0;36mgetresponse\u001b[0;34m(self)\u001b[0m\n\u001b[1;32m   1373\u001b[0m         \u001b[0;32mtry\u001b[0m\u001b[0;34m:\u001b[0m\u001b[0;34m\u001b[0m\u001b[0;34m\u001b[0m\u001b[0m\n\u001b[1;32m   1374\u001b[0m             \u001b[0;32mtry\u001b[0m\u001b[0;34m:\u001b[0m\u001b[0;34m\u001b[0m\u001b[0;34m\u001b[0m\u001b[0m\n\u001b[0;32m-> 1375\u001b[0;31m                 \u001b[0mresponse\u001b[0m\u001b[0;34m.\u001b[0m\u001b[0mbegin\u001b[0m\u001b[0;34m(\u001b[0m\u001b[0;34m)\u001b[0m\u001b[0;34m\u001b[0m\u001b[0;34m\u001b[0m\u001b[0m\n\u001b[0m\u001b[1;32m   1376\u001b[0m             \u001b[0;32mexcept\u001b[0m \u001b[0mConnectionError\u001b[0m\u001b[0;34m:\u001b[0m\u001b[0;34m\u001b[0m\u001b[0;34m\u001b[0m\u001b[0m\n\u001b[1;32m   1377\u001b[0m                 \u001b[0mself\u001b[0m\u001b[0;34m.\u001b[0m\u001b[0mclose\u001b[0m\u001b[0;34m(\u001b[0m\u001b[0;34m)\u001b[0m\u001b[0;34m\u001b[0m\u001b[0;34m\u001b[0m\u001b[0m\n",
            "\u001b[0;32m/usr/lib/python3.10/http/client.py\u001b[0m in \u001b[0;36mbegin\u001b[0;34m(self)\u001b[0m\n\u001b[1;32m    316\u001b[0m         \u001b[0;31m# read until we get a non-100 response\u001b[0m\u001b[0;34m\u001b[0m\u001b[0;34m\u001b[0m\u001b[0m\n\u001b[1;32m    317\u001b[0m         \u001b[0;32mwhile\u001b[0m \u001b[0;32mTrue\u001b[0m\u001b[0;34m:\u001b[0m\u001b[0;34m\u001b[0m\u001b[0;34m\u001b[0m\u001b[0m\n\u001b[0;32m--> 318\u001b[0;31m             \u001b[0mversion\u001b[0m\u001b[0;34m,\u001b[0m \u001b[0mstatus\u001b[0m\u001b[0;34m,\u001b[0m \u001b[0mreason\u001b[0m \u001b[0;34m=\u001b[0m \u001b[0mself\u001b[0m\u001b[0;34m.\u001b[0m\u001b[0m_read_status\u001b[0m\u001b[0;34m(\u001b[0m\u001b[0;34m)\u001b[0m\u001b[0;34m\u001b[0m\u001b[0;34m\u001b[0m\u001b[0m\n\u001b[0m\u001b[1;32m    319\u001b[0m             \u001b[0;32mif\u001b[0m \u001b[0mstatus\u001b[0m \u001b[0;34m!=\u001b[0m \u001b[0mCONTINUE\u001b[0m\u001b[0;34m:\u001b[0m\u001b[0;34m\u001b[0m\u001b[0;34m\u001b[0m\u001b[0m\n\u001b[1;32m    320\u001b[0m                 \u001b[0;32mbreak\u001b[0m\u001b[0;34m\u001b[0m\u001b[0;34m\u001b[0m\u001b[0m\n",
            "\u001b[0;32m/usr/lib/python3.10/http/client.py\u001b[0m in \u001b[0;36m_read_status\u001b[0;34m(self)\u001b[0m\n\u001b[1;32m    277\u001b[0m \u001b[0;34m\u001b[0m\u001b[0m\n\u001b[1;32m    278\u001b[0m     \u001b[0;32mdef\u001b[0m \u001b[0m_read_status\u001b[0m\u001b[0;34m(\u001b[0m\u001b[0mself\u001b[0m\u001b[0;34m)\u001b[0m\u001b[0;34m:\u001b[0m\u001b[0;34m\u001b[0m\u001b[0;34m\u001b[0m\u001b[0m\n\u001b[0;32m--> 279\u001b[0;31m         \u001b[0mline\u001b[0m \u001b[0;34m=\u001b[0m \u001b[0mstr\u001b[0m\u001b[0;34m(\u001b[0m\u001b[0mself\u001b[0m\u001b[0;34m.\u001b[0m\u001b[0mfp\u001b[0m\u001b[0;34m.\u001b[0m\u001b[0mreadline\u001b[0m\u001b[0;34m(\u001b[0m\u001b[0m_MAXLINE\u001b[0m \u001b[0;34m+\u001b[0m \u001b[0;36m1\u001b[0m\u001b[0;34m)\u001b[0m\u001b[0;34m,\u001b[0m \u001b[0;34m\"iso-8859-1\"\u001b[0m\u001b[0;34m)\u001b[0m\u001b[0;34m\u001b[0m\u001b[0;34m\u001b[0m\u001b[0m\n\u001b[0m\u001b[1;32m    280\u001b[0m         \u001b[0;32mif\u001b[0m \u001b[0mlen\u001b[0m\u001b[0;34m(\u001b[0m\u001b[0mline\u001b[0m\u001b[0;34m)\u001b[0m \u001b[0;34m>\u001b[0m \u001b[0m_MAXLINE\u001b[0m\u001b[0;34m:\u001b[0m\u001b[0;34m\u001b[0m\u001b[0;34m\u001b[0m\u001b[0m\n\u001b[1;32m    281\u001b[0m             \u001b[0;32mraise\u001b[0m \u001b[0mLineTooLong\u001b[0m\u001b[0;34m(\u001b[0m\u001b[0;34m\"status line\"\u001b[0m\u001b[0;34m)\u001b[0m\u001b[0;34m\u001b[0m\u001b[0;34m\u001b[0m\u001b[0m\n",
            "\u001b[0;32m/usr/lib/python3.10/socket.py\u001b[0m in \u001b[0;36mreadinto\u001b[0;34m(self, b)\u001b[0m\n\u001b[1;32m    703\u001b[0m         \u001b[0;32mwhile\u001b[0m \u001b[0;32mTrue\u001b[0m\u001b[0;34m:\u001b[0m\u001b[0;34m\u001b[0m\u001b[0;34m\u001b[0m\u001b[0m\n\u001b[1;32m    704\u001b[0m             \u001b[0;32mtry\u001b[0m\u001b[0;34m:\u001b[0m\u001b[0;34m\u001b[0m\u001b[0;34m\u001b[0m\u001b[0m\n\u001b[0;32m--> 705\u001b[0;31m                 \u001b[0;32mreturn\u001b[0m \u001b[0mself\u001b[0m\u001b[0;34m.\u001b[0m\u001b[0m_sock\u001b[0m\u001b[0;34m.\u001b[0m\u001b[0mrecv_into\u001b[0m\u001b[0;34m(\u001b[0m\u001b[0mb\u001b[0m\u001b[0;34m)\u001b[0m\u001b[0;34m\u001b[0m\u001b[0;34m\u001b[0m\u001b[0m\n\u001b[0m\u001b[1;32m    706\u001b[0m             \u001b[0;32mexcept\u001b[0m \u001b[0mtimeout\u001b[0m\u001b[0;34m:\u001b[0m\u001b[0;34m\u001b[0m\u001b[0;34m\u001b[0m\u001b[0m\n\u001b[1;32m    707\u001b[0m                 \u001b[0mself\u001b[0m\u001b[0;34m.\u001b[0m\u001b[0m_timeout_occurred\u001b[0m \u001b[0;34m=\u001b[0m \u001b[0;32mTrue\u001b[0m\u001b[0;34m\u001b[0m\u001b[0;34m\u001b[0m\u001b[0m\n",
            "\u001b[0;31mKeyboardInterrupt\u001b[0m: "
          ]
        }
      ]
    },
    {
      "cell_type": "code",
      "source": [
        "pip install PyDictionary\n"
      ],
      "metadata": {
        "colab": {
          "base_uri": "https://localhost:8080/",
          "height": 620
        },
        "id": "spxOxs1fV5fR",
        "outputId": "723341b0-d809-463a-a20c-029035b13254"
      },
      "execution_count": 170,
      "outputs": [
        {
          "output_type": "stream",
          "name": "stdout",
          "text": [
            "Collecting PyDictionary\n",
            "  Downloading PyDictionary-2.0.1-py3-none-any.whl (6.1 kB)\n",
            "Collecting bs4 (from PyDictionary)\n",
            "  Downloading bs4-0.0.2-py2.py3-none-any.whl (1.2 kB)\n",
            "Requirement already satisfied: click in /usr/local/lib/python3.10/dist-packages (from PyDictionary) (8.1.7)\n",
            "Collecting goslate (from PyDictionary)\n",
            "  Downloading goslate-1.5.4.tar.gz (14 kB)\n",
            "  Preparing metadata (setup.py) ... \u001b[?25l\u001b[?25hdone\n",
            "Requirement already satisfied: requests in /usr/local/lib/python3.10/dist-packages (from PyDictionary) (2.31.0)\n",
            "Requirement already satisfied: beautifulsoup4 in /usr/local/lib/python3.10/dist-packages (from bs4->PyDictionary) (4.12.3)\n",
            "Collecting futures (from goslate->PyDictionary)\n",
            "  Downloading futures-3.0.5.tar.gz (25 kB)\n",
            "  Preparing metadata (setup.py) ... \u001b[?25l\u001b[?25hdone\n",
            "Requirement already satisfied: charset-normalizer<4,>=2 in /usr/local/lib/python3.10/dist-packages (from requests->PyDictionary) (3.3.2)\n",
            "Requirement already satisfied: idna<4,>=2.5 in /usr/local/lib/python3.10/dist-packages (from requests->PyDictionary) (3.7)\n",
            "Requirement already satisfied: urllib3<3,>=1.21.1 in /usr/local/lib/python3.10/dist-packages (from requests->PyDictionary) (2.0.7)\n",
            "Requirement already satisfied: certifi>=2017.4.17 in /usr/local/lib/python3.10/dist-packages (from requests->PyDictionary) (2024.2.2)\n",
            "Requirement already satisfied: soupsieve>1.2 in /usr/local/lib/python3.10/dist-packages (from beautifulsoup4->bs4->PyDictionary) (2.5)\n",
            "Building wheels for collected packages: goslate, futures\n",
            "  Building wheel for goslate (setup.py) ... \u001b[?25l\u001b[?25hdone\n",
            "  Created wheel for goslate: filename=goslate-1.5.4-py3-none-any.whl size=11577 sha256=7a7a8b7b3d3ecfa21f48a0082b89a3ece98b9ca064a59244aae12d04477aba85\n",
            "  Stored in directory: /root/.cache/pip/wheels/b5/30/e9/63b6de83667be2977ee793a146a2c80f8e588d5c0203b39dc9\n",
            "  Building wheel for futures (setup.py) ... \u001b[?25l\u001b[?25hdone\n",
            "  Created wheel for futures: filename=futures-3.0.5-py3-none-any.whl size=14067 sha256=a8c833821e8e0e9a37fbb96719a07fcda033928513574b2a7e90366c129cd07a\n",
            "  Stored in directory: /root/.cache/pip/wheels/ef/af/93/48739d464ba97d4cdc77c627d282f9794c8d276e42aaa92160\n",
            "Successfully built goslate futures\n",
            "Installing collected packages: futures, goslate, bs4, PyDictionary\n",
            "Successfully installed PyDictionary-2.0.1 bs4-0.0.2 futures-3.0.5 goslate-1.5.4\n"
          ]
        },
        {
          "output_type": "display_data",
          "data": {
            "application/vnd.colab-display-data+json": {
              "pip_warning": {
                "packages": [
                  "concurrent"
                ]
              },
              "id": "5206006d11664fe1afb5c46cdbb03afe"
            }
          },
          "metadata": {}
        }
      ]
    },
    {
      "cell_type": "code",
      "source": [
        "pip install pypdf"
      ],
      "metadata": {
        "colab": {
          "base_uri": "https://localhost:8080/"
        },
        "id": "c62Q-Pd1oCsC",
        "outputId": "dec849fc-52c3-49cd-891f-c00fa93b2254"
      },
      "execution_count": 10,
      "outputs": [
        {
          "output_type": "stream",
          "name": "stdout",
          "text": [
            "Collecting pypdf\n",
            "  Downloading pypdf-4.2.0-py3-none-any.whl (290 kB)\n",
            "\u001b[?25l     \u001b[90m━━━━━━━━━━━━━━━━━━━━━━━━━━━━━━━━━━━━━━━━\u001b[0m \u001b[32m0.0/290.4 kB\u001b[0m \u001b[31m?\u001b[0m eta \u001b[36m-:--:--\u001b[0m\r\u001b[2K     \u001b[91m━━━━━━━━━━━━━━━━━━━━━\u001b[0m\u001b[90m╺\u001b[0m\u001b[90m━━━━━━━━━━━━━━━━━━\u001b[0m \u001b[32m153.6/290.4 kB\u001b[0m \u001b[31m4.3 MB/s\u001b[0m eta \u001b[36m0:00:01\u001b[0m\r\u001b[2K     \u001b[90m━━━━━━━━━━━━━━━━━━━━━━━━━━━━━━━━━━━━━━━━\u001b[0m \u001b[32m290.4/290.4 kB\u001b[0m \u001b[31m5.4 MB/s\u001b[0m eta \u001b[36m0:00:00\u001b[0m\n",
            "\u001b[?25hRequirement already satisfied: typing_extensions>=4.0 in /usr/local/lib/python3.10/dist-packages (from pypdf) (4.11.0)\n",
            "Installing collected packages: pypdf\n",
            "Successfully installed pypdf-4.2.0\n"
          ]
        }
      ]
    },
    {
      "cell_type": "code",
      "source": [
        "from pypdf import PdfMerger\n",
        "pdfs = []\n",
        "\n",
        "for i,row in df.iterrows():\n",
        "  pdfs.append(f'exam_{row[1]}.pdf')\n",
        "  if i==30:\n",
        "    break\n",
        "\n",
        "merger = PdfMerger()\n",
        "\n",
        "for pdf in pdfs:\n",
        "  try:\n",
        "    merger.append(pdf)\n",
        "  except:\n",
        "    continue\n",
        "\n",
        "merger.write(\"result_.pdf\")\n",
        "merger.close()"
      ],
      "metadata": {
        "colab": {
          "base_uri": "https://localhost:8080/"
        },
        "id": "WICP5GPoZZtw",
        "outputId": "e5405309-ba0a-49ed-d9e2-8038b6b5bfb1"
      },
      "execution_count": 15,
      "outputs": [
        {
          "output_type": "stream",
          "name": "stderr",
          "text": [
            "<ipython-input-15-76bf6ec0f9ba>:9: DeprecationWarning: PdfMerger is deprecated and will be removed in pypdf 5.0.0. Use PdfWriter instead.\n",
            "  merger = PdfMerger()\n"
          ]
        }
      ]
    },
    {
      "cell_type": "code",
      "source": [],
      "metadata": {
        "id": "BJbofl2yoL-Y"
      },
      "execution_count": null,
      "outputs": []
    }
  ]
}